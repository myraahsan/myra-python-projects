{
 "cells": [
  {
   "cell_type": "markdown",
   "id": "ba01bacd",
   "metadata": {},
   "source": [
    "### Import libraries"
   ]
  },
  {
   "cell_type": "code",
   "execution_count": 1,
   "id": "fba0d436",
   "metadata": {},
   "outputs": [],
   "source": [
    "import pandas as pd\n",
    "import numpy as np\n",
    "import seaborn as sns\n",
    "import matplotlib\n",
    "import matplotlib.pyplot as plt\n",
    "import os\n",
    "import sklearn\n",
    "from sklearn.model_selection import train_test_split \n",
    "from sklearn.linear_model import LinearRegression\n",
    "from sklearn.metrics import mean_squared_error, r2_score"
   ]
  },
  {
   "cell_type": "markdown",
   "id": "efd1d408",
   "metadata": {},
   "source": [
    "### Import the dataset - 'df_merged2.csv'"
   ]
  },
  {
   "cell_type": "code",
   "execution_count": 2,
   "id": "459ece44",
   "metadata": {},
   "outputs": [],
   "source": [
    "df = pd.read_csv(r'C:\\Myra\\CareerFoundry\\Data Immersion\\Achievment 6\\df_merged2.csv', index_col = False)"
   ]
  },
  {
   "cell_type": "markdown",
   "id": "5c6e2ddc",
   "metadata": {},
   "source": [
    "### Data cleaning"
   ]
  },
  {
   "cell_type": "code",
   "execution_count": 3,
   "id": "6f8441b2",
   "metadata": {},
   "outputs": [
    {
     "data": {
      "text/plain": [
       "(239677, 26)"
      ]
     },
     "execution_count": 3,
     "metadata": {},
     "output_type": "execute_result"
    }
   ],
   "source": [
    "df.shape"
   ]
  },
  {
   "cell_type": "code",
   "execution_count": 6,
   "id": "16da74c2",
   "metadata": {},
   "outputs": [
    {
     "data": {
      "text/plain": [
       "Index(['incident_id', 'month', 'year', 'state', 'male_count', 'female_count',\n",
       "       'unknown_gender', 'child_0-11', 'teen_12-17', 'adult_18+',\n",
       "       'unknown_age_group', 'arrested', 'injured', 'killed', 'unharmed',\n",
       "       'unknown_status', 'suspect', 'victim', 'unknown_type', 'latitude',\n",
       "       'longitude', 'incident_url', 'source_url', 'sources',\n",
       "       'state_house_district', 'state_senate_district'],\n",
       "      dtype='object')"
      ]
     },
     "execution_count": 6,
     "metadata": {},
     "output_type": "execute_result"
    }
   ],
   "source": [
    "df.columns"
   ]
  },
  {
   "cell_type": "code",
   "execution_count": 7,
   "id": "e1277daa",
   "metadata": {},
   "outputs": [],
   "source": [
    "df_2 = df[['incident_id', 'month', 'year', 'state', 'male_count', 'female_count',\n",
    "       'unknown_gender', 'child_0-11', 'teen_12-17', 'adult_18+',\n",
    "       'unknown_age_group', 'arrested', 'injured', 'killed', 'unharmed',\n",
    "       'unknown_status', 'suspect', 'victim', 'unknown_type']]"
   ]
  },
  {
   "cell_type": "code",
   "execution_count": 8,
   "id": "e2c150a0",
   "metadata": {},
   "outputs": [
    {
     "data": {
      "text/html": [
       "<div>\n",
       "<style scoped>\n",
       "    .dataframe tbody tr th:only-of-type {\n",
       "        vertical-align: middle;\n",
       "    }\n",
       "\n",
       "    .dataframe tbody tr th {\n",
       "        vertical-align: top;\n",
       "    }\n",
       "\n",
       "    .dataframe thead th {\n",
       "        text-align: right;\n",
       "    }\n",
       "</style>\n",
       "<table border=\"1\" class=\"dataframe\">\n",
       "  <thead>\n",
       "    <tr style=\"text-align: right;\">\n",
       "      <th></th>\n",
       "      <th>incident_id</th>\n",
       "      <th>month</th>\n",
       "      <th>year</th>\n",
       "      <th>state</th>\n",
       "      <th>male_count</th>\n",
       "      <th>female_count</th>\n",
       "      <th>unknown_gender</th>\n",
       "      <th>child_0-11</th>\n",
       "      <th>teen_12-17</th>\n",
       "      <th>adult_18+</th>\n",
       "      <th>unknown_age_group</th>\n",
       "      <th>arrested</th>\n",
       "      <th>injured</th>\n",
       "      <th>killed</th>\n",
       "      <th>unharmed</th>\n",
       "      <th>unknown_status</th>\n",
       "      <th>suspect</th>\n",
       "      <th>victim</th>\n",
       "      <th>unknown_type</th>\n",
       "    </tr>\n",
       "  </thead>\n",
       "  <tbody>\n",
       "    <tr>\n",
       "      <th>0</th>\n",
       "      <td>461105</td>\n",
       "      <td>Jan</td>\n",
       "      <td>2013</td>\n",
       "      <td>Pennsylvania</td>\n",
       "      <td>3</td>\n",
       "      <td>1</td>\n",
       "      <td>1</td>\n",
       "      <td>0</td>\n",
       "      <td>0</td>\n",
       "      <td>5</td>\n",
       "      <td>0</td>\n",
       "      <td>1</td>\n",
       "      <td>4</td>\n",
       "      <td>0</td>\n",
       "      <td>0</td>\n",
       "      <td>0</td>\n",
       "      <td>1</td>\n",
       "      <td>4</td>\n",
       "      <td>0</td>\n",
       "    </tr>\n",
       "    <tr>\n",
       "      <th>1</th>\n",
       "      <td>460726</td>\n",
       "      <td>Jan</td>\n",
       "      <td>2013</td>\n",
       "      <td>California</td>\n",
       "      <td>1</td>\n",
       "      <td>0</td>\n",
       "      <td>4</td>\n",
       "      <td>0</td>\n",
       "      <td>0</td>\n",
       "      <td>4</td>\n",
       "      <td>1</td>\n",
       "      <td>0</td>\n",
       "      <td>3</td>\n",
       "      <td>1</td>\n",
       "      <td>0</td>\n",
       "      <td>1</td>\n",
       "      <td>1</td>\n",
       "      <td>4</td>\n",
       "      <td>0</td>\n",
       "    </tr>\n",
       "    <tr>\n",
       "      <th>2</th>\n",
       "      <td>478855</td>\n",
       "      <td>Jan</td>\n",
       "      <td>2013</td>\n",
       "      <td>Ohio</td>\n",
       "      <td>5</td>\n",
       "      <td>0</td>\n",
       "      <td>0</td>\n",
       "      <td>0</td>\n",
       "      <td>0</td>\n",
       "      <td>5</td>\n",
       "      <td>0</td>\n",
       "      <td>2</td>\n",
       "      <td>3</td>\n",
       "      <td>1</td>\n",
       "      <td>2</td>\n",
       "      <td>0</td>\n",
       "      <td>2</td>\n",
       "      <td>3</td>\n",
       "      <td>0</td>\n",
       "    </tr>\n",
       "    <tr>\n",
       "      <th>3</th>\n",
       "      <td>478925</td>\n",
       "      <td>Jan</td>\n",
       "      <td>2013</td>\n",
       "      <td>Colorado</td>\n",
       "      <td>3</td>\n",
       "      <td>1</td>\n",
       "      <td>0</td>\n",
       "      <td>0</td>\n",
       "      <td>0</td>\n",
       "      <td>4</td>\n",
       "      <td>0</td>\n",
       "      <td>0</td>\n",
       "      <td>0</td>\n",
       "      <td>4</td>\n",
       "      <td>0</td>\n",
       "      <td>0</td>\n",
       "      <td>1</td>\n",
       "      <td>3</td>\n",
       "      <td>0</td>\n",
       "    </tr>\n",
       "    <tr>\n",
       "      <th>4</th>\n",
       "      <td>478959</td>\n",
       "      <td>Jan</td>\n",
       "      <td>2013</td>\n",
       "      <td>North Carolina</td>\n",
       "      <td>2</td>\n",
       "      <td>2</td>\n",
       "      <td>0</td>\n",
       "      <td>0</td>\n",
       "      <td>1</td>\n",
       "      <td>3</td>\n",
       "      <td>0</td>\n",
       "      <td>0</td>\n",
       "      <td>2</td>\n",
       "      <td>2</td>\n",
       "      <td>0</td>\n",
       "      <td>0</td>\n",
       "      <td>1</td>\n",
       "      <td>3</td>\n",
       "      <td>0</td>\n",
       "    </tr>\n",
       "  </tbody>\n",
       "</table>\n",
       "</div>"
      ],
      "text/plain": [
       "   incident_id month  year           state  male_count  female_count  \\\n",
       "0       461105   Jan  2013    Pennsylvania           3             1   \n",
       "1       460726   Jan  2013      California           1             0   \n",
       "2       478855   Jan  2013            Ohio           5             0   \n",
       "3       478925   Jan  2013        Colorado           3             1   \n",
       "4       478959   Jan  2013  North Carolina           2             2   \n",
       "\n",
       "   unknown_gender  child_0-11  teen_12-17  adult_18+  unknown_age_group  \\\n",
       "0               1           0           0          5                  0   \n",
       "1               4           0           0          4                  1   \n",
       "2               0           0           0          5                  0   \n",
       "3               0           0           0          4                  0   \n",
       "4               0           0           1          3                  0   \n",
       "\n",
       "   arrested  injured  killed  unharmed  unknown_status  suspect  victim  \\\n",
       "0         1        4       0         0               0        1       4   \n",
       "1         0        3       1         0               1        1       4   \n",
       "2         2        3       1         2               0        2       3   \n",
       "3         0        0       4         0               0        1       3   \n",
       "4         0        2       2         0               0        1       3   \n",
       "\n",
       "   unknown_type  \n",
       "0             0  \n",
       "1             0  \n",
       "2             0  \n",
       "3             0  \n",
       "4             0  "
      ]
     },
     "execution_count": 8,
     "metadata": {},
     "output_type": "execute_result"
    }
   ],
   "source": [
    "df_2.head()"
   ]
  },
  {
   "cell_type": "code",
   "execution_count": 10,
   "id": "d68eae40",
   "metadata": {},
   "outputs": [
    {
     "data": {
      "text/plain": [
       "incident_id          0\n",
       "month                0\n",
       "year                 0\n",
       "state                0\n",
       "male_count           0\n",
       "female_count         0\n",
       "unknown_gender       0\n",
       "child_0-11           0\n",
       "teen_12-17           0\n",
       "adult_18+            0\n",
       "unknown_age_group    0\n",
       "arrested             0\n",
       "injured              0\n",
       "killed               0\n",
       "unharmed             0\n",
       "unknown_status       0\n",
       "suspect              0\n",
       "victim               0\n",
       "unknown_type         0\n",
       "dtype: int64"
      ]
     },
     "execution_count": 10,
     "metadata": {},
     "output_type": "execute_result"
    }
   ],
   "source": [
    "# Checking for null values\n",
    "df_2.isnull().sum()"
   ]
  },
  {
   "cell_type": "markdown",
   "id": "1d6f3e4b",
   "metadata": {},
   "source": [
    "### Hypothesis"
   ]
  },
  {
   "cell_type": "markdown",
   "id": "637c5975",
   "metadata": {},
   "source": [
    "#### The number of individuals arrested is positively correlated with the number of individuals killed or injured in gun violence incidents."
   ]
  },
  {
   "cell_type": "code",
   "execution_count": 31,
   "id": "e0f6e505",
   "metadata": {},
   "outputs": [
    {
     "name": "stderr",
     "output_type": "stream",
     "text": [
      "C:\\Users\\Myra Ahsan\\AppData\\Local\\Temp\\ipykernel_18976\\2547595095.py:2: SettingWithCopyWarning: \n",
      "A value is trying to be set on a copy of a slice from a DataFrame.\n",
      "Try using .loc[row_indexer,col_indexer] = value instead\n",
      "\n",
      "See the caveats in the documentation: https://pandas.pydata.org/pandas-docs/stable/user_guide/indexing.html#returning-a-view-versus-a-copy\n",
      "  df_2['killed_and_injured'] = df_2['killed'] + df_2['injured']\n"
     ]
    }
   ],
   "source": [
    "# Since we have seperate columns for people killed or injured, we need to make a column with their total before proceeding further\n"
   ]
  },
  {
   "cell_type": "code",
   "execution_count": 32,
   "id": "c7aa9476",
   "metadata": {},
   "outputs": [
    {
     "data": {
      "text/html": [
       "<div>\n",
       "<style scoped>\n",
       "    .dataframe tbody tr th:only-of-type {\n",
       "        vertical-align: middle;\n",
       "    }\n",
       "\n",
       "    .dataframe tbody tr th {\n",
       "        vertical-align: top;\n",
       "    }\n",
       "\n",
       "    .dataframe thead th {\n",
       "        text-align: right;\n",
       "    }\n",
       "</style>\n",
       "<table border=\"1\" class=\"dataframe\">\n",
       "  <thead>\n",
       "    <tr style=\"text-align: right;\">\n",
       "      <th></th>\n",
       "      <th>incident_id</th>\n",
       "      <th>month</th>\n",
       "      <th>year</th>\n",
       "      <th>state</th>\n",
       "      <th>male_count</th>\n",
       "      <th>female_count</th>\n",
       "      <th>unknown_gender</th>\n",
       "      <th>child_0-11</th>\n",
       "      <th>teen_12-17</th>\n",
       "      <th>adult_18+</th>\n",
       "      <th>unknown_age_group</th>\n",
       "      <th>arrested</th>\n",
       "      <th>injured</th>\n",
       "      <th>killed</th>\n",
       "      <th>unharmed</th>\n",
       "      <th>unknown_status</th>\n",
       "      <th>suspect</th>\n",
       "      <th>victim</th>\n",
       "      <th>unknown_type</th>\n",
       "      <th>killed_and_injured</th>\n",
       "    </tr>\n",
       "  </thead>\n",
       "  <tbody>\n",
       "    <tr>\n",
       "      <th>0</th>\n",
       "      <td>461105</td>\n",
       "      <td>Jan</td>\n",
       "      <td>2013</td>\n",
       "      <td>Pennsylvania</td>\n",
       "      <td>3</td>\n",
       "      <td>1</td>\n",
       "      <td>1</td>\n",
       "      <td>0</td>\n",
       "      <td>0</td>\n",
       "      <td>5</td>\n",
       "      <td>0</td>\n",
       "      <td>1</td>\n",
       "      <td>4</td>\n",
       "      <td>0</td>\n",
       "      <td>0</td>\n",
       "      <td>0</td>\n",
       "      <td>1</td>\n",
       "      <td>4</td>\n",
       "      <td>0</td>\n",
       "      <td>4</td>\n",
       "    </tr>\n",
       "    <tr>\n",
       "      <th>1</th>\n",
       "      <td>460726</td>\n",
       "      <td>Jan</td>\n",
       "      <td>2013</td>\n",
       "      <td>California</td>\n",
       "      <td>1</td>\n",
       "      <td>0</td>\n",
       "      <td>4</td>\n",
       "      <td>0</td>\n",
       "      <td>0</td>\n",
       "      <td>4</td>\n",
       "      <td>1</td>\n",
       "      <td>0</td>\n",
       "      <td>3</td>\n",
       "      <td>1</td>\n",
       "      <td>0</td>\n",
       "      <td>1</td>\n",
       "      <td>1</td>\n",
       "      <td>4</td>\n",
       "      <td>0</td>\n",
       "      <td>4</td>\n",
       "    </tr>\n",
       "    <tr>\n",
       "      <th>2</th>\n",
       "      <td>478855</td>\n",
       "      <td>Jan</td>\n",
       "      <td>2013</td>\n",
       "      <td>Ohio</td>\n",
       "      <td>5</td>\n",
       "      <td>0</td>\n",
       "      <td>0</td>\n",
       "      <td>0</td>\n",
       "      <td>0</td>\n",
       "      <td>5</td>\n",
       "      <td>0</td>\n",
       "      <td>2</td>\n",
       "      <td>3</td>\n",
       "      <td>1</td>\n",
       "      <td>2</td>\n",
       "      <td>0</td>\n",
       "      <td>2</td>\n",
       "      <td>3</td>\n",
       "      <td>0</td>\n",
       "      <td>4</td>\n",
       "    </tr>\n",
       "    <tr>\n",
       "      <th>3</th>\n",
       "      <td>478925</td>\n",
       "      <td>Jan</td>\n",
       "      <td>2013</td>\n",
       "      <td>Colorado</td>\n",
       "      <td>3</td>\n",
       "      <td>1</td>\n",
       "      <td>0</td>\n",
       "      <td>0</td>\n",
       "      <td>0</td>\n",
       "      <td>4</td>\n",
       "      <td>0</td>\n",
       "      <td>0</td>\n",
       "      <td>0</td>\n",
       "      <td>4</td>\n",
       "      <td>0</td>\n",
       "      <td>0</td>\n",
       "      <td>1</td>\n",
       "      <td>3</td>\n",
       "      <td>0</td>\n",
       "      <td>4</td>\n",
       "    </tr>\n",
       "    <tr>\n",
       "      <th>4</th>\n",
       "      <td>478959</td>\n",
       "      <td>Jan</td>\n",
       "      <td>2013</td>\n",
       "      <td>North Carolina</td>\n",
       "      <td>2</td>\n",
       "      <td>2</td>\n",
       "      <td>0</td>\n",
       "      <td>0</td>\n",
       "      <td>1</td>\n",
       "      <td>3</td>\n",
       "      <td>0</td>\n",
       "      <td>0</td>\n",
       "      <td>2</td>\n",
       "      <td>2</td>\n",
       "      <td>0</td>\n",
       "      <td>0</td>\n",
       "      <td>1</td>\n",
       "      <td>3</td>\n",
       "      <td>0</td>\n",
       "      <td>4</td>\n",
       "    </tr>\n",
       "  </tbody>\n",
       "</table>\n",
       "</div>"
      ],
      "text/plain": [
       "   incident_id month  year           state  male_count  female_count  \\\n",
       "0       461105   Jan  2013    Pennsylvania           3             1   \n",
       "1       460726   Jan  2013      California           1             0   \n",
       "2       478855   Jan  2013            Ohio           5             0   \n",
       "3       478925   Jan  2013        Colorado           3             1   \n",
       "4       478959   Jan  2013  North Carolina           2             2   \n",
       "\n",
       "   unknown_gender  child_0-11  teen_12-17  adult_18+  unknown_age_group  \\\n",
       "0               1           0           0          5                  0   \n",
       "1               4           0           0          4                  1   \n",
       "2               0           0           0          5                  0   \n",
       "3               0           0           0          4                  0   \n",
       "4               0           0           1          3                  0   \n",
       "\n",
       "   arrested  injured  killed  unharmed  unknown_status  suspect  victim  \\\n",
       "0         1        4       0         0               0        1       4   \n",
       "1         0        3       1         0               1        1       4   \n",
       "2         2        3       1         2               0        2       3   \n",
       "3         0        0       4         0               0        1       3   \n",
       "4         0        2       2         0               0        1       3   \n",
       "\n",
       "   unknown_type  killed_and_injured  \n",
       "0             0                   4  \n",
       "1             0                   4  \n",
       "2             0                   4  \n",
       "3             0                   4  \n",
       "4             0                   4  "
      ]
     },
     "execution_count": 32,
     "metadata": {},
     "output_type": "execute_result"
    }
   ],
   "source": [
    "df_2.head()"
   ]
  },
  {
   "cell_type": "markdown",
   "id": "eb89db0a",
   "metadata": {},
   "source": [
    "#### Checking for outliers"
   ]
  },
  {
   "cell_type": "code",
   "execution_count": 33,
   "id": "9da67733",
   "metadata": {},
   "outputs": [
    {
     "data": {
      "text/plain": [
       "<seaborn.axisgrid.FacetGrid at 0x1eedabf6620>"
      ]
     },
     "execution_count": 33,
     "metadata": {},
     "output_type": "execute_result"
    },
    {
     "data": {
      "image/png": "[encoded data removed]",
      "text/plain": [
       "<Figure size 500x500 with 1 Axes>"
      ]
     },
     "metadata": {},
     "output_type": "display_data"
    }
   ],
   "source": [
    "sns.lmplot(x = 'arrested', y = 'killed_and_injured', data = df_2)"
   ]
  },
  {
   "cell_type": "markdown",
   "id": "4b077236",
   "metadata": {},
   "source": [
    "The above scatterplot does not show any relation between people arrested and victims killed and/or injured in an incident. If anything it seems there is a slight negative relationship between the two variables. "
   ]
  },
  {
   "cell_type": "code",
   "execution_count": 35,
   "id": "7d2f933a",
   "metadata": {},
   "outputs": [
    {
     "data": {
      "text/plain": [
       "63"
      ]
     },
     "execution_count": 35,
     "metadata": {},
     "output_type": "execute_result"
    }
   ],
   "source": [
    "df_2['arrested'].max()"
   ]
  },
  {
   "cell_type": "code",
   "execution_count": 36,
   "id": "af488c33",
   "metadata": {},
   "outputs": [
    {
     "data": {
      "text/plain": [
       "103"
      ]
     },
     "execution_count": 36,
     "metadata": {},
     "output_type": "execute_result"
    }
   ],
   "source": [
    "df_2['killed_and_injured'].max()"
   ]
  },
  {
   "cell_type": "code",
   "execution_count": 37,
   "id": "e99199cc",
   "metadata": {},
   "outputs": [],
   "source": [
    "# Removing the two outliers to see if there is a significant change in the scatterplot\n",
    "df_3 = df_2[df_2['arrested'] != 63]"
   ]
  },
  {
   "cell_type": "code",
   "execution_count": 41,
   "id": "2d17848b",
   "metadata": {},
   "outputs": [],
   "source": [
    "df_3 = df_3[df_3['killed_and_injured'] != 103]"
   ]
  },
  {
   "cell_type": "code",
   "execution_count": 42,
   "id": "a1cbcadd",
   "metadata": {},
   "outputs": [
    {
     "data": {
      "text/plain": [
       "47"
      ]
     },
     "execution_count": 42,
     "metadata": {},
     "output_type": "execute_result"
    }
   ],
   "source": [
    "df_3['killed_and_injured'].max()"
   ]
  },
  {
   "cell_type": "code",
   "execution_count": 43,
   "id": "bf78eff6",
   "metadata": {},
   "outputs": [
    {
     "data": {
      "text/plain": [
       "35"
      ]
     },
     "execution_count": 43,
     "metadata": {},
     "output_type": "execute_result"
    }
   ],
   "source": [
    "df_3['arrested'].max()"
   ]
  },
  {
   "cell_type": "code",
   "execution_count": 44,
   "id": "e407da8b",
   "metadata": {},
   "outputs": [
    {
     "data": {
      "text/plain": [
       "<seaborn.axisgrid.FacetGrid at 0x1eedcaa01f0>"
      ]
     },
     "execution_count": 44,
     "metadata": {},
     "output_type": "execute_result"
    },
    {
     "data": {
      "image/png": "[encoded data removed]",
      "text/plain": [
       "<Figure size 500x500 with 1 Axes>"
      ]
     },
     "metadata": {},
     "output_type": "display_data"
    }
   ],
   "source": [
    "# Checking again after removing the two outliers\n",
    "sns.lmplot(x = 'arrested', y = 'killed_and_injured', data = df_3)"
   ]
  },
  {
   "cell_type": "markdown",
   "id": "be761c7b",
   "metadata": {},
   "source": [
    "The hypothesis which was stated in the earlier task proved to be incorrect as it is evident that both do not have a positive correlation. Therefore, we would not be working on this further. "
   ]
  },
  {
   "cell_type": "markdown",
   "id": "aa93a6df",
   "metadata": {},
   "source": [
    "### Hypothese #2"
   ]
  },
  {
   "cell_type": "markdown",
   "id": "f3a9f151",
   "metadata": {},
   "source": [
    "#### There is a positive correlation between suspects and adults involved aged above 18+ in gun violence incidents. "
   ]
  },
  {
   "cell_type": "markdown",
   "id": "e7174ed7",
   "metadata": {},
   "source": [
    "### Creating a scatterplot to understand the relationship between suspects and adults_18+"
   ]
  },
  {
   "cell_type": "code",
   "execution_count": 53,
   "id": "00273b84",
   "metadata": {},
   "outputs": [
    {
     "data": {
      "text/plain": [
       "<seaborn.axisgrid.FacetGrid at 0x1eedb965bd0>"
      ]
     },
     "execution_count": 53,
     "metadata": {},
     "output_type": "execute_result"
    },
    {
     "data": {
      "image/png": "[encoded data removed]",
      "text/plain": [
       "<Figure size 500x500 with 1 Axes>"
      ]
     },
     "metadata": {},
     "output_type": "display_data"
    }
   ],
   "source": [
    "sns.lmplot(x = 'suspect', y = 'adult_18+', data = df_2)"
   ]
  },
  {
   "cell_type": "code",
   "execution_count": 56,
   "id": "f958587d",
   "metadata": {},
   "outputs": [],
   "source": [
    "# Reshaping the variables into NumPy arrays and putting them into separate objects\n",
    "\n",
    "X = df_2['suspect'].values.reshape(-1,1)\n",
    "y = df_2['adult_18+'].values.reshape(-1,1)"
   ]
  },
  {
   "cell_type": "code",
   "execution_count": 57,
   "id": "d3205db2",
   "metadata": {},
   "outputs": [
    {
     "data": {
      "text/plain": [
       "array([[1],\n",
       "       [1],\n",
       "       [2],\n",
       "       ...,\n",
       "       [0],\n",
       "       [0],\n",
       "       [1]], dtype=int64)"
      ]
     },
     "execution_count": 57,
     "metadata": {},
     "output_type": "execute_result"
    }
   ],
   "source": [
    "X"
   ]
  },
  {
   "cell_type": "code",
   "execution_count": 58,
   "id": "a7349c27",
   "metadata": {},
   "outputs": [
    {
     "data": {
      "text/plain": [
       "array([[5],\n",
       "       [4],\n",
       "       [5],\n",
       "       ...,\n",
       "       [1],\n",
       "       [1],\n",
       "       [2]], dtype=int64)"
      ]
     },
     "execution_count": 58,
     "metadata": {},
     "output_type": "execute_result"
    }
   ],
   "source": [
    "y"
   ]
  },
  {
   "cell_type": "code",
   "execution_count": 59,
   "id": "e0cb5e19",
   "metadata": {},
   "outputs": [],
   "source": [
    "# Splitting data into a training set and a test set.\n",
    "\n",
    "X_train, X_test, y_train, y_test = train_test_split(X, y, test_size=0.3, random_state=0)"
   ]
  },
  {
   "cell_type": "markdown",
   "id": "ac3f6304",
   "metadata": {},
   "source": [
    "### Regression Analysis"
   ]
  },
  {
   "cell_type": "code",
   "execution_count": 60,
   "id": "ee85a24b",
   "metadata": {},
   "outputs": [],
   "source": [
    "# Creating a regression object.\n",
    "\n",
    "regression = LinearRegression()  # This is the regression object, which will be fit onto the training set"
   ]
  },
  {
   "cell_type": "code",
   "execution_count": 61,
   "id": "cd5b8810",
   "metadata": {},
   "outputs": [
    {
     "data": {
      "text/html": [
       "<style>#sk-container-id-1 {color: black;background-color: white;}#sk-container-id-1 pre{padding: 0;}#sk-container-id-1 div.sk-toggleable {background-color: white;}#sk-container-id-1 label.sk-toggleable__label {cursor: pointer;display: block;width: 100%;margin-bottom: 0;padding: 0.3em;box-sizing: border-box;text-align: center;}#sk-container-id-1 label.sk-toggleable__label-arrow:before {content: \"▸\";float: left;margin-right: 0.25em;color: #696969;}#sk-container-id-1 label.sk-toggleable__label-arrow:hover:before {color: black;}#sk-container-id-1 div.sk-estimator:hover label.sk-toggleable__label-arrow:before {color: black;}#sk-container-id-1 div.sk-toggleable__content {max-height: 0;max-width: 0;overflow: hidden;text-align: left;background-color: #f0f8ff;}#sk-container-id-1 div.sk-toggleable__content pre {margin: 0.2em;color: black;border-radius: 0.25em;background-color: #f0f8ff;}#sk-container-id-1 input.sk-toggleable__control:checked~div.sk-toggleable__content {max-height: 200px;max-width: 100%;overflow: auto;}#sk-container-id-1 input.sk-toggleable__control:checked~label.sk-toggleable__label-arrow:before {content: \"▾\";}#sk-container-id-1 div.sk-estimator input.sk-toggleable__control:checked~label.sk-toggleable__label {background-color: #d4ebff;}#sk-container-id-1 div.sk-label input.sk-toggleable__control:checked~label.sk-toggleable__label {background-color: #d4ebff;}#sk-container-id-1 input.sk-hidden--visually {border: 0;clip: rect(1px 1px 1px 1px);clip: rect(1px, 1px, 1px, 1px);height: 1px;margin: -1px;overflow: hidden;padding: 0;position: absolute;width: 1px;}#sk-container-id-1 div.sk-estimator {font-family: monospace;background-color: #f0f8ff;border: 1px dotted black;border-radius: 0.25em;box-sizing: border-box;margin-bottom: 0.5em;}#sk-container-id-1 div.sk-estimator:hover {background-color: #d4ebff;}#sk-container-id-1 div.sk-parallel-item::after {content: \"\";width: 100%;border-bottom: 1px solid gray;flex-grow: 1;}#sk-container-id-1 div.sk-label:hover label.sk-toggleable__label {background-color: #d4ebff;}#sk-container-id-1 div.sk-serial::before {content: \"\";position: absolute;border-left: 1px solid gray;box-sizing: border-box;top: 0;bottom: 0;left: 50%;z-index: 0;}#sk-container-id-1 div.sk-serial {display: flex;flex-direction: column;align-items: center;background-color: white;padding-right: 0.2em;padding-left: 0.2em;position: relative;}#sk-container-id-1 div.sk-item {position: relative;z-index: 1;}#sk-container-id-1 div.sk-parallel {display: flex;align-items: stretch;justify-content: center;background-color: white;position: relative;}#sk-container-id-1 div.sk-item::before, #sk-container-id-1 div.sk-parallel-item::before {content: \"\";position: absolute;border-left: 1px solid gray;box-sizing: border-box;top: 0;bottom: 0;left: 50%;z-index: -1;}#sk-container-id-1 div.sk-parallel-item {display: flex;flex-direction: column;z-index: 1;position: relative;background-color: white;}#sk-container-id-1 div.sk-parallel-item:first-child::after {align-self: flex-end;width: 50%;}#sk-container-id-1 div.sk-parallel-item:last-child::after {align-self: flex-start;width: 50%;}#sk-container-id-1 div.sk-parallel-item:only-child::after {width: 0;}#sk-container-id-1 div.sk-dashed-wrapped {border: 1px dashed gray;margin: 0 0.4em 0.5em 0.4em;box-sizing: border-box;padding-bottom: 0.4em;background-color: white;}#sk-container-id-1 div.sk-label label {font-family: monospace;font-weight: bold;display: inline-block;line-height: 1.2em;}#sk-container-id-1 div.sk-label-container {text-align: center;}#sk-container-id-1 div.sk-container {/* jupyter's `normalize.less` sets `[hidden] { display: none; }` but bootstrap.min.css set `[hidden] { display: none !important; }` so we also need the `!important` here to be able to override the default hidden behavior on the sphinx rendered scikit-learn.org. See: https://github.com/scikit-learn/scikit-learn/issues/21755 */display: inline-block !important;position: relative;}#sk-container-id-1 div.sk-text-repr-fallback {display: none;}</style><div id=\"sk-container-id-1\" class=\"sk-top-container\"><div class=\"sk-text-repr-fallback\"><pre>LinearRegression()</pre><b>In a Jupyter environment, please rerun this cell to show the HTML representation or trust the notebook. <br />On GitHub, the HTML representation is unable to render, please try loading this page with nbviewer.org.</b></div><div class=\"sk-container\" hidden><div class=\"sk-item\"><div class=\"sk-estimator sk-toggleable\"><input class=\"sk-toggleable__control sk-hidden--visually\" id=\"sk-estimator-id-1\" type=\"checkbox\" checked><label for=\"sk-estimator-id-1\" class=\"sk-toggleable__label sk-toggleable__label-arrow\">LinearRegression</label><div class=\"sk-toggleable__content\"><pre>LinearRegression()</pre></div></div></div></div></div>"
      ],
      "text/plain": [
       "LinearRegression()"
      ]
     },
     "execution_count": 61,
     "metadata": {},
     "output_type": "execute_result"
    }
   ],
   "source": [
    "# Fit the regression object onto the training set.\n",
    "\n",
    "regression.fit(X_train, y_train)"
   ]
  },
  {
   "cell_type": "code",
   "execution_count": 62,
   "id": "c8bef87a",
   "metadata": {},
   "outputs": [],
   "source": [
    "# Predict the values of y using X.\n",
    "\n",
    "y_predicted = regression.predict(X_test)"
   ]
  },
  {
   "cell_type": "code",
   "execution_count": 63,
   "id": "0e17b0d3",
   "metadata": {},
   "outputs": [
    {
     "data": {
      "image/png": "[encoded data removed]",
      "text/plain": [
       "<Figure size 640x480 with 1 Axes>"
      ]
     },
     "metadata": {},
     "output_type": "display_data"
    }
   ],
   "source": [
    "# Create a plot that shows the regression line from the model on the test set.\n",
    "\n",
    "plot_test = plt\n",
    "plot_test.scatter(X_test, y_test, color='gray', s = 15)\n",
    "plot_test.plot(X_test, y_predicted, color='red', linewidth =3)\n",
    "plot_test.title('Suspects involved in a gun violence incident vs people aged 18+ (Test set)')\n",
    "plot_test.xlabel('Number of suspects')\n",
    "plot_test.ylabel('People aged 18+')\n",
    "plot_test.show()"
   ]
  },
  {
   "cell_type": "code",
   "execution_count": 64,
   "id": "64bea16d",
   "metadata": {},
   "outputs": [],
   "source": [
    "# Creating objects that contain the model summary statistics.\n",
    "\n",
    "rmse = mean_squared_error(y_test, y_predicted) # This is the mean squared error\n",
    "r2 = r2_score(y_test, y_predicted) # This is the R2 score."
   ]
  },
  {
   "cell_type": "code",
   "execution_count": 65,
   "id": "18796336",
   "metadata": {},
   "outputs": [
    {
     "name": "stdout",
     "output_type": "stream",
     "text": [
      "Slope: [[0.6657168]]\n",
      "Mean squared error:  1.0146548461492428\n",
      "R2 score:  0.3042302185068684\n"
     ]
    }
   ],
   "source": [
    "# Printing the model summary statistics\n",
    "\n",
    "print('Slope:' ,regression.coef_)\n",
    "print('Mean squared error: ', rmse)\n",
    "print('R2 score: ', r2)"
   ]
  },
  {
   "cell_type": "markdown",
   "id": "a7d22d27",
   "metadata": {},
   "source": [
    "- Slope is positive which proves that both variables have a positive relationship. \n",
    "- The MSE is small which means that the regression line passes fairly close to the observations, making it a good fit. \n",
    "- The R2 score,however, is approximately 0.3042, or 30.42% out of 100, which is not that great. It means that our model is not that great of a fit."
   ]
  },
  {
   "cell_type": "code",
   "execution_count": 66,
   "id": "f1d185b1",
   "metadata": {},
   "outputs": [
    {
     "data": {
      "text/html": [
       "<div>\n",
       "<style scoped>\n",
       "    .dataframe tbody tr th:only-of-type {\n",
       "        vertical-align: middle;\n",
       "    }\n",
       "\n",
       "    .dataframe tbody tr th {\n",
       "        vertical-align: top;\n",
       "    }\n",
       "\n",
       "    .dataframe thead th {\n",
       "        text-align: right;\n",
       "    }\n",
       "</style>\n",
       "<table border=\"1\" class=\"dataframe\">\n",
       "  <thead>\n",
       "    <tr style=\"text-align: right;\">\n",
       "      <th></th>\n",
       "      <th>Actual</th>\n",
       "      <th>Predicted</th>\n",
       "    </tr>\n",
       "  </thead>\n",
       "  <tbody>\n",
       "    <tr>\n",
       "      <th>0</th>\n",
       "      <td>0</td>\n",
       "      <td>0.722855</td>\n",
       "    </tr>\n",
       "    <tr>\n",
       "      <th>1</th>\n",
       "      <td>3</td>\n",
       "      <td>1.388572</td>\n",
       "    </tr>\n",
       "    <tr>\n",
       "      <th>2</th>\n",
       "      <td>1</td>\n",
       "      <td>0.722855</td>\n",
       "    </tr>\n",
       "    <tr>\n",
       "      <th>3</th>\n",
       "      <td>1</td>\n",
       "      <td>0.722855</td>\n",
       "    </tr>\n",
       "    <tr>\n",
       "      <th>4</th>\n",
       "      <td>2</td>\n",
       "      <td>2.054288</td>\n",
       "    </tr>\n",
       "    <tr>\n",
       "      <th>5</th>\n",
       "      <td>1</td>\n",
       "      <td>1.388572</td>\n",
       "    </tr>\n",
       "    <tr>\n",
       "      <th>6</th>\n",
       "      <td>0</td>\n",
       "      <td>2.720005</td>\n",
       "    </tr>\n",
       "    <tr>\n",
       "      <th>7</th>\n",
       "      <td>2</td>\n",
       "      <td>1.388572</td>\n",
       "    </tr>\n",
       "    <tr>\n",
       "      <th>8</th>\n",
       "      <td>1</td>\n",
       "      <td>1.388572</td>\n",
       "    </tr>\n",
       "    <tr>\n",
       "      <th>9</th>\n",
       "      <td>2</td>\n",
       "      <td>1.388572</td>\n",
       "    </tr>\n",
       "    <tr>\n",
       "      <th>10</th>\n",
       "      <td>1</td>\n",
       "      <td>1.388572</td>\n",
       "    </tr>\n",
       "    <tr>\n",
       "      <th>11</th>\n",
       "      <td>1</td>\n",
       "      <td>1.388572</td>\n",
       "    </tr>\n",
       "    <tr>\n",
       "      <th>12</th>\n",
       "      <td>1</td>\n",
       "      <td>1.388572</td>\n",
       "    </tr>\n",
       "    <tr>\n",
       "      <th>13</th>\n",
       "      <td>0</td>\n",
       "      <td>0.722855</td>\n",
       "    </tr>\n",
       "    <tr>\n",
       "      <th>14</th>\n",
       "      <td>2</td>\n",
       "      <td>1.388572</td>\n",
       "    </tr>\n",
       "    <tr>\n",
       "      <th>15</th>\n",
       "      <td>0</td>\n",
       "      <td>1.388572</td>\n",
       "    </tr>\n",
       "    <tr>\n",
       "      <th>16</th>\n",
       "      <td>2</td>\n",
       "      <td>1.388572</td>\n",
       "    </tr>\n",
       "    <tr>\n",
       "      <th>17</th>\n",
       "      <td>6</td>\n",
       "      <td>2.054288</td>\n",
       "    </tr>\n",
       "    <tr>\n",
       "      <th>18</th>\n",
       "      <td>2</td>\n",
       "      <td>1.388572</td>\n",
       "    </tr>\n",
       "    <tr>\n",
       "      <th>19</th>\n",
       "      <td>0</td>\n",
       "      <td>1.388572</td>\n",
       "    </tr>\n",
       "    <tr>\n",
       "      <th>20</th>\n",
       "      <td>2</td>\n",
       "      <td>2.054288</td>\n",
       "    </tr>\n",
       "    <tr>\n",
       "      <th>21</th>\n",
       "      <td>1</td>\n",
       "      <td>1.388572</td>\n",
       "    </tr>\n",
       "    <tr>\n",
       "      <th>22</th>\n",
       "      <td>1</td>\n",
       "      <td>1.388572</td>\n",
       "    </tr>\n",
       "    <tr>\n",
       "      <th>23</th>\n",
       "      <td>1</td>\n",
       "      <td>0.722855</td>\n",
       "    </tr>\n",
       "    <tr>\n",
       "      <th>24</th>\n",
       "      <td>1</td>\n",
       "      <td>1.388572</td>\n",
       "    </tr>\n",
       "    <tr>\n",
       "      <th>25</th>\n",
       "      <td>2</td>\n",
       "      <td>1.388572</td>\n",
       "    </tr>\n",
       "    <tr>\n",
       "      <th>26</th>\n",
       "      <td>2</td>\n",
       "      <td>2.054288</td>\n",
       "    </tr>\n",
       "    <tr>\n",
       "      <th>27</th>\n",
       "      <td>1</td>\n",
       "      <td>1.388572</td>\n",
       "    </tr>\n",
       "    <tr>\n",
       "      <th>28</th>\n",
       "      <td>3</td>\n",
       "      <td>1.388572</td>\n",
       "    </tr>\n",
       "    <tr>\n",
       "      <th>29</th>\n",
       "      <td>1</td>\n",
       "      <td>0.722855</td>\n",
       "    </tr>\n",
       "  </tbody>\n",
       "</table>\n",
       "</div>"
      ],
      "text/plain": [
       "    Actual  Predicted\n",
       "0        0   0.722855\n",
       "1        3   1.388572\n",
       "2        1   0.722855\n",
       "3        1   0.722855\n",
       "4        2   2.054288\n",
       "5        1   1.388572\n",
       "6        0   2.720005\n",
       "7        2   1.388572\n",
       "8        1   1.388572\n",
       "9        2   1.388572\n",
       "10       1   1.388572\n",
       "11       1   1.388572\n",
       "12       1   1.388572\n",
       "13       0   0.722855\n",
       "14       2   1.388572\n",
       "15       0   1.388572\n",
       "16       2   1.388572\n",
       "17       6   2.054288\n",
       "18       2   1.388572\n",
       "19       0   1.388572\n",
       "20       2   2.054288\n",
       "21       1   1.388572\n",
       "22       1   1.388572\n",
       "23       1   0.722855\n",
       "24       1   1.388572\n",
       "25       2   1.388572\n",
       "26       2   2.054288\n",
       "27       1   1.388572\n",
       "28       3   1.388572\n",
       "29       1   0.722855"
      ]
     },
     "execution_count": 66,
     "metadata": {},
     "output_type": "execute_result"
    }
   ],
   "source": [
    "# Creating a dataframe comparing the actual and predicted values of y.\n",
    "\n",
    "data = pd.DataFrame({'Actual': y_test.flatten(), 'Predicted': y_predicted.flatten()})\n",
    "data.head(30)"
   ]
  },
  {
   "cell_type": "markdown",
   "id": "004d7e59",
   "metadata": {},
   "source": [
    "There’s quite the difference between the actual and predicted y values. This just adds evidence to the fact that our model is not doing a great job of explaining the relationship between the suspects involved in a gun violence incident and people involved aged 18 and above. The relationship simply does not follow a single, straight regression line."
   ]
  },
  {
   "cell_type": "markdown",
   "id": "dd93d5aa",
   "metadata": {},
   "source": [
    "### Comparing how the regression fits the training set"
   ]
  },
  {
   "cell_type": "code",
   "execution_count": 67,
   "id": "e11a727f",
   "metadata": {},
   "outputs": [],
   "source": [
    "y_predicted_train = regression.predict(X_train) # This is predicting X_train!"
   ]
  },
  {
   "cell_type": "code",
   "execution_count": 68,
   "id": "f6e06e15",
   "metadata": {},
   "outputs": [],
   "source": [
    "rmse = mean_squared_error(y_train, y_predicted_train)\n",
    "r2 = r2_score(y_train, y_predicted_train)"
   ]
  },
  {
   "cell_type": "code",
   "execution_count": 69,
   "id": "39c94bce",
   "metadata": {},
   "outputs": [
    {
     "name": "stdout",
     "output_type": "stream",
     "text": [
      "Slope: [[0.6657168]]\n",
      "Mean squared error:  0.8367627028540043\n",
      "R2 score:  0.3339879862064139\n"
     ]
    }
   ],
   "source": [
    "print('Slope:' ,regression.coef_)\n",
    "print('Mean squared error: ', rmse)\n",
    "print('R2 score: ', r2)"
   ]
  },
  {
   "cell_type": "code",
   "execution_count": 70,
   "id": "f5980563",
   "metadata": {},
   "outputs": [
    {
     "data": {
      "image/png": "[encoded data removed]",
      "text/plain": [
       "<Figure size 640x480 with 1 Axes>"
      ]
     },
     "metadata": {},
     "output_type": "display_data"
    }
   ],
   "source": [
    "# Visualizing the training set results.\n",
    "\n",
    "plot_test = plt\n",
    "plot_test.scatter(X_train, y_train, color='green', s = 15)\n",
    "plot_test.plot(X_train, y_predicted_train, color='red', linewidth =3)\n",
    "plot_test.title('Suspects involved in a gun violence incident vs people aged 18+ (Train set)')\n",
    "plot_test.xlabel('Number of suspects')\n",
    "plot_test.ylabel('People aged 18+')\n",
    "plot_test.show()"
   ]
  },
  {
   "cell_type": "markdown",
   "id": "d6b459a7",
   "metadata": {},
   "source": [
    "We have a higher R2 score on the train set but the difference in not too much, so we know we have not overfitted the model. However, it also confirms that the relationship we are exploring is not purely linear."
   ]
  },
  {
   "cell_type": "markdown",
   "id": "d32d5cd9",
   "metadata": {},
   "source": [
    "#### Possible bias "
   ]
  },
  {
   "cell_type": "markdown",
   "id": "39bb69ba",
   "metadata": {},
   "source": [
    "- Reporting bias may occur if certain incidents or types of suspects are underreported or overrepresented in the dataset. This can introduce distortions and affect the results of the regression analysis.\n",
    "- The relationship between suspects and individuals aged 18 and above may not adhere to a simple linear pattern due to the interplay of various contextual factors, including systemic biases, socioeconomic disparities, and community dynamics. These factors might not be adequately captured by the available variables, leading to a poor fit of the regression model.\n"
   ]
  },
  {
   "cell_type": "code",
   "execution_count": null,
   "id": "7d33a27f",
   "metadata": {},
   "outputs": [],
   "source": []
  },
  {
   "cell_type": "code",
   "execution_count": null,
   "id": "7f0ccf30",
   "metadata": {},
   "outputs": [],
   "source": []
  },
  {
   "cell_type": "code",
   "execution_count": null,
   "id": "86bd31f2",
   "metadata": {},
   "outputs": [],
   "source": []
  }
 ],
 "metadata": {
  "kernelspec": {
   "display_name": "Python 3 (ipykernel)",
   "language": "python",
   "name": "python3"
  },
  "language_info": {
   "codemirror_mode": {
    "name": "ipython",
    "version": 3
   },
   "file_extension": ".py",
   "mimetype": "text/x-python",
   "name": "python",
   "nbconvert_exporter": "python",
   "pygments_lexer": "ipython3",
   "version": "3.10.9"
  }
 },
 "nbformat": 4,
 "nbformat_minor": 5
}
