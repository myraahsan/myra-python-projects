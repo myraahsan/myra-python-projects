{
 "cells": [
  {
   "cell_type": "markdown",
   "id": "27ed0bb7",
   "metadata": {},
   "source": [
    "### Contents:"
   ]
  },
  {
   "cell_type": "markdown",
   "id": "604e8990",
   "metadata": {},
   "source": [
    "1. Import libraries\n",
    "2. Import file 'customers_ords_prods.pkl'\n",
    "3. Creating a “Region” column based on the “State” column \n",
    "4. Determining whether there's a difference in spending habits b/w US regions\n",
    "5. Exclusion flag for low-activity customers\n",
    "6. Customer profiling\n",
    "7. Summarizing findings and analysis"
   ]
  },
  {
   "cell_type": "markdown",
   "id": "a5b9f5ad",
   "metadata": {},
   "source": [
    "### Import libraries"
   ]
  },
  {
   "cell_type": "code",
   "execution_count": 1,
   "id": "439a8b16",
   "metadata": {
    "ExecuteTime": {
     "end_time": "2023-04-10T16:50:29.732446Z",
     "start_time": "2023-04-10T16:50:28.316012Z"
    }
   },
   "outputs": [],
   "source": [
    "import pandas as pd\n",
    "import numpy as np\n",
    "import os\n",
    "import matplotlib.pyplot as plt\n",
    "import seaborn as sns\n",
    "import scipy"
   ]
  },
  {
   "cell_type": "markdown",
   "id": "3eac57cc",
   "metadata": {},
   "source": [
    "### Import file 'customers_ords_prods.pkl'"
   ]
  },
  {
   "cell_type": "code",
   "execution_count": 2,
   "id": "1719273c",
   "metadata": {
    "ExecuteTime": {
     "end_time": "2023-04-10T16:51:41.484086Z",
     "start_time": "2023-04-10T16:50:29.734206Z"
    }
   },
   "outputs": [],
   "source": [
    "df = pd.read_pickle('customers_ords_prods.pkl')"
   ]
  },
  {
   "cell_type": "code",
   "execution_count": 3,
   "id": "61aab2ba",
   "metadata": {
    "ExecuteTime": {
     "end_time": "2023-04-10T16:51:41.511339Z",
     "start_time": "2023-04-10T16:51:41.486271Z"
    }
   },
   "outputs": [
    {
     "data": {
      "text/html": [
       "<div>\n",
       "<style scoped>\n",
       "    .dataframe tbody tr th:only-of-type {\n",
       "        vertical-align: middle;\n",
       "    }\n",
       "\n",
       "    .dataframe tbody tr th {\n",
       "        vertical-align: top;\n",
       "    }\n",
       "\n",
       "    .dataframe thead th {\n",
       "        text-align: right;\n",
       "    }\n",
       "</style>\n",
       "<table border=\"1\" class=\"dataframe\">\n",
       "  <thead>\n",
       "    <tr style=\"text-align: right;\">\n",
       "      <th></th>\n",
       "      <th>order_id</th>\n",
       "      <th>user_id</th>\n",
       "      <th>order_number</th>\n",
       "      <th>order_day_of_week</th>\n",
       "      <th>order_hour_of_day</th>\n",
       "      <th>days_since_prior_order</th>\n",
       "      <th>product_id</th>\n",
       "      <th>add_to_cart_order</th>\n",
       "      <th>product_name</th>\n",
       "      <th>aisle_id</th>\n",
       "      <th>...</th>\n",
       "      <th>spending_flag</th>\n",
       "      <th>Order_freq_flag</th>\n",
       "      <th>gender</th>\n",
       "      <th>state</th>\n",
       "      <th>age</th>\n",
       "      <th>date_joined</th>\n",
       "      <th>number_of_dependants</th>\n",
       "      <th>marital_status</th>\n",
       "      <th>income</th>\n",
       "      <th>_merge</th>\n",
       "    </tr>\n",
       "  </thead>\n",
       "  <tbody>\n",
       "    <tr>\n",
       "      <th>0</th>\n",
       "      <td>40.0</td>\n",
       "      <td>382</td>\n",
       "      <td>29.0</td>\n",
       "      <td>1.0</td>\n",
       "      <td>15.0</td>\n",
       "      <td>23.0</td>\n",
       "      <td>10070</td>\n",
       "      <td>1.0</td>\n",
       "      <td>Organic 1% Low Fat Milk</td>\n",
       "      <td>84.0</td>\n",
       "      <td>...</td>\n",
       "      <td>Low spender</td>\n",
       "      <td>Frequent customer</td>\n",
       "      <td>Male</td>\n",
       "      <td>New Jersey</td>\n",
       "      <td>21</td>\n",
       "      <td>7/28/2019</td>\n",
       "      <td>2</td>\n",
       "      <td>living with parents and siblings</td>\n",
       "      <td>87994</td>\n",
       "      <td>both</td>\n",
       "    </tr>\n",
       "    <tr>\n",
       "      <th>1</th>\n",
       "      <td>116744.0</td>\n",
       "      <td>382</td>\n",
       "      <td>23.0</td>\n",
       "      <td>4.0</td>\n",
       "      <td>17.0</td>\n",
       "      <td>8.0</td>\n",
       "      <td>10070</td>\n",
       "      <td>3.0</td>\n",
       "      <td>Organic 1% Low Fat Milk</td>\n",
       "      <td>84.0</td>\n",
       "      <td>...</td>\n",
       "      <td>Low spender</td>\n",
       "      <td>Frequent customer</td>\n",
       "      <td>Male</td>\n",
       "      <td>New Jersey</td>\n",
       "      <td>21</td>\n",
       "      <td>7/28/2019</td>\n",
       "      <td>2</td>\n",
       "      <td>living with parents and siblings</td>\n",
       "      <td>87994</td>\n",
       "      <td>both</td>\n",
       "    </tr>\n",
       "    <tr>\n",
       "      <th>2</th>\n",
       "      <td>120295.0</td>\n",
       "      <td>382</td>\n",
       "      <td>27.0</td>\n",
       "      <td>0.0</td>\n",
       "      <td>8.0</td>\n",
       "      <td>13.0</td>\n",
       "      <td>10070</td>\n",
       "      <td>2.0</td>\n",
       "      <td>Organic 1% Low Fat Milk</td>\n",
       "      <td>84.0</td>\n",
       "      <td>...</td>\n",
       "      <td>Low spender</td>\n",
       "      <td>Frequent customer</td>\n",
       "      <td>Male</td>\n",
       "      <td>New Jersey</td>\n",
       "      <td>21</td>\n",
       "      <td>7/28/2019</td>\n",
       "      <td>2</td>\n",
       "      <td>living with parents and siblings</td>\n",
       "      <td>87994</td>\n",
       "      <td>both</td>\n",
       "    </tr>\n",
       "    <tr>\n",
       "      <th>3</th>\n",
       "      <td>247775.0</td>\n",
       "      <td>382</td>\n",
       "      <td>14.0</td>\n",
       "      <td>2.0</td>\n",
       "      <td>15.0</td>\n",
       "      <td>8.0</td>\n",
       "      <td>10070</td>\n",
       "      <td>2.0</td>\n",
       "      <td>Organic 1% Low Fat Milk</td>\n",
       "      <td>84.0</td>\n",
       "      <td>...</td>\n",
       "      <td>Low spender</td>\n",
       "      <td>Frequent customer</td>\n",
       "      <td>Male</td>\n",
       "      <td>New Jersey</td>\n",
       "      <td>21</td>\n",
       "      <td>7/28/2019</td>\n",
       "      <td>2</td>\n",
       "      <td>living with parents and siblings</td>\n",
       "      <td>87994</td>\n",
       "      <td>both</td>\n",
       "    </tr>\n",
       "    <tr>\n",
       "      <th>4</th>\n",
       "      <td>405284.0</td>\n",
       "      <td>382</td>\n",
       "      <td>15.0</td>\n",
       "      <td>1.0</td>\n",
       "      <td>11.0</td>\n",
       "      <td>6.0</td>\n",
       "      <td>10070</td>\n",
       "      <td>1.0</td>\n",
       "      <td>Organic 1% Low Fat Milk</td>\n",
       "      <td>84.0</td>\n",
       "      <td>...</td>\n",
       "      <td>Low spender</td>\n",
       "      <td>Frequent customer</td>\n",
       "      <td>Male</td>\n",
       "      <td>New Jersey</td>\n",
       "      <td>21</td>\n",
       "      <td>7/28/2019</td>\n",
       "      <td>2</td>\n",
       "      <td>living with parents and siblings</td>\n",
       "      <td>87994</td>\n",
       "      <td>both</td>\n",
       "    </tr>\n",
       "  </tbody>\n",
       "</table>\n",
       "<p>5 rows × 27 columns</p>\n",
       "</div>"
      ],
      "text/plain": [
       "   order_id user_id  order_number  order_day_of_week  order_hour_of_day  \\\n",
       "0      40.0     382          29.0                1.0               15.0   \n",
       "1  116744.0     382          23.0                4.0               17.0   \n",
       "2  120295.0     382          27.0                0.0                8.0   \n",
       "3  247775.0     382          14.0                2.0               15.0   \n",
       "4  405284.0     382          15.0                1.0               11.0   \n",
       "\n",
       "   days_since_prior_order  product_id  add_to_cart_order  \\\n",
       "0                    23.0       10070                1.0   \n",
       "1                     8.0       10070                3.0   \n",
       "2                    13.0       10070                2.0   \n",
       "3                     8.0       10070                2.0   \n",
       "4                     6.0       10070                1.0   \n",
       "\n",
       "              product_name  aisle_id  ...  spending_flag    Order_freq_flag  \\\n",
       "0  Organic 1% Low Fat Milk      84.0  ...    Low spender  Frequent customer   \n",
       "1  Organic 1% Low Fat Milk      84.0  ...    Low spender  Frequent customer   \n",
       "2  Organic 1% Low Fat Milk      84.0  ...    Low spender  Frequent customer   \n",
       "3  Organic 1% Low Fat Milk      84.0  ...    Low spender  Frequent customer   \n",
       "4  Organic 1% Low Fat Milk      84.0  ...    Low spender  Frequent customer   \n",
       "\n",
       "  gender       state age date_joined  number_of_dependants  \\\n",
       "0   Male  New Jersey  21   7/28/2019                     2   \n",
       "1   Male  New Jersey  21   7/28/2019                     2   \n",
       "2   Male  New Jersey  21   7/28/2019                     2   \n",
       "3   Male  New Jersey  21   7/28/2019                     2   \n",
       "4   Male  New Jersey  21   7/28/2019                     2   \n",
       "\n",
       "                     marital_status income _merge  \n",
       "0  living with parents and siblings  87994   both  \n",
       "1  living with parents and siblings  87994   both  \n",
       "2  living with parents and siblings  87994   both  \n",
       "3  living with parents and siblings  87994   both  \n",
       "4  living with parents and siblings  87994   both  \n",
       "\n",
       "[5 rows x 27 columns]"
      ]
     },
     "execution_count": 3,
     "metadata": {},
     "output_type": "execute_result"
    }
   ],
   "source": [
    "df.head()"
   ]
  },
  {
   "cell_type": "code",
   "execution_count": 4,
   "id": "daccea72",
   "metadata": {
    "ExecuteTime": {
     "end_time": "2023-04-10T16:51:41.515760Z",
     "start_time": "2023-04-10T16:51:41.513075Z"
    }
   },
   "outputs": [
    {
     "name": "stdout",
     "output_type": "stream",
     "text": [
      "['order_id', 'user_id', 'order_number', 'order_day_of_week', 'order_hour_of_day', 'days_since_prior_order', 'product_id', 'add_to_cart_order', 'product_name', 'aisle_id', 'department_id', 'prices', 'busiest_day', 'busiest_days_of_week', 'busiest_period_of_day', 'loyalty_flag', 'avg_order', 'spending_flag', 'Order_freq_flag', 'gender', 'state', 'age', 'date_joined', 'number_of_dependants', 'marital_status', 'income', '_merge']\n"
     ]
    }
   ],
   "source": [
    "print(df.columns.tolist())"
   ]
  },
  {
   "cell_type": "markdown",
   "id": "15672234",
   "metadata": {},
   "source": [
    "#### Q2. Consider any security implications that might exist for this new data. You’ll need to address any PII data in the data before continuing your analysis."
   ]
  },
  {
   "cell_type": "markdown",
   "id": "0dc6aed2",
   "metadata": {},
   "source": [
    "The customers dataframe, before merging had names of the customers that were deleted so there are no security implications. However, few details like State, age, gender, marital status and number of dependents combined can potentially be sensitive information. Although seperately they cannot be considered PII data. "
   ]
  },
  {
   "cell_type": "markdown",
   "id": "38742145",
   "metadata": {},
   "source": [
    "## Creating a “Region” column based on the “State” column "
   ]
  },
  {
   "cell_type": "code",
   "execution_count": 5,
   "id": "d9c5e638",
   "metadata": {
    "ExecuteTime": {
     "end_time": "2023-04-10T16:51:42.992949Z",
     "start_time": "2023-04-10T16:51:41.516890Z"
    }
   },
   "outputs": [],
   "source": [
    "df.loc[df['state'].isin(['Maine', 'New Hampshire', 'Vermont', 'Massachusetts', 'New York', 'New Jersey', 'Pennsylvania', 'Rhode Island', 'Connepcticut']), 'region'] = 'R1 - Northeast'"
   ]
  },
  {
   "cell_type": "code",
   "execution_count": 6,
   "id": "74e99c26",
   "metadata": {
    "ExecuteTime": {
     "end_time": "2023-04-10T16:51:44.181764Z",
     "start_time": "2023-04-10T16:51:42.994540Z"
    }
   },
   "outputs": [],
   "source": [
    "df.loc[df['state'].isin(['Wisconsin', 'Michigan', 'Illinois', 'Indiana', 'Ohio', 'North Dakota', 'South Dakota', 'Nebraska', 'Kansas', 'Minnesota', 'Iowa', 'Missouri']), 'region'] = 'R2 - Midwest'"
   ]
  },
  {
   "cell_type": "code",
   "execution_count": 7,
   "id": "e6039c59",
   "metadata": {
    "ExecuteTime": {
     "end_time": "2023-04-10T16:51:45.123225Z",
     "start_time": "2023-04-10T16:51:44.183311Z"
    }
   },
   "outputs": [],
   "source": [
    "df.loc[df['state'].isin(['Delaware', 'Maryland', 'Virginia', 'District of Columbia', 'West Virginia', 'North Carolina', 'South Carolina', 'Georgia', 'Florida', 'Kentucky', 'Tennessee', 'Mississippi', 'Alabama', 'Oklahoma', 'Texas', 'Arkansas', 'Louisiana']), 'region'] = 'R3 - South'"
   ]
  },
  {
   "cell_type": "code",
   "execution_count": 8,
   "id": "925a0f0e",
   "metadata": {
    "ExecuteTime": {
     "end_time": "2023-04-10T16:51:45.861830Z",
     "start_time": "2023-04-10T16:51:45.124951Z"
    }
   },
   "outputs": [],
   "source": [
    "df.loc[df['state'].isin(['Idaho', 'Montana', 'Nevada', 'Wyoming', 'Utah', 'Colorado', 'Arizona', 'New Mexico', 'Alaska', 'Washington', 'Oregon', 'California', 'Hawaii']), 'region'] = 'R4 - West'"
   ]
  },
  {
   "cell_type": "code",
   "execution_count": 9,
   "id": "a08bdd6c",
   "metadata": {
    "ExecuteTime": {
     "end_time": "2023-04-10T16:51:46.867739Z",
     "start_time": "2023-04-10T16:51:45.863958Z"
    }
   },
   "outputs": [
    {
     "data": {
      "text/plain": [
       "R3 - South        10801982\n",
       "R4 - West          8300617\n",
       "R2 - Midwest       7604016\n",
       "R1 - Northeast     5104850\n",
       "Name: region, dtype: int64"
      ]
     },
     "execution_count": 9,
     "metadata": {},
     "output_type": "execute_result"
    }
   ],
   "source": [
    "df['region'].value_counts()"
   ]
  },
  {
   "cell_type": "markdown",
   "id": "5fe7a9b2",
   "metadata": {},
   "source": [
    "All the regions total up to the total rows of the dataset. "
   ]
  },
  {
   "cell_type": "markdown",
   "id": "3628b128",
   "metadata": {},
   "source": [
    "## Determining whether there's a difference in spending habits b/w US regions"
   ]
  },
  {
   "cell_type": "code",
   "execution_count": 10,
   "id": "552efa26",
   "metadata": {
    "ExecuteTime": {
     "end_time": "2023-04-10T16:51:53.888362Z",
     "start_time": "2023-04-10T16:51:46.870523Z"
    }
   },
   "outputs": [
    {
     "data": {
      "text/html": [
       "<div>\n",
       "<style scoped>\n",
       "    .dataframe tbody tr th:only-of-type {\n",
       "        vertical-align: middle;\n",
       "    }\n",
       "\n",
       "    .dataframe tbody tr th {\n",
       "        vertical-align: top;\n",
       "    }\n",
       "\n",
       "    .dataframe thead th {\n",
       "        text-align: right;\n",
       "    }\n",
       "</style>\n",
       "<table border=\"1\" class=\"dataframe\">\n",
       "  <thead>\n",
       "    <tr style=\"text-align: right;\">\n",
       "      <th></th>\n",
       "      <th>region</th>\n",
       "      <th>spending_flag</th>\n",
       "    </tr>\n",
       "  </thead>\n",
       "  <tbody>\n",
       "    <tr>\n",
       "      <th>0</th>\n",
       "      <td>R1 - Northeast</td>\n",
       "      <td>Low spender</td>\n",
       "    </tr>\n",
       "    <tr>\n",
       "      <th>1</th>\n",
       "      <td>R1 - Northeast</td>\n",
       "      <td>Low spender</td>\n",
       "    </tr>\n",
       "    <tr>\n",
       "      <th>2</th>\n",
       "      <td>R1 - Northeast</td>\n",
       "      <td>Low spender</td>\n",
       "    </tr>\n",
       "    <tr>\n",
       "      <th>3</th>\n",
       "      <td>R1 - Northeast</td>\n",
       "      <td>Low spender</td>\n",
       "    </tr>\n",
       "    <tr>\n",
       "      <th>4</th>\n",
       "      <td>R1 - Northeast</td>\n",
       "      <td>Low spender</td>\n",
       "    </tr>\n",
       "    <tr>\n",
       "      <th>...</th>\n",
       "      <td>...</td>\n",
       "      <td>...</td>\n",
       "    </tr>\n",
       "    <tr>\n",
       "      <th>32435054</th>\n",
       "      <td>R2 - Midwest</td>\n",
       "      <td>Low spender</td>\n",
       "    </tr>\n",
       "    <tr>\n",
       "      <th>32435055</th>\n",
       "      <td>R3 - South</td>\n",
       "      <td>Low spender</td>\n",
       "    </tr>\n",
       "    <tr>\n",
       "      <th>32435056</th>\n",
       "      <td>R3 - South</td>\n",
       "      <td>Low spender</td>\n",
       "    </tr>\n",
       "    <tr>\n",
       "      <th>32435057</th>\n",
       "      <td>R3 - South</td>\n",
       "      <td>Low spender</td>\n",
       "    </tr>\n",
       "    <tr>\n",
       "      <th>32435058</th>\n",
       "      <td>R3 - South</td>\n",
       "      <td>Low spender</td>\n",
       "    </tr>\n",
       "  </tbody>\n",
       "</table>\n",
       "<p>32435059 rows × 2 columns</p>\n",
       "</div>"
      ],
      "text/plain": [
       "                  region spending_flag\n",
       "0         R1 - Northeast   Low spender\n",
       "1         R1 - Northeast   Low spender\n",
       "2         R1 - Northeast   Low spender\n",
       "3         R1 - Northeast   Low spender\n",
       "4         R1 - Northeast   Low spender\n",
       "...                  ...           ...\n",
       "32435054    R2 - Midwest   Low spender\n",
       "32435055      R3 - South   Low spender\n",
       "32435056      R3 - South   Low spender\n",
       "32435057      R3 - South   Low spender\n",
       "32435058      R3 - South   Low spender\n",
       "\n",
       "[32435059 rows x 2 columns]"
      ]
     },
     "execution_count": 10,
     "metadata": {},
     "output_type": "execute_result"
    }
   ],
   "source": [
    "df[['region', 'spending_flag']]"
   ]
  },
  {
   "cell_type": "code",
   "execution_count": 11,
   "id": "458cd3f6",
   "metadata": {
    "ExecuteTime": {
     "end_time": "2023-04-10T16:51:57.679918Z",
     "start_time": "2023-04-10T16:51:53.889982Z"
    }
   },
   "outputs": [],
   "source": [
    "df_spending = df.groupby(['region', 'spending_flag']).agg({'spending_flag': ['count']}).reset_index()"
   ]
  },
  {
   "cell_type": "code",
   "execution_count": 12,
   "id": "5a8e8655",
   "metadata": {
    "ExecuteTime": {
     "end_time": "2023-04-10T16:51:57.687730Z",
     "start_time": "2023-04-10T16:51:57.681503Z"
    },
    "scrolled": true
   },
   "outputs": [
    {
     "data": {
      "text/html": [
       "<div>\n",
       "<style scoped>\n",
       "    .dataframe tbody tr th:only-of-type {\n",
       "        vertical-align: middle;\n",
       "    }\n",
       "\n",
       "    .dataframe tbody tr th {\n",
       "        vertical-align: top;\n",
       "    }\n",
       "\n",
       "    .dataframe thead tr th {\n",
       "        text-align: left;\n",
       "    }\n",
       "</style>\n",
       "<table border=\"1\" class=\"dataframe\">\n",
       "  <thead>\n",
       "    <tr>\n",
       "      <th></th>\n",
       "      <th>region</th>\n",
       "      <th colspan=\"2\" halign=\"left\">spending_flag</th>\n",
       "    </tr>\n",
       "    <tr>\n",
       "      <th></th>\n",
       "      <th></th>\n",
       "      <th></th>\n",
       "      <th>count</th>\n",
       "    </tr>\n",
       "  </thead>\n",
       "  <tbody>\n",
       "    <tr>\n",
       "      <th>0</th>\n",
       "      <td>R1 - Northeast</td>\n",
       "      <td>High spender</td>\n",
       "      <td>95943</td>\n",
       "    </tr>\n",
       "    <tr>\n",
       "      <th>1</th>\n",
       "      <td>R1 - Northeast</td>\n",
       "      <td>Low spender</td>\n",
       "      <td>5008907</td>\n",
       "    </tr>\n",
       "    <tr>\n",
       "      <th>2</th>\n",
       "      <td>R2 - Midwest</td>\n",
       "      <td>High spender</td>\n",
       "      <td>156084</td>\n",
       "    </tr>\n",
       "    <tr>\n",
       "      <th>3</th>\n",
       "      <td>R2 - Midwest</td>\n",
       "      <td>Low spender</td>\n",
       "      <td>7447932</td>\n",
       "    </tr>\n",
       "    <tr>\n",
       "      <th>4</th>\n",
       "      <td>R3 - South</td>\n",
       "      <td>High spender</td>\n",
       "      <td>209878</td>\n",
       "    </tr>\n",
       "    <tr>\n",
       "      <th>5</th>\n",
       "      <td>R3 - South</td>\n",
       "      <td>Low spender</td>\n",
       "      <td>10592104</td>\n",
       "    </tr>\n",
       "    <tr>\n",
       "      <th>6</th>\n",
       "      <td>R4 - West</td>\n",
       "      <td>High spender</td>\n",
       "      <td>160440</td>\n",
       "    </tr>\n",
       "    <tr>\n",
       "      <th>7</th>\n",
       "      <td>R4 - West</td>\n",
       "      <td>Low spender</td>\n",
       "      <td>8140177</td>\n",
       "    </tr>\n",
       "  </tbody>\n",
       "</table>\n",
       "</div>"
      ],
      "text/plain": [
       "           region spending_flag          \n",
       "                                    count\n",
       "0  R1 - Northeast  High spender     95943\n",
       "1  R1 - Northeast   Low spender   5008907\n",
       "2    R2 - Midwest  High spender    156084\n",
       "3    R2 - Midwest   Low spender   7447932\n",
       "4      R3 - South  High spender    209878\n",
       "5      R3 - South   Low spender  10592104\n",
       "6       R4 - West  High spender    160440\n",
       "7       R4 - West   Low spender   8140177"
      ]
     },
     "execution_count": 12,
     "metadata": {},
     "output_type": "execute_result"
    }
   ],
   "source": [
    "df_spending.head(10)"
   ]
  },
  {
   "cell_type": "markdown",
   "id": "5c3a20ee",
   "metadata": {},
   "source": [
    "Most of the high spenders and low spenders are in Region 3 which is the South of the US."
   ]
  },
  {
   "cell_type": "markdown",
   "id": "143f23e1",
   "metadata": {},
   "source": [
    "## Exclusion flag for low-activity customers"
   ]
  },
  {
   "cell_type": "code",
   "execution_count": 13,
   "id": "85825fbc",
   "metadata": {
    "ExecuteTime": {
     "end_time": "2023-04-10T16:51:59.391692Z",
     "start_time": "2023-04-10T16:51:57.688943Z"
    }
   },
   "outputs": [],
   "source": [
    "# Create a separate column of max_order, which means the maximum number of orders a customer has placed \n",
    "df['max_order'] = df.groupby(['user_id'])['order_number'].transform(np.max)"
   ]
  },
  {
   "cell_type": "code",
   "execution_count": 14,
   "id": "cbefabff",
   "metadata": {
    "ExecuteTime": {
     "end_time": "2023-04-10T16:52:00.677842Z",
     "start_time": "2023-04-10T16:51:59.393601Z"
    }
   },
   "outputs": [],
   "source": [
    "# Making another column 'exclusion_flag' where the customers are categorised as high or low activity customers based on the number of orders\n",
    "df.loc[df['max_order'] < 5, 'exclusion_flag'] = 'low activity customers'\n",
    "df.loc[df['max_order'] >= 5, 'exclusion_flag'] = 'high activity customers'"
   ]
  },
  {
   "cell_type": "code",
   "execution_count": 15,
   "id": "865f93e3",
   "metadata": {
    "ExecuteTime": {
     "end_time": "2023-04-10T16:52:01.700774Z",
     "start_time": "2023-04-10T16:52:00.679669Z"
    }
   },
   "outputs": [
    {
     "data": {
      "text/plain": [
       "high activity customers    30993489\n",
       "low activity customers      1441570\n",
       "Name: exclusion_flag, dtype: int64"
      ]
     },
     "execution_count": 15,
     "metadata": {},
     "output_type": "execute_result"
    }
   ],
   "source": [
    "df['exclusion_flag'].value_counts()"
   ]
  },
  {
   "cell_type": "markdown",
   "id": "8ef8d724",
   "metadata": {},
   "source": [
    "### Subset of high activity customers"
   ]
  },
  {
   "cell_type": "code",
   "execution_count": 16,
   "id": "ed0fa4f8",
   "metadata": {
    "ExecuteTime": {
     "end_time": "2023-04-10T16:52:12.953740Z",
     "start_time": "2023-04-10T16:52:01.702188Z"
    }
   },
   "outputs": [],
   "source": [
    "df_high_act_customers = df.loc[df['exclusion_flag'] == 'high activity customers']"
   ]
  },
  {
   "cell_type": "code",
   "execution_count": 17,
   "id": "8647b1b9",
   "metadata": {
    "ExecuteTime": {
     "end_time": "2023-04-10T16:52:12.960633Z",
     "start_time": "2023-04-10T16:52:12.956252Z"
    }
   },
   "outputs": [
    {
     "data": {
      "text/plain": [
       "(30993489, 30)"
      ]
     },
     "execution_count": 17,
     "metadata": {},
     "output_type": "execute_result"
    }
   ],
   "source": [
    "df_high_act_customers.shape"
   ]
  },
  {
   "cell_type": "markdown",
   "id": "2fa86a75",
   "metadata": {},
   "source": [
    "The above row count of df_high_act_customers is same as the above row count of high activity customers in df dataframe which shows that in the new dataframe low activity customers have been excluded."
   ]
  },
  {
   "cell_type": "markdown",
   "id": "d65f6408",
   "metadata": {},
   "source": [
    "### Export df_high_act_customers in pkl"
   ]
  },
  {
   "cell_type": "code",
   "execution_count": 18,
   "id": "fcf176c3",
   "metadata": {
    "ExecuteTime": {
     "end_time": "2023-04-10T16:52:47.097050Z",
     "start_time": "2023-04-10T16:52:12.961877Z"
    }
   },
   "outputs": [],
   "source": [
    "df_high_act_customers.to_pickle('df_high_act_customers.pkl')"
   ]
  },
  {
   "cell_type": "markdown",
   "id": "0818973d",
   "metadata": {},
   "source": [
    "## Customer profiling"
   ]
  },
  {
   "cell_type": "markdown",
   "id": "1d4ed83c",
   "metadata": {},
   "source": [
    "I will use the df_high_act_customers dataframe since I am only interested in understanding trends among customers that have high activity and therefore generate high revenue"
   ]
  },
  {
   "cell_type": "code",
   "execution_count": 19,
   "id": "5fd5eafa",
   "metadata": {
    "ExecuteTime": {
     "end_time": "2023-04-10T16:52:48.306301Z",
     "start_time": "2023-04-10T16:52:47.098593Z"
    }
   },
   "outputs": [
    {
     "data": {
      "text/plain": [
       "married                             21763585\n",
       "single                               5099384\n",
       "divorced/widowed                     2647799\n",
       "living with parents and siblings     1482721\n",
       "Name: marital_status, dtype: int64"
      ]
     },
     "execution_count": 19,
     "metadata": {},
     "output_type": "execute_result"
    }
   ],
   "source": [
    "df_high_act_customers['marital_status'].value_counts()"
   ]
  },
  {
   "cell_type": "code",
   "execution_count": 20,
   "id": "a9d43fef",
   "metadata": {
    "ExecuteTime": {
     "end_time": "2023-04-10T16:52:49.630018Z",
     "start_time": "2023-04-10T16:52:48.307573Z"
    }
   },
   "outputs": [
    {
     "data": {
      "image/png": "[encoded data removed]",
      "text/plain": [
       "<Figure size 640x480 with 1 Axes>"
      ]
     },
     "metadata": {},
     "output_type": "display_data"
    }
   ],
   "source": [
    "# Creating a bar chart to understand the family/marital status of the customers \n",
    "bar_marital_status = df_high_act_customers['marital_status'].value_counts().plot.bar()"
   ]
  },
  {
   "cell_type": "markdown",
   "id": "24f579d0",
   "metadata": {},
   "source": [
    "The major proportion of customers are married, while the ones who are living with parents or siblings are the lowest in number."
   ]
  },
  {
   "cell_type": "code",
   "execution_count": 21,
   "id": "4204e62d",
   "metadata": {
    "ExecuteTime": {
     "end_time": "2023-04-10T16:52:49.899785Z",
     "start_time": "2023-04-10T16:52:49.631650Z"
    }
   },
   "outputs": [
    {
     "data": {
      "text/plain": [
       "count    3.099349e+07\n",
       "mean     9.967349e+04\n",
       "std      4.313999e+04\n",
       "min      2.590300e+04\n",
       "25%      6.728900e+04\n",
       "50%      9.676500e+04\n",
       "75%      1.281010e+05\n",
       "max      5.939010e+05\n",
       "Name: income, dtype: float64"
      ]
     },
     "execution_count": 21,
     "metadata": {},
     "output_type": "execute_result"
    }
   ],
   "source": [
    "df_high_act_customers['income'].describe()"
   ]
  },
  {
   "cell_type": "code",
   "execution_count": 22,
   "id": "402cbd27",
   "metadata": {
    "ExecuteTime": {
     "end_time": "2023-04-10T16:52:50.817382Z",
     "start_time": "2023-04-10T16:52:49.900909Z"
    }
   },
   "outputs": [
    {
     "data": {
      "image/png": "[encoded data removed]",
      "text/plain": [
       "<Figure size 640x480 with 1 Axes>"
      ]
     },
     "metadata": {},
     "output_type": "display_data"
    }
   ],
   "source": [
    "hist = df_high_act_customers['income'].plot.hist(bins = 20)"
   ]
  },
  {
   "cell_type": "code",
   "execution_count": 23,
   "id": "dd18fa69",
   "metadata": {
    "ExecuteTime": {
     "end_time": "2023-04-10T16:52:50.821080Z",
     "start_time": "2023-04-10T16:52:50.818615Z"
    }
   },
   "outputs": [
    {
     "name": "stdout",
     "output_type": "stream",
     "text": [
      "['order_id', 'user_id', 'order_number', 'order_day_of_week', 'order_hour_of_day', 'days_since_prior_order', 'product_id', 'add_to_cart_order', 'product_name', 'aisle_id', 'department_id', 'prices', 'busiest_day', 'busiest_days_of_week', 'busiest_period_of_day', 'loyalty_flag', 'avg_order', 'spending_flag', 'Order_freq_flag', 'gender', 'state', 'age', 'date_joined', 'number_of_dependants', 'marital_status', 'income', '_merge', 'region', 'max_order', 'exclusion_flag']\n"
     ]
    }
   ],
   "source": [
    "print(df.columns.tolist())"
   ]
  },
  {
   "cell_type": "markdown",
   "id": "d3401fd4",
   "metadata": {},
   "source": [
    "### Profiling based on age"
   ]
  },
  {
   "cell_type": "code",
   "execution_count": 24,
   "id": "4c301937",
   "metadata": {
    "ExecuteTime": {
     "end_time": "2023-04-10T16:52:51.131341Z",
     "start_time": "2023-04-10T16:52:50.822044Z"
    }
   },
   "outputs": [
    {
     "data": {
      "text/plain": [
       "count    3.099349e+07\n",
       "mean     4.946786e+01\n",
       "std      1.848521e+01\n",
       "min      1.800000e+01\n",
       "25%      3.300000e+01\n",
       "50%      4.900000e+01\n",
       "75%      6.500000e+01\n",
       "max      8.100000e+01\n",
       "Name: age, dtype: float64"
      ]
     },
     "execution_count": 24,
     "metadata": {},
     "output_type": "execute_result"
    }
   ],
   "source": [
    "df_high_act_customers['age'].describe()"
   ]
  },
  {
   "cell_type": "markdown",
   "id": "7acfe542",
   "metadata": {},
   "source": [
    "The maximum age of the customer is 81 years and the minimum is 18 years. The average age of customers is around 49 years. I'll group them in three categories before doing further analysis.  "
   ]
  },
  {
   "cell_type": "code",
   "execution_count": 25,
   "id": "a78fb666",
   "metadata": {
    "ExecuteTime": {
     "end_time": "2023-04-10T16:52:52.384729Z",
     "start_time": "2023-04-10T16:52:51.132519Z"
    }
   },
   "outputs": [
    {
     "name": "stderr",
     "output_type": "stream",
     "text": [
      "/tmp/ipykernel_2133/2481647527.py:2: SettingWithCopyWarning: \n",
      "A value is trying to be set on a copy of a slice from a DataFrame.\n",
      "Try using .loc[row_indexer,col_indexer] = value instead\n",
      "\n",
      "See the caveats in the documentation: https://pandas.pydata.org/pandas-docs/stable/user_guide/indexing.html#returning-a-view-versus-a-copy\n",
      "  df_high_act_customers.loc[(df_high_act_customers['age'] < 40) & (df_high_act_customers['age'] >= 18), 'age_groups'] = 'Young'\n"
     ]
    }
   ],
   "source": [
    "# Categorising age groups in three groups\n",
    "df_high_act_customers.loc[(df_high_act_customers['age'] < 40) & (df_high_act_customers['age'] >= 18), 'age_groups'] = 'Young'\n",
    "df_high_act_customers.loc[(df_high_act_customers['age'] < 60) & (df_high_act_customers['age'] >= 40), 'age_groups'] = 'Middle aged'\n",
    "df_high_act_customers.loc[(df_high_act_customers['age'] < 82) & (df_high_act_customers['age'] >= 60), 'age_groups'] = 'Seniors'"
   ]
  },
  {
   "cell_type": "code",
   "execution_count": 26,
   "id": "d844d08c",
   "metadata": {
    "ExecuteTime": {
     "end_time": "2023-04-10T16:52:53.345037Z",
     "start_time": "2023-04-10T16:52:52.385992Z"
    }
   },
   "outputs": [
    {
     "data": {
      "text/plain": [
       "Young          10674971\n",
       "Seniors        10584175\n",
       "Middle aged     9734343\n",
       "Name: age_groups, dtype: int64"
      ]
     },
     "execution_count": 26,
     "metadata": {},
     "output_type": "execute_result"
    }
   ],
   "source": [
    "df_high_act_customers['age_groups'].value_counts()"
   ]
  },
  {
   "cell_type": "code",
   "execution_count": 27,
   "id": "79d71ab0",
   "metadata": {
    "ExecuteTime": {
     "end_time": "2023-04-10T16:52:56.419574Z",
     "start_time": "2023-04-10T16:52:53.346281Z"
    }
   },
   "outputs": [],
   "source": [
    "# Deduce the number of customers based on age groups \n",
    "df_age_groups = df_high_act_customers.groupby(['age_groups']).agg({'user_id': ['nunique']}).reset_index()"
   ]
  },
  {
   "cell_type": "code",
   "execution_count": 28,
   "id": "f73d8475",
   "metadata": {
    "ExecuteTime": {
     "end_time": "2023-04-10T16:52:56.429047Z",
     "start_time": "2023-04-10T16:52:56.423631Z"
    }
   },
   "outputs": [
    {
     "data": {
      "text/html": [
       "<div>\n",
       "<style scoped>\n",
       "    .dataframe tbody tr th:only-of-type {\n",
       "        vertical-align: middle;\n",
       "    }\n",
       "\n",
       "    .dataframe tbody tr th {\n",
       "        vertical-align: top;\n",
       "    }\n",
       "\n",
       "    .dataframe thead tr th {\n",
       "        text-align: left;\n",
       "    }\n",
       "</style>\n",
       "<table border=\"1\" class=\"dataframe\">\n",
       "  <thead>\n",
       "    <tr>\n",
       "      <th></th>\n",
       "      <th>age_groups</th>\n",
       "      <th>user_id</th>\n",
       "    </tr>\n",
       "    <tr>\n",
       "      <th></th>\n",
       "      <th></th>\n",
       "      <th>nunique</th>\n",
       "    </tr>\n",
       "  </thead>\n",
       "  <tbody>\n",
       "    <tr>\n",
       "      <th>0</th>\n",
       "      <td>Middle aged</td>\n",
       "      <td>51198</td>\n",
       "    </tr>\n",
       "    <tr>\n",
       "      <th>1</th>\n",
       "      <td>Seniors</td>\n",
       "      <td>55775</td>\n",
       "    </tr>\n",
       "    <tr>\n",
       "      <th>2</th>\n",
       "      <td>Young</td>\n",
       "      <td>55660</td>\n",
       "    </tr>\n",
       "  </tbody>\n",
       "</table>\n",
       "</div>"
      ],
      "text/plain": [
       "    age_groups user_id\n",
       "               nunique\n",
       "0  Middle aged   51198\n",
       "1      Seniors   55775\n",
       "2        Young   55660"
      ]
     },
     "execution_count": 28,
     "metadata": {},
     "output_type": "execute_result"
    }
   ],
   "source": [
    "df_age_groups.head()"
   ]
  },
  {
   "cell_type": "code",
   "execution_count": 29,
   "id": "bb5d9419",
   "metadata": {
    "ExecuteTime": {
     "end_time": "2023-04-10T16:52:56.494120Z",
     "start_time": "2023-04-10T16:52:56.430239Z"
    }
   },
   "outputs": [
    {
     "data": {
      "image/png": "[encoded data removed]",
      "text/plain": [
       "<Figure size 640x480 with 1 Axes>"
      ]
     },
     "metadata": {},
     "output_type": "display_data"
    }
   ],
   "source": [
    "labels = 'Middle aged', 'Seniors', 'Young'\n",
    "sizes = [51198, 55775, 55660]\n",
    "\n",
    "plt.pie(sizes, labels=labels, autopct='%1.1f%%')\n",
    "plt.title('% of customers based on age groups')\n",
    "plt.show()"
   ]
  },
  {
   "cell_type": "markdown",
   "id": "3b48b351",
   "metadata": {},
   "source": [
    "The Seniors and Young people buy more compared to Middle aged people."
   ]
  },
  {
   "cell_type": "markdown",
   "id": "7f8384f4",
   "metadata": {},
   "source": [
    "### Profiling based on number of dependants"
   ]
  },
  {
   "cell_type": "code",
   "execution_count": 30,
   "id": "e8060db2",
   "metadata": {
    "ExecuteTime": {
     "end_time": "2023-04-10T16:52:56.611177Z",
     "start_time": "2023-04-10T16:52:56.495402Z"
    }
   },
   "outputs": [
    {
     "data": {
      "text/plain": [
       "3    7779638\n",
       "0    7747183\n",
       "2    7740539\n",
       "1    7726129\n",
       "Name: number_of_dependants, dtype: int64"
      ]
     },
     "execution_count": 30,
     "metadata": {},
     "output_type": "execute_result"
    }
   ],
   "source": [
    "df_high_act_customers['number_of_dependants'].value_counts()"
   ]
  },
  {
   "cell_type": "code",
   "execution_count": 31,
   "id": "b9bfce44",
   "metadata": {
    "ExecuteTime": {
     "end_time": "2023-04-10T16:52:58.246009Z",
     "start_time": "2023-04-10T16:52:56.612489Z"
    }
   },
   "outputs": [
    {
     "data": {
      "text/html": [
       "<div>\n",
       "<style scoped>\n",
       "    .dataframe tbody tr th:only-of-type {\n",
       "        vertical-align: middle;\n",
       "    }\n",
       "\n",
       "    .dataframe tbody tr th {\n",
       "        vertical-align: top;\n",
       "    }\n",
       "\n",
       "    .dataframe thead tr th {\n",
       "        text-align: left;\n",
       "    }\n",
       "\n",
       "    .dataframe thead tr:last-of-type th {\n",
       "        text-align: right;\n",
       "    }\n",
       "</style>\n",
       "<table border=\"1\" class=\"dataframe\">\n",
       "  <thead>\n",
       "    <tr>\n",
       "      <th></th>\n",
       "      <th></th>\n",
       "      <th>number_of_dependants</th>\n",
       "    </tr>\n",
       "    <tr>\n",
       "      <th></th>\n",
       "      <th></th>\n",
       "      <th>count</th>\n",
       "    </tr>\n",
       "    <tr>\n",
       "      <th>age_groups</th>\n",
       "      <th>number_of_dependants</th>\n",
       "      <th></th>\n",
       "    </tr>\n",
       "  </thead>\n",
       "  <tbody>\n",
       "    <tr>\n",
       "      <th rowspan=\"4\" valign=\"top\">Middle aged</th>\n",
       "      <th>0</th>\n",
       "      <td>2436349</td>\n",
       "    </tr>\n",
       "    <tr>\n",
       "      <th>1</th>\n",
       "      <td>2478717</td>\n",
       "    </tr>\n",
       "    <tr>\n",
       "      <th>2</th>\n",
       "      <td>2381161</td>\n",
       "    </tr>\n",
       "    <tr>\n",
       "      <th>3</th>\n",
       "      <td>2438116</td>\n",
       "    </tr>\n",
       "    <tr>\n",
       "      <th rowspan=\"4\" valign=\"top\">Seniors</th>\n",
       "      <th>0</th>\n",
       "      <td>2647799</td>\n",
       "    </tr>\n",
       "    <tr>\n",
       "      <th>1</th>\n",
       "      <td>2585526</td>\n",
       "    </tr>\n",
       "    <tr>\n",
       "      <th>2</th>\n",
       "      <td>2687046</td>\n",
       "    </tr>\n",
       "    <tr>\n",
       "      <th>3</th>\n",
       "      <td>2663804</td>\n",
       "    </tr>\n",
       "    <tr>\n",
       "      <th rowspan=\"4\" valign=\"top\">Young</th>\n",
       "      <th>0</th>\n",
       "      <td>2663035</td>\n",
       "    </tr>\n",
       "    <tr>\n",
       "      <th>1</th>\n",
       "      <td>2661886</td>\n",
       "    </tr>\n",
       "    <tr>\n",
       "      <th>2</th>\n",
       "      <td>2672332</td>\n",
       "    </tr>\n",
       "    <tr>\n",
       "      <th>3</th>\n",
       "      <td>2677718</td>\n",
       "    </tr>\n",
       "  </tbody>\n",
       "</table>\n",
       "</div>"
      ],
      "text/plain": [
       "                                 number_of_dependants\n",
       "                                                count\n",
       "age_groups  number_of_dependants                     \n",
       "Middle aged 0                                 2436349\n",
       "            1                                 2478717\n",
       "            2                                 2381161\n",
       "            3                                 2438116\n",
       "Seniors     0                                 2647799\n",
       "            1                                 2585526\n",
       "            2                                 2687046\n",
       "            3                                 2663804\n",
       "Young       0                                 2663035\n",
       "            1                                 2661886\n",
       "            2                                 2672332\n",
       "            3                                 2677718"
      ]
     },
     "execution_count": 31,
     "metadata": {},
     "output_type": "execute_result"
    }
   ],
   "source": [
    "df_high_act_customers.groupby(['age_groups', 'number_of_dependants']).agg({'number_of_dependants': ['count']})"
   ]
  },
  {
   "cell_type": "markdown",
   "id": "bf0807f0",
   "metadata": {},
   "source": [
    "The above tables shows the frequency of the number of dependants of different age groups. There does not seem like a huge difference between people with no dependants versus people with dependants. Each age group has none or a maximum of three dependants. "
   ]
  },
  {
   "cell_type": "code",
   "execution_count": 32,
   "id": "a46416fa",
   "metadata": {
    "ExecuteTime": {
     "end_time": "2023-04-10T16:52:58.263060Z",
     "start_time": "2023-04-10T16:52:58.247881Z"
    }
   },
   "outputs": [
    {
     "data": {
      "text/html": [
       "<div>\n",
       "<style scoped>\n",
       "    .dataframe tbody tr th:only-of-type {\n",
       "        vertical-align: middle;\n",
       "    }\n",
       "\n",
       "    .dataframe tbody tr th {\n",
       "        vertical-align: top;\n",
       "    }\n",
       "\n",
       "    .dataframe thead th {\n",
       "        text-align: right;\n",
       "    }\n",
       "</style>\n",
       "<table border=\"1\" class=\"dataframe\">\n",
       "  <thead>\n",
       "    <tr style=\"text-align: right;\">\n",
       "      <th></th>\n",
       "      <th>order_id</th>\n",
       "      <th>user_id</th>\n",
       "      <th>order_number</th>\n",
       "      <th>order_day_of_week</th>\n",
       "      <th>order_hour_of_day</th>\n",
       "      <th>days_since_prior_order</th>\n",
       "      <th>product_id</th>\n",
       "      <th>add_to_cart_order</th>\n",
       "      <th>product_name</th>\n",
       "      <th>aisle_id</th>\n",
       "      <th>...</th>\n",
       "      <th>age</th>\n",
       "      <th>date_joined</th>\n",
       "      <th>number_of_dependants</th>\n",
       "      <th>marital_status</th>\n",
       "      <th>income</th>\n",
       "      <th>_merge</th>\n",
       "      <th>region</th>\n",
       "      <th>max_order</th>\n",
       "      <th>exclusion_flag</th>\n",
       "      <th>age_groups</th>\n",
       "    </tr>\n",
       "  </thead>\n",
       "  <tbody>\n",
       "    <tr>\n",
       "      <th>0</th>\n",
       "      <td>40.0</td>\n",
       "      <td>382</td>\n",
       "      <td>29.0</td>\n",
       "      <td>1.0</td>\n",
       "      <td>15.0</td>\n",
       "      <td>23.0</td>\n",
       "      <td>10070</td>\n",
       "      <td>1.0</td>\n",
       "      <td>Organic 1% Low Fat Milk</td>\n",
       "      <td>84.0</td>\n",
       "      <td>...</td>\n",
       "      <td>21</td>\n",
       "      <td>7/28/2019</td>\n",
       "      <td>2</td>\n",
       "      <td>living with parents and siblings</td>\n",
       "      <td>87994</td>\n",
       "      <td>both</td>\n",
       "      <td>R1 - Northeast</td>\n",
       "      <td>29.0</td>\n",
       "      <td>high activity customers</td>\n",
       "      <td>Young</td>\n",
       "    </tr>\n",
       "    <tr>\n",
       "      <th>1</th>\n",
       "      <td>116744.0</td>\n",
       "      <td>382</td>\n",
       "      <td>23.0</td>\n",
       "      <td>4.0</td>\n",
       "      <td>17.0</td>\n",
       "      <td>8.0</td>\n",
       "      <td>10070</td>\n",
       "      <td>3.0</td>\n",
       "      <td>Organic 1% Low Fat Milk</td>\n",
       "      <td>84.0</td>\n",
       "      <td>...</td>\n",
       "      <td>21</td>\n",
       "      <td>7/28/2019</td>\n",
       "      <td>2</td>\n",
       "      <td>living with parents and siblings</td>\n",
       "      <td>87994</td>\n",
       "      <td>both</td>\n",
       "      <td>R1 - Northeast</td>\n",
       "      <td>29.0</td>\n",
       "      <td>high activity customers</td>\n",
       "      <td>Young</td>\n",
       "    </tr>\n",
       "    <tr>\n",
       "      <th>2</th>\n",
       "      <td>120295.0</td>\n",
       "      <td>382</td>\n",
       "      <td>27.0</td>\n",
       "      <td>0.0</td>\n",
       "      <td>8.0</td>\n",
       "      <td>13.0</td>\n",
       "      <td>10070</td>\n",
       "      <td>2.0</td>\n",
       "      <td>Organic 1% Low Fat Milk</td>\n",
       "      <td>84.0</td>\n",
       "      <td>...</td>\n",
       "      <td>21</td>\n",
       "      <td>7/28/2019</td>\n",
       "      <td>2</td>\n",
       "      <td>living with parents and siblings</td>\n",
       "      <td>87994</td>\n",
       "      <td>both</td>\n",
       "      <td>R1 - Northeast</td>\n",
       "      <td>29.0</td>\n",
       "      <td>high activity customers</td>\n",
       "      <td>Young</td>\n",
       "    </tr>\n",
       "    <tr>\n",
       "      <th>3</th>\n",
       "      <td>247775.0</td>\n",
       "      <td>382</td>\n",
       "      <td>14.0</td>\n",
       "      <td>2.0</td>\n",
       "      <td>15.0</td>\n",
       "      <td>8.0</td>\n",
       "      <td>10070</td>\n",
       "      <td>2.0</td>\n",
       "      <td>Organic 1% Low Fat Milk</td>\n",
       "      <td>84.0</td>\n",
       "      <td>...</td>\n",
       "      <td>21</td>\n",
       "      <td>7/28/2019</td>\n",
       "      <td>2</td>\n",
       "      <td>living with parents and siblings</td>\n",
       "      <td>87994</td>\n",
       "      <td>both</td>\n",
       "      <td>R1 - Northeast</td>\n",
       "      <td>29.0</td>\n",
       "      <td>high activity customers</td>\n",
       "      <td>Young</td>\n",
       "    </tr>\n",
       "    <tr>\n",
       "      <th>4</th>\n",
       "      <td>405284.0</td>\n",
       "      <td>382</td>\n",
       "      <td>15.0</td>\n",
       "      <td>1.0</td>\n",
       "      <td>11.0</td>\n",
       "      <td>6.0</td>\n",
       "      <td>10070</td>\n",
       "      <td>1.0</td>\n",
       "      <td>Organic 1% Low Fat Milk</td>\n",
       "      <td>84.0</td>\n",
       "      <td>...</td>\n",
       "      <td>21</td>\n",
       "      <td>7/28/2019</td>\n",
       "      <td>2</td>\n",
       "      <td>living with parents and siblings</td>\n",
       "      <td>87994</td>\n",
       "      <td>both</td>\n",
       "      <td>R1 - Northeast</td>\n",
       "      <td>29.0</td>\n",
       "      <td>high activity customers</td>\n",
       "      <td>Young</td>\n",
       "    </tr>\n",
       "  </tbody>\n",
       "</table>\n",
       "<p>5 rows × 31 columns</p>\n",
       "</div>"
      ],
      "text/plain": [
       "   order_id user_id  order_number  order_day_of_week  order_hour_of_day  \\\n",
       "0      40.0     382          29.0                1.0               15.0   \n",
       "1  116744.0     382          23.0                4.0               17.0   \n",
       "2  120295.0     382          27.0                0.0                8.0   \n",
       "3  247775.0     382          14.0                2.0               15.0   \n",
       "4  405284.0     382          15.0                1.0               11.0   \n",
       "\n",
       "   days_since_prior_order  product_id  add_to_cart_order  \\\n",
       "0                    23.0       10070                1.0   \n",
       "1                     8.0       10070                3.0   \n",
       "2                    13.0       10070                2.0   \n",
       "3                     8.0       10070                2.0   \n",
       "4                     6.0       10070                1.0   \n",
       "\n",
       "              product_name  aisle_id  ...  age  date_joined  \\\n",
       "0  Organic 1% Low Fat Milk      84.0  ...   21    7/28/2019   \n",
       "1  Organic 1% Low Fat Milk      84.0  ...   21    7/28/2019   \n",
       "2  Organic 1% Low Fat Milk      84.0  ...   21    7/28/2019   \n",
       "3  Organic 1% Low Fat Milk      84.0  ...   21    7/28/2019   \n",
       "4  Organic 1% Low Fat Milk      84.0  ...   21    7/28/2019   \n",
       "\n",
       "  number_of_dependants                    marital_status income _merge  \\\n",
       "0                    2  living with parents and siblings  87994   both   \n",
       "1                    2  living with parents and siblings  87994   both   \n",
       "2                    2  living with parents and siblings  87994   both   \n",
       "3                    2  living with parents and siblings  87994   both   \n",
       "4                    2  living with parents and siblings  87994   both   \n",
       "\n",
       "           region max_order           exclusion_flag age_groups  \n",
       "0  R1 - Northeast      29.0  high activity customers      Young  \n",
       "1  R1 - Northeast      29.0  high activity customers      Young  \n",
       "2  R1 - Northeast      29.0  high activity customers      Young  \n",
       "3  R1 - Northeast      29.0  high activity customers      Young  \n",
       "4  R1 - Northeast      29.0  high activity customers      Young  \n",
       "\n",
       "[5 rows x 31 columns]"
      ]
     },
     "execution_count": 32,
     "metadata": {},
     "output_type": "execute_result"
    }
   ],
   "source": [
    "df_high_act_customers.head()"
   ]
  },
  {
   "cell_type": "markdown",
   "id": "3d17ce22",
   "metadata": {},
   "source": [
    "### Profiling based on order day of the week"
   ]
  },
  {
   "cell_type": "code",
   "execution_count": 33,
   "id": "41573acb",
   "metadata": {
    "ExecuteTime": {
     "end_time": "2023-04-10T16:53:00.050057Z",
     "start_time": "2023-04-10T16:52:58.264202Z"
    }
   },
   "outputs": [
    {
     "data": {
      "text/html": [
       "<div>\n",
       "<style scoped>\n",
       "    .dataframe tbody tr th:only-of-type {\n",
       "        vertical-align: middle;\n",
       "    }\n",
       "\n",
       "    .dataframe tbody tr th {\n",
       "        vertical-align: top;\n",
       "    }\n",
       "\n",
       "    .dataframe thead tr th {\n",
       "        text-align: left;\n",
       "    }\n",
       "\n",
       "    .dataframe thead tr:last-of-type th {\n",
       "        text-align: right;\n",
       "    }\n",
       "</style>\n",
       "<table border=\"1\" class=\"dataframe\">\n",
       "  <thead>\n",
       "    <tr>\n",
       "      <th></th>\n",
       "      <th></th>\n",
       "      <th>order_day_of_week</th>\n",
       "    </tr>\n",
       "    <tr>\n",
       "      <th></th>\n",
       "      <th></th>\n",
       "      <th>count</th>\n",
       "    </tr>\n",
       "    <tr>\n",
       "      <th>age_groups</th>\n",
       "      <th>order_day_of_week</th>\n",
       "      <th></th>\n",
       "    </tr>\n",
       "  </thead>\n",
       "  <tbody>\n",
       "    <tr>\n",
       "      <th rowspan=\"7\" valign=\"top\">Middle aged</th>\n",
       "      <th>0.0</th>\n",
       "      <td>1853274</td>\n",
       "    </tr>\n",
       "    <tr>\n",
       "      <th>1.0</th>\n",
       "      <td>1697439</td>\n",
       "    </tr>\n",
       "    <tr>\n",
       "      <th>2.0</th>\n",
       "      <td>1275002</td>\n",
       "    </tr>\n",
       "    <tr>\n",
       "      <th>3.0</th>\n",
       "      <td>1149460</td>\n",
       "    </tr>\n",
       "    <tr>\n",
       "      <th>4.0</th>\n",
       "      <td>1136541</td>\n",
       "    </tr>\n",
       "    <tr>\n",
       "      <th>5.0</th>\n",
       "      <td>1264150</td>\n",
       "    </tr>\n",
       "    <tr>\n",
       "      <th>6.0</th>\n",
       "      <td>1358477</td>\n",
       "    </tr>\n",
       "    <tr>\n",
       "      <th rowspan=\"7\" valign=\"top\">Seniors</th>\n",
       "      <th>0.0</th>\n",
       "      <td>2017559</td>\n",
       "    </tr>\n",
       "    <tr>\n",
       "      <th>1.0</th>\n",
       "      <td>1836114</td>\n",
       "    </tr>\n",
       "    <tr>\n",
       "      <th>2.0</th>\n",
       "      <td>1375799</td>\n",
       "    </tr>\n",
       "    <tr>\n",
       "      <th>3.0</th>\n",
       "      <td>1262337</td>\n",
       "    </tr>\n",
       "    <tr>\n",
       "      <th>4.0</th>\n",
       "      <td>1237478</td>\n",
       "    </tr>\n",
       "    <tr>\n",
       "      <th>5.0</th>\n",
       "      <td>1381203</td>\n",
       "    </tr>\n",
       "    <tr>\n",
       "      <th>6.0</th>\n",
       "      <td>1473685</td>\n",
       "    </tr>\n",
       "    <tr>\n",
       "      <th rowspan=\"7\" valign=\"top\">Young</th>\n",
       "      <th>0.0</th>\n",
       "      <td>2043155</td>\n",
       "    </tr>\n",
       "    <tr>\n",
       "      <th>1.0</th>\n",
       "      <td>1883601</td>\n",
       "    </tr>\n",
       "    <tr>\n",
       "      <th>2.0</th>\n",
       "      <td>1377760</td>\n",
       "    </tr>\n",
       "    <tr>\n",
       "      <th>3.0</th>\n",
       "      <td>1261209</td>\n",
       "    </tr>\n",
       "    <tr>\n",
       "      <th>4.0</th>\n",
       "      <td>1254307</td>\n",
       "    </tr>\n",
       "    <tr>\n",
       "      <th>5.0</th>\n",
       "      <td>1392058</td>\n",
       "    </tr>\n",
       "    <tr>\n",
       "      <th>6.0</th>\n",
       "      <td>1462881</td>\n",
       "    </tr>\n",
       "  </tbody>\n",
       "</table>\n",
       "</div>"
      ],
      "text/plain": [
       "                              order_day_of_week\n",
       "                                          count\n",
       "age_groups  order_day_of_week                  \n",
       "Middle aged 0.0                         1853274\n",
       "            1.0                         1697439\n",
       "            2.0                         1275002\n",
       "            3.0                         1149460\n",
       "            4.0                         1136541\n",
       "            5.0                         1264150\n",
       "            6.0                         1358477\n",
       "Seniors     0.0                         2017559\n",
       "            1.0                         1836114\n",
       "            2.0                         1375799\n",
       "            3.0                         1262337\n",
       "            4.0                         1237478\n",
       "            5.0                         1381203\n",
       "            6.0                         1473685\n",
       "Young       0.0                         2043155\n",
       "            1.0                         1883601\n",
       "            2.0                         1377760\n",
       "            3.0                         1261209\n",
       "            4.0                         1254307\n",
       "            5.0                         1392058\n",
       "            6.0                         1462881"
      ]
     },
     "execution_count": 33,
     "metadata": {},
     "output_type": "execute_result"
    }
   ],
   "source": [
    "df_high_act_customers.groupby(['age_groups', 'order_day_of_week']).agg({'order_day_of_week': ['count']})"
   ]
  },
  {
   "cell_type": "markdown",
   "id": "7fd84e06",
   "metadata": {},
   "source": [
    "Saturday is a popular time to order, as the maximum count of the order day of the week is for Saturday across all age groups. Plus, Sunday is the second most popular time to order across all age groups. "
   ]
  },
  {
   "cell_type": "markdown",
   "id": "85893bb2",
   "metadata": {
    "ExecuteTime": {
     "end_time": "2023-03-31T10:41:15.495182Z",
     "start_time": "2023-03-31T10:41:15.492056Z"
    }
   },
   "source": [
    "### Understanding which products are sold more on the most popular days of the week"
   ]
  },
  {
   "cell_type": "code",
   "execution_count": 34,
   "id": "1445be55",
   "metadata": {
    "ExecuteTime": {
     "end_time": "2023-04-10T16:53:00.054772Z",
     "start_time": "2023-04-10T16:53:00.051585Z"
    }
   },
   "outputs": [
    {
     "data": {
      "text/plain": [
       "(30993489, 31)"
      ]
     },
     "execution_count": 34,
     "metadata": {},
     "output_type": "execute_result"
    }
   ],
   "source": [
    "df_high_act_customers.shape"
   ]
  },
  {
   "cell_type": "code",
   "execution_count": 35,
   "id": "01a05332",
   "metadata": {
    "ExecuteTime": {
     "end_time": "2023-04-10T16:53:01.659881Z",
     "start_time": "2023-04-10T16:53:00.055971Z"
    }
   },
   "outputs": [
    {
     "name": "stderr",
     "output_type": "stream",
     "text": [
      "/tmp/ipykernel_2133/2257041285.py:2: SettingWithCopyWarning: \n",
      "A value is trying to be set on a copy of a slice from a DataFrame.\n",
      "Try using .loc[row_indexer,col_indexer] = value instead\n",
      "\n",
      "See the caveats in the documentation: https://pandas.pydata.org/pandas-docs/stable/user_guide/indexing.html#returning-a-view-versus-a-copy\n",
      "  df_high_act_customers.loc[df_high_act_customers['order_day_of_week'] >= 2, 'Days'] = 'Weekdays'\n"
     ]
    }
   ],
   "source": [
    "# Making a new column where the order day of the week is divided in three groups -Saturday, Sunday and the rest of the days\n",
    "df_high_act_customers.loc[df_high_act_customers['order_day_of_week'] >= 2, 'Days'] = 'Weekdays'\n",
    "df_high_act_customers.loc[df_high_act_customers['order_day_of_week'] == 1, 'Days'] = 'Sunday'"
   ]
  },
  {
   "cell_type": "code",
   "execution_count": 36,
   "id": "8778b526",
   "metadata": {
    "ExecuteTime": {
     "end_time": "2023-04-10T16:53:02.124125Z",
     "start_time": "2023-04-10T16:53:01.661373Z"
    }
   },
   "outputs": [],
   "source": [
    "df_high_act_customers.loc[df_high_act_customers['order_day_of_week'] == 0, 'Days'] = 'Saturday'"
   ]
  },
  {
   "cell_type": "code",
   "execution_count": 37,
   "id": "39c54dcd",
   "metadata": {
    "ExecuteTime": {
     "end_time": "2023-04-10T16:53:03.990247Z",
     "start_time": "2023-04-10T16:53:02.125648Z"
    }
   },
   "outputs": [],
   "source": [
    "# Understanding the number of transactions on Saturday, Sunday and Weekday on a department level\n",
    "df_temp = df_high_act_customers.groupby(['Days', 'department_id']).agg({'order_id': 'count'}).reset_index()"
   ]
  },
  {
   "cell_type": "code",
   "execution_count": 38,
   "id": "42c1ba9f",
   "metadata": {
    "ExecuteTime": {
     "end_time": "2023-04-10T16:53:03.998634Z",
     "start_time": "2023-04-10T16:53:03.991800Z"
    }
   },
   "outputs": [
    {
     "data": {
      "text/html": [
       "<div>\n",
       "<style scoped>\n",
       "    .dataframe tbody tr th:only-of-type {\n",
       "        vertical-align: middle;\n",
       "    }\n",
       "\n",
       "    .dataframe tbody tr th {\n",
       "        vertical-align: top;\n",
       "    }\n",
       "\n",
       "    .dataframe thead th {\n",
       "        text-align: right;\n",
       "    }\n",
       "</style>\n",
       "<table border=\"1\" class=\"dataframe\">\n",
       "  <thead>\n",
       "    <tr style=\"text-align: right;\">\n",
       "      <th></th>\n",
       "      <th>Days</th>\n",
       "      <th>department_id</th>\n",
       "      <th>order_id</th>\n",
       "    </tr>\n",
       "  </thead>\n",
       "  <tbody>\n",
       "    <tr>\n",
       "      <th>0</th>\n",
       "      <td>Saturday</td>\n",
       "      <td>1.0</td>\n",
       "      <td>415950</td>\n",
       "    </tr>\n",
       "    <tr>\n",
       "      <th>1</th>\n",
       "      <td>Saturday</td>\n",
       "      <td>2.0</td>\n",
       "      <td>5751</td>\n",
       "    </tr>\n",
       "    <tr>\n",
       "      <th>2</th>\n",
       "      <td>Saturday</td>\n",
       "      <td>3.0</td>\n",
       "      <td>214438</td>\n",
       "    </tr>\n",
       "    <tr>\n",
       "      <th>3</th>\n",
       "      <td>Saturday</td>\n",
       "      <td>4.0</td>\n",
       "      <td>1865183</td>\n",
       "    </tr>\n",
       "    <tr>\n",
       "      <th>4</th>\n",
       "      <td>Saturday</td>\n",
       "      <td>5.0</td>\n",
       "      <td>16176</td>\n",
       "    </tr>\n",
       "    <tr>\n",
       "      <th>...</th>\n",
       "      <td>...</td>\n",
       "      <td>...</td>\n",
       "      <td>...</td>\n",
       "    </tr>\n",
       "    <tr>\n",
       "      <th>58</th>\n",
       "      <td>Weekdays</td>\n",
       "      <td>17.0</td>\n",
       "      <td>465639</td>\n",
       "    </tr>\n",
       "    <tr>\n",
       "      <th>59</th>\n",
       "      <td>Weekdays</td>\n",
       "      <td>18.0</td>\n",
       "      <td>260774</td>\n",
       "    </tr>\n",
       "    <tr>\n",
       "      <th>60</th>\n",
       "      <td>Weekdays</td>\n",
       "      <td>19.0</td>\n",
       "      <td>1788880</td>\n",
       "    </tr>\n",
       "    <tr>\n",
       "      <th>61</th>\n",
       "      <td>Weekdays</td>\n",
       "      <td>20.0</td>\n",
       "      <td>627795</td>\n",
       "    </tr>\n",
       "    <tr>\n",
       "      <th>62</th>\n",
       "      <td>Weekdays</td>\n",
       "      <td>21.0</td>\n",
       "      <td>41803</td>\n",
       "    </tr>\n",
       "  </tbody>\n",
       "</table>\n",
       "<p>63 rows × 3 columns</p>\n",
       "</div>"
      ],
      "text/plain": [
       "        Days  department_id  order_id\n",
       "0   Saturday            1.0    415950\n",
       "1   Saturday            2.0      5751\n",
       "2   Saturday            3.0    214438\n",
       "3   Saturday            4.0   1865183\n",
       "4   Saturday            5.0     16176\n",
       "..       ...            ...       ...\n",
       "58  Weekdays           17.0    465639\n",
       "59  Weekdays           18.0    260774\n",
       "60  Weekdays           19.0   1788880\n",
       "61  Weekdays           20.0    627795\n",
       "62  Weekdays           21.0     41803\n",
       "\n",
       "[63 rows x 3 columns]"
      ]
     },
     "execution_count": 38,
     "metadata": {},
     "output_type": "execute_result"
    }
   ],
   "source": [
    "df_temp"
   ]
  },
  {
   "cell_type": "code",
   "execution_count": 39,
   "id": "1a338552",
   "metadata": {
    "ExecuteTime": {
     "end_time": "2023-04-10T16:53:04.007136Z",
     "start_time": "2023-04-10T16:53:03.999997Z"
    }
   },
   "outputs": [],
   "source": [
    "df_temp = df_temp.sort_values(by = ['Days','order_id'], ascending=False)"
   ]
  },
  {
   "cell_type": "code",
   "execution_count": 40,
   "id": "d3bf5011",
   "metadata": {
    "ExecuteTime": {
     "end_time": "2023-04-10T16:53:04.017775Z",
     "start_time": "2023-04-10T16:53:04.008381Z"
    }
   },
   "outputs": [
    {
     "data": {
      "text/html": [
       "<div>\n",
       "<style scoped>\n",
       "    .dataframe tbody tr th:only-of-type {\n",
       "        vertical-align: middle;\n",
       "    }\n",
       "\n",
       "    .dataframe tbody tr th {\n",
       "        vertical-align: top;\n",
       "    }\n",
       "\n",
       "    .dataframe thead th {\n",
       "        text-align: right;\n",
       "    }\n",
       "</style>\n",
       "<table border=\"1\" class=\"dataframe\">\n",
       "  <thead>\n",
       "    <tr style=\"text-align: right;\">\n",
       "      <th></th>\n",
       "      <th>Days</th>\n",
       "      <th>department_id</th>\n",
       "      <th>order_id</th>\n",
       "    </tr>\n",
       "  </thead>\n",
       "  <tbody>\n",
       "    <tr>\n",
       "      <th>3</th>\n",
       "      <td>Saturday</td>\n",
       "      <td>4.0</td>\n",
       "      <td>1865183</td>\n",
       "    </tr>\n",
       "    <tr>\n",
       "      <th>15</th>\n",
       "      <td>Saturday</td>\n",
       "      <td>16.0</td>\n",
       "      <td>971292</td>\n",
       "    </tr>\n",
       "    <tr>\n",
       "      <th>18</th>\n",
       "      <td>Saturday</td>\n",
       "      <td>19.0</td>\n",
       "      <td>461049</td>\n",
       "    </tr>\n",
       "    <tr>\n",
       "      <th>0</th>\n",
       "      <td>Saturday</td>\n",
       "      <td>1.0</td>\n",
       "      <td>415950</td>\n",
       "    </tr>\n",
       "    <tr>\n",
       "      <th>6</th>\n",
       "      <td>Saturday</td>\n",
       "      <td>7.0</td>\n",
       "      <td>412091</td>\n",
       "    </tr>\n",
       "    <tr>\n",
       "      <th>12</th>\n",
       "      <td>Saturday</td>\n",
       "      <td>13.0</td>\n",
       "      <td>333468</td>\n",
       "    </tr>\n",
       "    <tr>\n",
       "      <th>14</th>\n",
       "      <td>Saturday</td>\n",
       "      <td>15.0</td>\n",
       "      <td>216023</td>\n",
       "    </tr>\n",
       "    <tr>\n",
       "      <th>2</th>\n",
       "      <td>Saturday</td>\n",
       "      <td>3.0</td>\n",
       "      <td>214438</td>\n",
       "    </tr>\n",
       "    <tr>\n",
       "      <th>19</th>\n",
       "      <td>Saturday</td>\n",
       "      <td>20.0</td>\n",
       "      <td>199582</td>\n",
       "    </tr>\n",
       "    <tr>\n",
       "      <th>8</th>\n",
       "      <td>Saturday</td>\n",
       "      <td>9.0</td>\n",
       "      <td>172536</td>\n",
       "    </tr>\n",
       "    <tr>\n",
       "      <th>11</th>\n",
       "      <td>Saturday</td>\n",
       "      <td>12.0</td>\n",
       "      <td>143933</td>\n",
       "    </tr>\n",
       "    <tr>\n",
       "      <th>13</th>\n",
       "      <td>Saturday</td>\n",
       "      <td>14.0</td>\n",
       "      <td>119516</td>\n",
       "    </tr>\n",
       "    <tr>\n",
       "      <th>16</th>\n",
       "      <td>Saturday</td>\n",
       "      <td>17.0</td>\n",
       "      <td>119161</td>\n",
       "    </tr>\n",
       "    <tr>\n",
       "      <th>17</th>\n",
       "      <td>Saturday</td>\n",
       "      <td>18.0</td>\n",
       "      <td>78926</td>\n",
       "    </tr>\n",
       "    <tr>\n",
       "      <th>10</th>\n",
       "      <td>Saturday</td>\n",
       "      <td>11.0</td>\n",
       "      <td>76086</td>\n",
       "    </tr>\n",
       "    <tr>\n",
       "      <th>5</th>\n",
       "      <td>Saturday</td>\n",
       "      <td>6.0</td>\n",
       "      <td>52982</td>\n",
       "    </tr>\n",
       "    <tr>\n",
       "      <th>7</th>\n",
       "      <td>Saturday</td>\n",
       "      <td>8.0</td>\n",
       "      <td>16257</td>\n",
       "    </tr>\n",
       "    <tr>\n",
       "      <th>4</th>\n",
       "      <td>Saturday</td>\n",
       "      <td>5.0</td>\n",
       "      <td>16176</td>\n",
       "    </tr>\n",
       "    <tr>\n",
       "      <th>20</th>\n",
       "      <td>Saturday</td>\n",
       "      <td>21.0</td>\n",
       "      <td>12294</td>\n",
       "    </tr>\n",
       "    <tr>\n",
       "      <th>9</th>\n",
       "      <td>Saturday</td>\n",
       "      <td>10.0</td>\n",
       "      <td>5921</td>\n",
       "    </tr>\n",
       "    <tr>\n",
       "      <th>1</th>\n",
       "      <td>Saturday</td>\n",
       "      <td>2.0</td>\n",
       "      <td>5751</td>\n",
       "    </tr>\n",
       "  </tbody>\n",
       "</table>\n",
       "</div>"
      ],
      "text/plain": [
       "        Days  department_id  order_id\n",
       "3   Saturday            4.0   1865183\n",
       "15  Saturday           16.0    971292\n",
       "18  Saturday           19.0    461049\n",
       "0   Saturday            1.0    415950\n",
       "6   Saturday            7.0    412091\n",
       "12  Saturday           13.0    333468\n",
       "14  Saturday           15.0    216023\n",
       "2   Saturday            3.0    214438\n",
       "19  Saturday           20.0    199582\n",
       "8   Saturday            9.0    172536\n",
       "11  Saturday           12.0    143933\n",
       "13  Saturday           14.0    119516\n",
       "16  Saturday           17.0    119161\n",
       "17  Saturday           18.0     78926\n",
       "10  Saturday           11.0     76086\n",
       "5   Saturday            6.0     52982\n",
       "7   Saturday            8.0     16257\n",
       "4   Saturday            5.0     16176\n",
       "20  Saturday           21.0     12294\n",
       "9   Saturday           10.0      5921\n",
       "1   Saturday            2.0      5751"
      ]
     },
     "execution_count": 40,
     "metadata": {},
     "output_type": "execute_result"
    }
   ],
   "source": [
    "# Number of products sold on Saturday according to department_id\n",
    "df_temp[df_temp['Days']=='Saturday']"
   ]
  },
  {
   "cell_type": "code",
   "execution_count": 41,
   "id": "54ed9288",
   "metadata": {
    "ExecuteTime": {
     "end_time": "2023-04-10T16:53:04.027732Z",
     "start_time": "2023-04-10T16:53:04.018882Z"
    }
   },
   "outputs": [
    {
     "data": {
      "text/html": [
       "<div>\n",
       "<style scoped>\n",
       "    .dataframe tbody tr th:only-of-type {\n",
       "        vertical-align: middle;\n",
       "    }\n",
       "\n",
       "    .dataframe tbody tr th {\n",
       "        vertical-align: top;\n",
       "    }\n",
       "\n",
       "    .dataframe thead th {\n",
       "        text-align: right;\n",
       "    }\n",
       "</style>\n",
       "<table border=\"1\" class=\"dataframe\">\n",
       "  <thead>\n",
       "    <tr style=\"text-align: right;\">\n",
       "      <th></th>\n",
       "      <th>Days</th>\n",
       "      <th>department_id</th>\n",
       "      <th>order_id</th>\n",
       "    </tr>\n",
       "  </thead>\n",
       "  <tbody>\n",
       "    <tr>\n",
       "      <th>24</th>\n",
       "      <td>Sunday</td>\n",
       "      <td>4.0</td>\n",
       "      <td>1612409</td>\n",
       "    </tr>\n",
       "    <tr>\n",
       "      <th>36</th>\n",
       "      <td>Sunday</td>\n",
       "      <td>16.0</td>\n",
       "      <td>916406</td>\n",
       "    </tr>\n",
       "    <tr>\n",
       "      <th>39</th>\n",
       "      <td>Sunday</td>\n",
       "      <td>19.0</td>\n",
       "      <td>516477</td>\n",
       "    </tr>\n",
       "    <tr>\n",
       "      <th>27</th>\n",
       "      <td>Sunday</td>\n",
       "      <td>7.0</td>\n",
       "      <td>462953</td>\n",
       "    </tr>\n",
       "    <tr>\n",
       "      <th>21</th>\n",
       "      <td>Sunday</td>\n",
       "      <td>1.0</td>\n",
       "      <td>341966</td>\n",
       "    </tr>\n",
       "    <tr>\n",
       "      <th>33</th>\n",
       "      <td>Sunday</td>\n",
       "      <td>13.0</td>\n",
       "      <td>289903</td>\n",
       "    </tr>\n",
       "    <tr>\n",
       "      <th>23</th>\n",
       "      <td>Sunday</td>\n",
       "      <td>3.0</td>\n",
       "      <td>194647</td>\n",
       "    </tr>\n",
       "    <tr>\n",
       "      <th>40</th>\n",
       "      <td>Sunday</td>\n",
       "      <td>20.0</td>\n",
       "      <td>176457</td>\n",
       "    </tr>\n",
       "    <tr>\n",
       "      <th>35</th>\n",
       "      <td>Sunday</td>\n",
       "      <td>15.0</td>\n",
       "      <td>170213</td>\n",
       "    </tr>\n",
       "    <tr>\n",
       "      <th>29</th>\n",
       "      <td>Sunday</td>\n",
       "      <td>9.0</td>\n",
       "      <td>140174</td>\n",
       "    </tr>\n",
       "    <tr>\n",
       "      <th>34</th>\n",
       "      <td>Sunday</td>\n",
       "      <td>14.0</td>\n",
       "      <td>122583</td>\n",
       "    </tr>\n",
       "    <tr>\n",
       "      <th>37</th>\n",
       "      <td>Sunday</td>\n",
       "      <td>17.0</td>\n",
       "      <td>115058</td>\n",
       "    </tr>\n",
       "    <tr>\n",
       "      <th>32</th>\n",
       "      <td>Sunday</td>\n",
       "      <td>12.0</td>\n",
       "      <td>113318</td>\n",
       "    </tr>\n",
       "    <tr>\n",
       "      <th>38</th>\n",
       "      <td>Sunday</td>\n",
       "      <td>18.0</td>\n",
       "      <td>70692</td>\n",
       "    </tr>\n",
       "    <tr>\n",
       "      <th>31</th>\n",
       "      <td>Sunday</td>\n",
       "      <td>11.0</td>\n",
       "      <td>68613</td>\n",
       "    </tr>\n",
       "    <tr>\n",
       "      <th>26</th>\n",
       "      <td>Sunday</td>\n",
       "      <td>6.0</td>\n",
       "      <td>44083</td>\n",
       "    </tr>\n",
       "    <tr>\n",
       "      <th>25</th>\n",
       "      <td>Sunday</td>\n",
       "      <td>5.0</td>\n",
       "      <td>19400</td>\n",
       "    </tr>\n",
       "    <tr>\n",
       "      <th>28</th>\n",
       "      <td>Sunday</td>\n",
       "      <td>8.0</td>\n",
       "      <td>13851</td>\n",
       "    </tr>\n",
       "    <tr>\n",
       "      <th>41</th>\n",
       "      <td>Sunday</td>\n",
       "      <td>21.0</td>\n",
       "      <td>10671</td>\n",
       "    </tr>\n",
       "    <tr>\n",
       "      <th>30</th>\n",
       "      <td>Sunday</td>\n",
       "      <td>10.0</td>\n",
       "      <td>6137</td>\n",
       "    </tr>\n",
       "    <tr>\n",
       "      <th>22</th>\n",
       "      <td>Sunday</td>\n",
       "      <td>2.0</td>\n",
       "      <td>5675</td>\n",
       "    </tr>\n",
       "  </tbody>\n",
       "</table>\n",
       "</div>"
      ],
      "text/plain": [
       "      Days  department_id  order_id\n",
       "24  Sunday            4.0   1612409\n",
       "36  Sunday           16.0    916406\n",
       "39  Sunday           19.0    516477\n",
       "27  Sunday            7.0    462953\n",
       "21  Sunday            1.0    341966\n",
       "33  Sunday           13.0    289903\n",
       "23  Sunday            3.0    194647\n",
       "40  Sunday           20.0    176457\n",
       "35  Sunday           15.0    170213\n",
       "29  Sunday            9.0    140174\n",
       "34  Sunday           14.0    122583\n",
       "37  Sunday           17.0    115058\n",
       "32  Sunday           12.0    113318\n",
       "38  Sunday           18.0     70692\n",
       "31  Sunday           11.0     68613\n",
       "26  Sunday            6.0     44083\n",
       "25  Sunday            5.0     19400\n",
       "28  Sunday            8.0     13851\n",
       "41  Sunday           21.0     10671\n",
       "30  Sunday           10.0      6137\n",
       "22  Sunday            2.0      5675"
      ]
     },
     "execution_count": 41,
     "metadata": {},
     "output_type": "execute_result"
    }
   ],
   "source": [
    "df_temp[df_temp['Days']=='Sunday']"
   ]
  },
  {
   "cell_type": "code",
   "execution_count": 42,
   "id": "8e137c43",
   "metadata": {
    "ExecuteTime": {
     "end_time": "2023-04-10T16:53:04.043940Z",
     "start_time": "2023-04-10T16:53:04.028873Z"
    }
   },
   "outputs": [],
   "source": [
    "# Import departments_wrangled \n",
    "df_dep = pd.read_csv('departments_wrangled.csv')"
   ]
  },
  {
   "cell_type": "code",
   "execution_count": 43,
   "id": "8786f420",
   "metadata": {
    "ExecuteTime": {
     "end_time": "2023-04-10T16:53:04.049217Z",
     "start_time": "2023-04-10T16:53:04.045087Z"
    }
   },
   "outputs": [
    {
     "data": {
      "text/html": [
       "<div>\n",
       "<style scoped>\n",
       "    .dataframe tbody tr th:only-of-type {\n",
       "        vertical-align: middle;\n",
       "    }\n",
       "\n",
       "    .dataframe tbody tr th {\n",
       "        vertical-align: top;\n",
       "    }\n",
       "\n",
       "    .dataframe thead th {\n",
       "        text-align: right;\n",
       "    }\n",
       "</style>\n",
       "<table border=\"1\" class=\"dataframe\">\n",
       "  <thead>\n",
       "    <tr style=\"text-align: right;\">\n",
       "      <th></th>\n",
       "      <th>Unnamed: 0</th>\n",
       "      <th>department</th>\n",
       "    </tr>\n",
       "  </thead>\n",
       "  <tbody>\n",
       "    <tr>\n",
       "      <th>0</th>\n",
       "      <td>1</td>\n",
       "      <td>frozen</td>\n",
       "    </tr>\n",
       "    <tr>\n",
       "      <th>1</th>\n",
       "      <td>2</td>\n",
       "      <td>other</td>\n",
       "    </tr>\n",
       "    <tr>\n",
       "      <th>2</th>\n",
       "      <td>3</td>\n",
       "      <td>bakery</td>\n",
       "    </tr>\n",
       "    <tr>\n",
       "      <th>3</th>\n",
       "      <td>4</td>\n",
       "      <td>produce</td>\n",
       "    </tr>\n",
       "    <tr>\n",
       "      <th>4</th>\n",
       "      <td>5</td>\n",
       "      <td>alcohol</td>\n",
       "    </tr>\n",
       "    <tr>\n",
       "      <th>5</th>\n",
       "      <td>6</td>\n",
       "      <td>international</td>\n",
       "    </tr>\n",
       "    <tr>\n",
       "      <th>6</th>\n",
       "      <td>7</td>\n",
       "      <td>beverages</td>\n",
       "    </tr>\n",
       "    <tr>\n",
       "      <th>7</th>\n",
       "      <td>8</td>\n",
       "      <td>pets</td>\n",
       "    </tr>\n",
       "    <tr>\n",
       "      <th>8</th>\n",
       "      <td>9</td>\n",
       "      <td>dry goods pasta</td>\n",
       "    </tr>\n",
       "    <tr>\n",
       "      <th>9</th>\n",
       "      <td>10</td>\n",
       "      <td>bulk</td>\n",
       "    </tr>\n",
       "    <tr>\n",
       "      <th>10</th>\n",
       "      <td>11</td>\n",
       "      <td>personal care</td>\n",
       "    </tr>\n",
       "    <tr>\n",
       "      <th>11</th>\n",
       "      <td>12</td>\n",
       "      <td>meat seafood</td>\n",
       "    </tr>\n",
       "    <tr>\n",
       "      <th>12</th>\n",
       "      <td>13</td>\n",
       "      <td>pantry</td>\n",
       "    </tr>\n",
       "    <tr>\n",
       "      <th>13</th>\n",
       "      <td>14</td>\n",
       "      <td>breakfast</td>\n",
       "    </tr>\n",
       "    <tr>\n",
       "      <th>14</th>\n",
       "      <td>15</td>\n",
       "      <td>canned goods</td>\n",
       "    </tr>\n",
       "    <tr>\n",
       "      <th>15</th>\n",
       "      <td>16</td>\n",
       "      <td>dairy eggs</td>\n",
       "    </tr>\n",
       "    <tr>\n",
       "      <th>16</th>\n",
       "      <td>17</td>\n",
       "      <td>household</td>\n",
       "    </tr>\n",
       "    <tr>\n",
       "      <th>17</th>\n",
       "      <td>18</td>\n",
       "      <td>babies</td>\n",
       "    </tr>\n",
       "    <tr>\n",
       "      <th>18</th>\n",
       "      <td>19</td>\n",
       "      <td>snacks</td>\n",
       "    </tr>\n",
       "    <tr>\n",
       "      <th>19</th>\n",
       "      <td>20</td>\n",
       "      <td>deli</td>\n",
       "    </tr>\n",
       "    <tr>\n",
       "      <th>20</th>\n",
       "      <td>21</td>\n",
       "      <td>missing</td>\n",
       "    </tr>\n",
       "  </tbody>\n",
       "</table>\n",
       "</div>"
      ],
      "text/plain": [
       "    Unnamed: 0       department\n",
       "0            1           frozen\n",
       "1            2            other\n",
       "2            3           bakery\n",
       "3            4          produce\n",
       "4            5          alcohol\n",
       "5            6    international\n",
       "6            7        beverages\n",
       "7            8             pets\n",
       "8            9  dry goods pasta\n",
       "9           10             bulk\n",
       "10          11    personal care\n",
       "11          12     meat seafood\n",
       "12          13           pantry\n",
       "13          14        breakfast\n",
       "14          15     canned goods\n",
       "15          16       dairy eggs\n",
       "16          17        household\n",
       "17          18           babies\n",
       "18          19           snacks\n",
       "19          20             deli\n",
       "20          21          missing"
      ]
     },
     "execution_count": 43,
     "metadata": {},
     "output_type": "execute_result"
    }
   ],
   "source": [
    "df_dep"
   ]
  },
  {
   "cell_type": "markdown",
   "id": "aa0e80fd",
   "metadata": {},
   "source": [
    "The top four orders on Saturday and Sunday were from department_id 4, 16, 19 and 7. These are categorized in produce, dairy eggs, snacks and beverages."
   ]
  },
  {
   "cell_type": "markdown",
   "id": "a815bf92",
   "metadata": {},
   "source": [
    "### Finding out the most popular products sold on the weekend under department_id = 4 (produce)"
   ]
  },
  {
   "cell_type": "code",
   "execution_count": 44,
   "id": "91f60ee7",
   "metadata": {
    "ExecuteTime": {
     "end_time": "2023-04-10T16:53:11.954262Z",
     "start_time": "2023-04-10T16:53:04.050329Z"
    }
   },
   "outputs": [],
   "source": [
    "# Creating a dataframe which inlcudes products of produce which is equivalent to department_id = 4, bought on the weekend\n",
    "df_dep_4 = df_high_act_customers.loc[(df_high_act_customers['department_id'] == 4) & (df_high_act_customers['Days'] != 'Weekdays')]"
   ]
  },
  {
   "cell_type": "code",
   "execution_count": 45,
   "id": "86d2d26c",
   "metadata": {
    "ExecuteTime": {
     "end_time": "2023-04-10T16:53:12.068874Z",
     "start_time": "2023-04-10T16:53:11.955842Z"
    }
   },
   "outputs": [
    {
     "data": {
      "text/plain": [
       "Banana                                                           176497\n",
       "Bag of Organic Bananas                                           136045\n",
       "Organic Strawberries                                              96698\n",
       "Organic Baby Spinach                                              92916\n",
       "Organic Hass Avocado                                              79795\n",
       "                                                                  ...  \n",
       "Organic Green Chickpeas Chipotle, Black Beans Sweet Corn Meal         1\n",
       "Organic Tomato On The Vine                                            1\n",
       "Orange Grape Tomato                                                   1\n",
       "Yellow Cherry Tomato                                                  1\n",
       "Ruby Grapefruit                                                       1\n",
       "Name: product_name, Length: 1672, dtype: int64"
      ]
     },
     "execution_count": 45,
     "metadata": {},
     "output_type": "execute_result"
    }
   ],
   "source": [
    "# Understanging the total number of different types of produce bought over the weekend\n",
    "df_dep_4['product_name'].value_counts()"
   ]
  },
  {
   "cell_type": "markdown",
   "id": "b589f62d",
   "metadata": {},
   "source": [
    "Bananas, organic bananas and organic strawberries are the three most bought items over the weekend. "
   ]
  },
  {
   "cell_type": "markdown",
   "id": "22c0e372",
   "metadata": {},
   "source": [
    "### Finding out the most popular products sold on the weekend under department_id = 16 (dairy eggs)"
   ]
  },
  {
   "cell_type": "code",
   "execution_count": 46,
   "id": "51d2a5b6",
   "metadata": {
    "ExecuteTime": {
     "end_time": "2023-04-10T16:53:14.403282Z",
     "start_time": "2023-04-10T16:53:12.070111Z"
    }
   },
   "outputs": [],
   "source": [
    "# Creating a dataframe which inlcudes types of dairy eggs which is equivalent to department_id = 16, bought on the weekend\n",
    "df_dep_16 = df_high_act_customers.loc[(df_high_act_customers['department_id'] == 16) & (df_high_act_customers['Days'] != 'Weekdays')]"
   ]
  },
  {
   "cell_type": "code",
   "execution_count": 47,
   "id": "4b4c6d92",
   "metadata": {
    "ExecuteTime": {
     "end_time": "2023-04-10T16:53:14.469560Z",
     "start_time": "2023-04-10T16:53:14.405149Z"
    }
   },
   "outputs": [
    {
     "data": {
      "text/plain": [
       "Organic Whole Milk                                              47852\n",
       "Organic Half & Half                                             26393\n",
       "Half & Half                                                     24033\n",
       "Organic Whole String Cheese                                     23184\n",
       "Organic Unsweetened Almond Milk                                 20883\n",
       "                                                                ...  \n",
       "String Cheese Mozzarella                                            1\n",
       "New York Extra Sharp Yellow Cheddar                                 1\n",
       "Tomato Basil Gouda                                                  1\n",
       "Non-Alcoholic White Chocolate Peppermint Bark Coffee Creamer        1\n",
       "Caramel Macchiato                                                   1\n",
       "Name: product_name, Length: 3404, dtype: int64"
      ]
     },
     "execution_count": 47,
     "metadata": {},
     "output_type": "execute_result"
    }
   ],
   "source": [
    "# Understanging the total number of different types of items bought over the weekend\n",
    "df_dep_16['product_name'].value_counts()"
   ]
  },
  {
   "cell_type": "markdown",
   "id": "31b41027",
   "metadata": {},
   "source": [
    "Organic whole milk, 'organic half & half' and 'half & half' are the top three household items sold over the weekend. While the second and third item names are unclear, I think they both refer to types of milk. "
   ]
  },
  {
   "cell_type": "markdown",
   "id": "678c7d0f",
   "metadata": {},
   "source": [
    "### Finding out the most popular products sold on the weekend under department_id = 19 (snacks)"
   ]
  },
  {
   "cell_type": "code",
   "execution_count": 48,
   "id": "7e31b5ba",
   "metadata": {
    "ExecuteTime": {
     "end_time": "2023-04-10T16:53:16.319657Z",
     "start_time": "2023-04-10T16:53:14.470732Z"
    }
   },
   "outputs": [],
   "source": [
    "# Creating a dataframe which inlcudes snacks which is equivalent to department_id = 19, bought on the weekend\n",
    "df_dep_19 = df_high_act_customers.loc[(df_high_act_customers['department_id'] == 19) & (df_high_act_customers['Days'] != 'Weekdays')]"
   ]
  },
  {
   "cell_type": "code",
   "execution_count": 49,
   "id": "8d13ddef",
   "metadata": {
    "ExecuteTime": {
     "end_time": "2023-04-10T16:53:16.360904Z",
     "start_time": "2023-04-10T16:53:16.321668Z"
    }
   },
   "outputs": [
    {
     "data": {
      "text/plain": [
       "Lightly Salted Baked Snap Pea Crisps                   8939\n",
       "Original Veggie Straws                                 6240\n",
       "Pretzel Crisps Original Deli Style Pretzel Crackers    5781\n",
       "Sea Salt Pita Chips                                    5774\n",
       "Baked Aged White Cheddar Rice and Corn Puffs           5092\n",
       "                                                       ... \n",
       "Organic 54% Cocoa Dark Chocolate Bar                      1\n",
       "Tamari Brown Rice Crackers                                1\n",
       "Chocolate Chip Organic                                    1\n",
       "Tortilla Chips Blue Corn                                  1\n",
       "Truffles, Organic, Kickin' Cayenne                        1\n",
       "Name: product_name, Length: 6086, dtype: int64"
      ]
     },
     "execution_count": 49,
     "metadata": {},
     "output_type": "execute_result"
    }
   ],
   "source": [
    "# Understanging the total number of different types of beverages bought over the weekend\n",
    "df_dep_19['product_name'].value_counts()"
   ]
  },
  {
   "cell_type": "markdown",
   "id": "d65b4a0f",
   "metadata": {},
   "source": [
    "Lightly Salted Baked Snap Pea Crisps, original veggie straws and Pretzel Crisps Original Deli Style Pretzel Crackers are the top three snacks that are bought on the weekend. \n"
   ]
  },
  {
   "cell_type": "markdown",
   "id": "e8260f68",
   "metadata": {},
   "source": [
    "### Finding out the most popular products sold on the weekend under department_id = 7 (beverages)"
   ]
  },
  {
   "cell_type": "code",
   "execution_count": 50,
   "id": "86634b51",
   "metadata": {
    "ExecuteTime": {
     "end_time": "2023-04-10T16:53:18.237514Z",
     "start_time": "2023-04-10T16:53:16.362072Z"
    }
   },
   "outputs": [],
   "source": [
    "# Creating a dataframe which inlcudes products of beverages which is equivalent to department_id = 7, bought on the weekend\n",
    "df_dep_7 = df_high_act_customers.loc[(df_high_act_customers['department_id'] == 7) & (df_high_act_customers['Days'] != 'Weekdays')]"
   ]
  },
  {
   "cell_type": "code",
   "execution_count": 51,
   "id": "38c5b9c5",
   "metadata": {
    "ExecuteTime": {
     "end_time": "2023-04-10T16:53:18.272198Z",
     "start_time": "2023-04-10T16:53:18.238831Z"
    }
   },
   "outputs": [
    {
     "data": {
      "text/plain": [
       "Sparkling Water Grapefruit                                       27726\n",
       "Spring Water                                                     17833\n",
       "Lime Sparkling Water                                             16600\n",
       "Sparkling Natural Mineral Water                                  13694\n",
       "100% Raw Coconut Water                                           12836\n",
       "                                                                 ...  \n",
       "Acai 100 Mango Passion Fruit Acai Berry Superfood Juice Blend        1\n",
       "Warriors Grounds Dark Roast Ground Coffee                            1\n",
       "Red Raspberry Herbal Tea                                             1\n",
       "Blood Orange Cocktail Mixer                                          1\n",
       "Frappuccino S'mores Chilled Coffee Drink                             1\n",
       "Name: product_name, Length: 4243, dtype: int64"
      ]
     },
     "execution_count": 51,
     "metadata": {},
     "output_type": "execute_result"
    }
   ],
   "source": [
    "# Understanging the total number of different types of beverages bought over the weekend\n",
    "df_dep_7['product_name'].value_counts()"
   ]
  },
  {
   "cell_type": "markdown",
   "id": "54229977",
   "metadata": {},
   "source": [
    "Sparkling water grapefruit, spring water and lime sparkling water are the most popular beverages bought over the weekend. "
   ]
  },
  {
   "cell_type": "markdown",
   "id": "75b65f8e",
   "metadata": {},
   "source": [
    "### Comparing customer profiles with regions and departments"
   ]
  },
  {
   "cell_type": "code",
   "execution_count": 52,
   "id": "c50b9fad",
   "metadata": {
    "ExecuteTime": {
     "end_time": "2023-04-10T16:53:21.763814Z",
     "start_time": "2023-04-10T16:53:18.273198Z"
    }
   },
   "outputs": [],
   "source": [
    "df_region_spending = pd.crosstab(df_high_act_customers.region, df_high_act_customers.spending_flag)"
   ]
  },
  {
   "cell_type": "code",
   "execution_count": 53,
   "id": "ed026edf",
   "metadata": {
    "ExecuteTime": {
     "end_time": "2023-04-10T16:53:21.769933Z",
     "start_time": "2023-04-10T16:53:21.765144Z"
    }
   },
   "outputs": [
    {
     "data": {
      "text/html": [
       "<div>\n",
       "<style scoped>\n",
       "    .dataframe tbody tr th:only-of-type {\n",
       "        vertical-align: middle;\n",
       "    }\n",
       "\n",
       "    .dataframe tbody tr th {\n",
       "        vertical-align: top;\n",
       "    }\n",
       "\n",
       "    .dataframe thead th {\n",
       "        text-align: right;\n",
       "    }\n",
       "</style>\n",
       "<table border=\"1\" class=\"dataframe\">\n",
       "  <thead>\n",
       "    <tr style=\"text-align: right;\">\n",
       "      <th>spending_flag</th>\n",
       "      <th>High spender</th>\n",
       "      <th>Low spender</th>\n",
       "    </tr>\n",
       "    <tr>\n",
       "      <th>region</th>\n",
       "      <th></th>\n",
       "      <th></th>\n",
       "    </tr>\n",
       "  </thead>\n",
       "  <tbody>\n",
       "    <tr>\n",
       "      <th>R1 - Northeast</th>\n",
       "      <td>91348</td>\n",
       "      <td>4784041</td>\n",
       "    </tr>\n",
       "    <tr>\n",
       "      <th>R2 - Midwest</th>\n",
       "      <td>148784</td>\n",
       "      <td>7119118</td>\n",
       "    </tr>\n",
       "    <tr>\n",
       "      <th>R3 - South</th>\n",
       "      <td>199511</td>\n",
       "      <td>10121320</td>\n",
       "    </tr>\n",
       "    <tr>\n",
       "      <th>R4 - West</th>\n",
       "      <td>152371</td>\n",
       "      <td>7782221</td>\n",
       "    </tr>\n",
       "  </tbody>\n",
       "</table>\n",
       "</div>"
      ],
      "text/plain": [
       "spending_flag   High spender  Low spender\n",
       "region                                   \n",
       "R1 - Northeast         91348      4784041\n",
       "R2 - Midwest          148784      7119118\n",
       "R3 - South            199511     10121320\n",
       "R4 - West             152371      7782221"
      ]
     },
     "execution_count": 53,
     "metadata": {},
     "output_type": "execute_result"
    }
   ],
   "source": [
    "df_region_spending"
   ]
  },
  {
   "cell_type": "code",
   "execution_count": 54,
   "id": "e12036e9",
   "metadata": {
    "ExecuteTime": {
     "end_time": "2023-04-10T16:53:21.882861Z",
     "start_time": "2023-04-10T16:53:21.770878Z"
    }
   },
   "outputs": [
    {
     "data": {
      "image/png": "[encoded data removed]",
      "text/plain": [
       "<Figure size 640x480 with 1 Axes>"
      ]
     },
     "metadata": {},
     "output_type": "display_data"
    }
   ],
   "source": [
    "bar_region_spending = df_region_spending.plot(kind=\"bar\")"
   ]
  },
  {
   "cell_type": "code",
   "execution_count": 55,
   "id": "b296b912",
   "metadata": {
    "ExecuteTime": {
     "end_time": "2023-04-10T16:53:21.945424Z",
     "start_time": "2023-04-10T16:53:21.883799Z"
    }
   },
   "outputs": [],
   "source": [
    "# Saving bar_region_spending graph\n",
    "bar_region_spending.figure.savefig('bar_region_spending.png')"
   ]
  },
  {
   "cell_type": "markdown",
   "id": "f969f45d",
   "metadata": {
    "ExecuteTime": {
     "end_time": "2023-04-06T11:28:26.037622Z",
     "start_time": "2023-04-06T11:28:26.037608Z"
    }
   },
   "source": [
    "Before analyzing spending patterns in different regions, I would like to clarify that if the mean of the prices of products purchased by a user is lower than 10, then they are flagged as a “Low spender\" and if the mean of the prices of products purchased are more than 10, they are considered as \"High spender\". "
   ]
  },
  {
   "cell_type": "markdown",
   "id": "ebb56183",
   "metadata": {
    "ExecuteTime": {
     "end_time": "2023-04-05T20:05:28.242556Z",
     "start_time": "2023-04-05T20:05:28.240179Z"
    }
   },
   "source": [
    "Region 3, which is the South, has more spenders - both high and low, than any other region of the US. The low spenders in all regions make up the major chunk of the customers but the South region has the most customers. "
   ]
  },
  {
   "cell_type": "markdown",
   "id": "2274bdc7",
   "metadata": {},
   "source": [
    "This bar graph shows that people in general spend considerably more on products whose mean price is less than 10."
   ]
  },
  {
   "cell_type": "code",
   "execution_count": 56,
   "id": "b87fc5b0",
   "metadata": {
    "ExecuteTime": {
     "end_time": "2023-04-10T16:53:25.276402Z",
     "start_time": "2023-04-10T16:53:21.946457Z"
    }
   },
   "outputs": [],
   "source": [
    "df_region_department = pd.crosstab(df_high_act_customers.department_id, df_high_act_customers.region)"
   ]
  },
  {
   "cell_type": "code",
   "execution_count": 57,
   "id": "f822ed4b",
   "metadata": {
    "ExecuteTime": {
     "end_time": "2023-04-10T16:53:25.284442Z",
     "start_time": "2023-04-10T16:53:25.277728Z"
    }
   },
   "outputs": [
    {
     "data": {
      "text/html": [
       "<div>\n",
       "<style scoped>\n",
       "    .dataframe tbody tr th:only-of-type {\n",
       "        vertical-align: middle;\n",
       "    }\n",
       "\n",
       "    .dataframe tbody tr th {\n",
       "        vertical-align: top;\n",
       "    }\n",
       "\n",
       "    .dataframe thead th {\n",
       "        text-align: right;\n",
       "    }\n",
       "</style>\n",
       "<table border=\"1\" class=\"dataframe\">\n",
       "  <thead>\n",
       "    <tr style=\"text-align: right;\">\n",
       "      <th>region</th>\n",
       "      <th>R1 - Northeast</th>\n",
       "      <th>R2 - Midwest</th>\n",
       "      <th>R3 - South</th>\n",
       "      <th>R4 - West</th>\n",
       "    </tr>\n",
       "    <tr>\n",
       "      <th>department_id</th>\n",
       "      <th></th>\n",
       "      <th></th>\n",
       "      <th></th>\n",
       "      <th></th>\n",
       "    </tr>\n",
       "  </thead>\n",
       "  <tbody>\n",
       "    <tr>\n",
       "      <th>1.0</th>\n",
       "      <td>330049</td>\n",
       "      <td>498225</td>\n",
       "      <td>709907</td>\n",
       "      <td>543164</td>\n",
       "    </tr>\n",
       "    <tr>\n",
       "      <th>2.0</th>\n",
       "      <td>5626</td>\n",
       "      <td>7983</td>\n",
       "      <td>11579</td>\n",
       "      <td>8581</td>\n",
       "    </tr>\n",
       "    <tr>\n",
       "      <th>3.0</th>\n",
       "      <td>177119</td>\n",
       "      <td>261753</td>\n",
       "      <td>371620</td>\n",
       "      <td>288155</td>\n",
       "    </tr>\n",
       "    <tr>\n",
       "      <th>4.0</th>\n",
       "      <td>1419787</td>\n",
       "      <td>2134116</td>\n",
       "      <td>3027478</td>\n",
       "      <td>2324678</td>\n",
       "    </tr>\n",
       "    <tr>\n",
       "      <th>5.0</th>\n",
       "      <td>22351</td>\n",
       "      <td>34043</td>\n",
       "      <td>48813</td>\n",
       "      <td>36754</td>\n",
       "    </tr>\n",
       "    <tr>\n",
       "      <th>6.0</th>\n",
       "      <td>39796</td>\n",
       "      <td>60666</td>\n",
       "      <td>84649</td>\n",
       "      <td>65998</td>\n",
       "    </tr>\n",
       "    <tr>\n",
       "      <th>7.0</th>\n",
       "      <td>410771</td>\n",
       "      <td>598979</td>\n",
       "      <td>859419</td>\n",
       "      <td>650574</td>\n",
       "    </tr>\n",
       "    <tr>\n",
       "      <th>8.0</th>\n",
       "      <td>15706</td>\n",
       "      <td>21358</td>\n",
       "      <td>29909</td>\n",
       "      <td>24059</td>\n",
       "    </tr>\n",
       "    <tr>\n",
       "      <th>9.0</th>\n",
       "      <td>127914</td>\n",
       "      <td>193463</td>\n",
       "      <td>272813</td>\n",
       "      <td>212043</td>\n",
       "    </tr>\n",
       "    <tr>\n",
       "      <th>10.0</th>\n",
       "      <td>5061</td>\n",
       "      <td>7929</td>\n",
       "      <td>11180</td>\n",
       "      <td>8743</td>\n",
       "    </tr>\n",
       "    <tr>\n",
       "      <th>11.0</th>\n",
       "      <td>67007</td>\n",
       "      <td>100398</td>\n",
       "      <td>142496</td>\n",
       "      <td>106647</td>\n",
       "    </tr>\n",
       "    <tr>\n",
       "      <th>12.0</th>\n",
       "      <td>104860</td>\n",
       "      <td>158260</td>\n",
       "      <td>224120</td>\n",
       "      <td>173830</td>\n",
       "    </tr>\n",
       "    <tr>\n",
       "      <th>13.0</th>\n",
       "      <td>279096</td>\n",
       "      <td>420334</td>\n",
       "      <td>591754</td>\n",
       "      <td>457886</td>\n",
       "    </tr>\n",
       "    <tr>\n",
       "      <th>14.0</th>\n",
       "      <td>106075</td>\n",
       "      <td>156155</td>\n",
       "      <td>223172</td>\n",
       "      <td>173619</td>\n",
       "    </tr>\n",
       "    <tr>\n",
       "      <th>15.0</th>\n",
       "      <td>158001</td>\n",
       "      <td>237459</td>\n",
       "      <td>337458</td>\n",
       "      <td>260221</td>\n",
       "    </tr>\n",
       "    <tr>\n",
       "      <th>16.0</th>\n",
       "      <td>814434</td>\n",
       "      <td>1212490</td>\n",
       "      <td>1723017</td>\n",
       "      <td>1327060</td>\n",
       "    </tr>\n",
       "    <tr>\n",
       "      <th>17.0</th>\n",
       "      <td>111742</td>\n",
       "      <td>166992</td>\n",
       "      <td>230062</td>\n",
       "      <td>178200</td>\n",
       "    </tr>\n",
       "    <tr>\n",
       "      <th>18.0</th>\n",
       "      <td>65336</td>\n",
       "      <td>95741</td>\n",
       "      <td>139511</td>\n",
       "      <td>102428</td>\n",
       "    </tr>\n",
       "    <tr>\n",
       "      <th>19.0</th>\n",
       "      <td>441252</td>\n",
       "      <td>645143</td>\n",
       "      <td>916780</td>\n",
       "      <td>711329</td>\n",
       "    </tr>\n",
       "    <tr>\n",
       "      <th>20.0</th>\n",
       "      <td>158275</td>\n",
       "      <td>234464</td>\n",
       "      <td>333620</td>\n",
       "      <td>257352</td>\n",
       "    </tr>\n",
       "    <tr>\n",
       "      <th>21.0</th>\n",
       "      <td>10192</td>\n",
       "      <td>15563</td>\n",
       "      <td>21787</td>\n",
       "      <td>15906</td>\n",
       "    </tr>\n",
       "  </tbody>\n",
       "</table>\n",
       "</div>"
      ],
      "text/plain": [
       "region         R1 - Northeast  R2 - Midwest  R3 - South  R4 - West\n",
       "department_id                                                     \n",
       "1.0                    330049        498225      709907     543164\n",
       "2.0                      5626          7983       11579       8581\n",
       "3.0                    177119        261753      371620     288155\n",
       "4.0                   1419787       2134116     3027478    2324678\n",
       "5.0                     22351         34043       48813      36754\n",
       "6.0                     39796         60666       84649      65998\n",
       "7.0                    410771        598979      859419     650574\n",
       "8.0                     15706         21358       29909      24059\n",
       "9.0                    127914        193463      272813     212043\n",
       "10.0                     5061          7929       11180       8743\n",
       "11.0                    67007        100398      142496     106647\n",
       "12.0                   104860        158260      224120     173830\n",
       "13.0                   279096        420334      591754     457886\n",
       "14.0                   106075        156155      223172     173619\n",
       "15.0                   158001        237459      337458     260221\n",
       "16.0                   814434       1212490     1723017    1327060\n",
       "17.0                   111742        166992      230062     178200\n",
       "18.0                    65336         95741      139511     102428\n",
       "19.0                   441252        645143      916780     711329\n",
       "20.0                   158275        234464      333620     257352\n",
       "21.0                    10192         15563       21787      15906"
      ]
     },
     "execution_count": 57,
     "metadata": {},
     "output_type": "execute_result"
    }
   ],
   "source": [
    "df_region_department"
   ]
  },
  {
   "cell_type": "code",
   "execution_count": 58,
   "id": "d9cc7bc3",
   "metadata": {
    "ExecuteTime": {
     "end_time": "2023-04-10T16:53:25.300461Z",
     "start_time": "2023-04-10T16:53:25.285501Z"
    }
   },
   "outputs": [
    {
     "data": {
      "text/html": [
       "<div>\n",
       "<style scoped>\n",
       "    .dataframe tbody tr th:only-of-type {\n",
       "        vertical-align: middle;\n",
       "    }\n",
       "\n",
       "    .dataframe tbody tr th {\n",
       "        vertical-align: top;\n",
       "    }\n",
       "\n",
       "    .dataframe thead th {\n",
       "        text-align: right;\n",
       "    }\n",
       "</style>\n",
       "<table border=\"1\" class=\"dataframe\">\n",
       "  <thead>\n",
       "    <tr style=\"text-align: right;\">\n",
       "      <th>region</th>\n",
       "      <th>R1 - Northeast</th>\n",
       "      <th>R2 - Midwest</th>\n",
       "      <th>R3 - South</th>\n",
       "      <th>R4 - West</th>\n",
       "    </tr>\n",
       "  </thead>\n",
       "  <tbody>\n",
       "    <tr>\n",
       "      <th>count</th>\n",
       "      <td>2.100000e+01</td>\n",
       "      <td>2.100000e+01</td>\n",
       "      <td>2.100000e+01</td>\n",
       "      <td>2.100000e+01</td>\n",
       "    </tr>\n",
       "    <tr>\n",
       "      <th>mean</th>\n",
       "      <td>2.319262e+05</td>\n",
       "      <td>3.457864e+05</td>\n",
       "      <td>4.910069e+05</td>\n",
       "      <td>3.774870e+05</td>\n",
       "    </tr>\n",
       "    <tr>\n",
       "      <th>std</th>\n",
       "      <td>3.349260e+05</td>\n",
       "      <td>5.016510e+05</td>\n",
       "      <td>7.122645e+05</td>\n",
       "      <td>5.472350e+05</td>\n",
       "    </tr>\n",
       "    <tr>\n",
       "      <th>min</th>\n",
       "      <td>5.061000e+03</td>\n",
       "      <td>7.929000e+03</td>\n",
       "      <td>1.118000e+04</td>\n",
       "      <td>8.581000e+03</td>\n",
       "    </tr>\n",
       "    <tr>\n",
       "      <th>25%</th>\n",
       "      <td>3.979600e+04</td>\n",
       "      <td>6.066600e+04</td>\n",
       "      <td>8.464900e+04</td>\n",
       "      <td>6.599800e+04</td>\n",
       "    </tr>\n",
       "    <tr>\n",
       "      <th>50%</th>\n",
       "      <td>1.117420e+05</td>\n",
       "      <td>1.669920e+05</td>\n",
       "      <td>2.300620e+05</td>\n",
       "      <td>1.782000e+05</td>\n",
       "    </tr>\n",
       "    <tr>\n",
       "      <th>75%</th>\n",
       "      <td>2.790960e+05</td>\n",
       "      <td>4.203340e+05</td>\n",
       "      <td>5.917540e+05</td>\n",
       "      <td>4.578860e+05</td>\n",
       "    </tr>\n",
       "    <tr>\n",
       "      <th>max</th>\n",
       "      <td>1.419787e+06</td>\n",
       "      <td>2.134116e+06</td>\n",
       "      <td>3.027478e+06</td>\n",
       "      <td>2.324678e+06</td>\n",
       "    </tr>\n",
       "  </tbody>\n",
       "</table>\n",
       "</div>"
      ],
      "text/plain": [
       "region  R1 - Northeast  R2 - Midwest    R3 - South     R4 - West\n",
       "count     2.100000e+01  2.100000e+01  2.100000e+01  2.100000e+01\n",
       "mean      2.319262e+05  3.457864e+05  4.910069e+05  3.774870e+05\n",
       "std       3.349260e+05  5.016510e+05  7.122645e+05  5.472350e+05\n",
       "min       5.061000e+03  7.929000e+03  1.118000e+04  8.581000e+03\n",
       "25%       3.979600e+04  6.066600e+04  8.464900e+04  6.599800e+04\n",
       "50%       1.117420e+05  1.669920e+05  2.300620e+05  1.782000e+05\n",
       "75%       2.790960e+05  4.203340e+05  5.917540e+05  4.578860e+05\n",
       "max       1.419787e+06  2.134116e+06  3.027478e+06  2.324678e+06"
      ]
     },
     "execution_count": 58,
     "metadata": {},
     "output_type": "execute_result"
    }
   ],
   "source": [
    "df_region_department.describe()"
   ]
  },
  {
   "cell_type": "markdown",
   "id": "29fe8203",
   "metadata": {},
   "source": [
    "In all regions, customers shopped most for products that were in department id 4, which is the 'produce' category. The customers in Northeast, Midwest and South region shopped the least from department id 10 which is the 'bulk' category. However, customers in the West region shopped least from department id 2, which is the 'other' category."
   ]
  },
  {
   "cell_type": "markdown",
   "id": "223ab980",
   "metadata": {},
   "source": [
    "## Summarizing findings and analysis"
   ]
  },
  {
   "cell_type": "markdown",
   "id": "775611a5",
   "metadata": {},
   "source": [
    "- Most of the high spenders and low spenders are in Region 3 which is the South of the US.\n",
    "- Exclusion flag was created for low-activity customers (customers with less than 5 orders) and they were excluded from the data.\n",
    "- Customer profiling done with only high activity customers. \n",
    "- The major proportion of customers are married, while the ones who are living with parents or siblings are the lowest in number.\n",
    "- The mean income of the customers is $ 99673. \n",
    "- The customers were grouped for further analysis according to their age in three groups - young, middle age and seniors. \n",
    "- The seniors and young people buy more compared to middle aged people.\n",
    "- There is not a significant difference of ordering products between people with dependents versus people with no dependents. \n",
    "- Saturday and Sunday are the most popular time to order across all age groups. \n",
    "- Top four orders on the weekend were from departments of produce, dairy eggs, snacks and beverages.\n",
    "- The most popular three products within these four departments were searched. \n",
    "- The low spenders in all regions make up the major chunk of the customers but the South region has the most customers. \n",
    "- People generally from all regions of the US spend considerably more on products whose mean price is less than 10."
   ]
  },
  {
   "cell_type": "code",
   "execution_count": null,
   "id": "1413e159",
   "metadata": {},
   "outputs": [],
   "source": []
  }
 ],
 "metadata": {
  "hide_input": false,
  "kernelspec": {
   "display_name": "Python 3 (ipykernel)",
   "language": "python",
   "name": "python3"
  },
  "language_info": {
   "codemirror_mode": {
    "name": "ipython",
    "version": 3
   },
   "file_extension": ".py",
   "mimetype": "text/x-python",
   "name": "python",
   "nbconvert_exporter": "python",
   "pygments_lexer": "ipython3",
   "version": "3.8.15"
  }
 },
 "nbformat": 4,
 "nbformat_minor": 5
}
