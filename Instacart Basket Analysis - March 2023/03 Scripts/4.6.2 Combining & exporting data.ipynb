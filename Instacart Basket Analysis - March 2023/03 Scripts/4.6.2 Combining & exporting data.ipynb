{
 "cells": [
  {
   "cell_type": "markdown",
   "id": "a551e190",
   "metadata": {},
   "source": [
    "## Importing libraries"
   ]
  },
  {
   "cell_type": "code",
   "execution_count": 1,
   "id": "6e731648",
   "metadata": {},
   "outputs": [],
   "source": [
    "# Import libraries \n",
    "import pandas as pd\n",
    "import numpy as np\n",
    "import os"
   ]
  },
  {
   "cell_type": "markdown",
   "id": "d1a6060b",
   "metadata": {},
   "source": [
    "# Merging products_checked & orders_products_combined"
   ]
  },
  {
   "cell_type": "markdown",
   "id": "8a11951f",
   "metadata": {},
   "source": [
    "## Importing dataframes "
   ]
  },
  {
   "cell_type": "code",
   "execution_count": 2,
   "id": "f8caff70",
   "metadata": {},
   "outputs": [],
   "source": [
    "path = r'C:\\Users\\myra_\\Documents\\Instacart Basket Analysis 02-2023'"
   ]
  },
  {
   "cell_type": "code",
   "execution_count": 3,
   "id": "ef0400f4",
   "metadata": {},
   "outputs": [],
   "source": [
    "# Import the dataset 'orders_products_combined.pkl'\n",
    "ords_prods_comb = pd.read_pickle(os.path.join(path, '02 Data', 'Prepared data', 'orders_products_combined.pkl'))"
   ]
  },
  {
   "cell_type": "code",
   "execution_count": 4,
   "id": "0254fcbe",
   "metadata": {},
   "outputs": [],
   "source": [
    "# Import the dataset 'products_checked.csv'\n",
    "df_prods = pd.read_csv(os.path.join(path, '02 Data', 'Prepared data', 'products_checked.csv'))"
   ]
  },
  {
   "cell_type": "markdown",
   "id": "77f1bd55",
   "metadata": {},
   "source": [
    "## Checking the shape"
   ]
  },
  {
   "cell_type": "code",
   "execution_count": 5,
   "id": "e7a96012",
   "metadata": {},
   "outputs": [
    {
     "data": {
      "text/plain": [
       "(32434489, 9)"
      ]
     },
     "execution_count": 5,
     "metadata": {},
     "output_type": "execute_result"
    }
   ],
   "source": [
    "ords_prods_comb.shape"
   ]
  },
  {
   "cell_type": "markdown",
   "id": "c07c8db6",
   "metadata": {},
   "source": [
    "The shape is the same as the one I exported."
   ]
  },
  {
   "cell_type": "code",
   "execution_count": 6,
   "id": "d1bc4de1",
   "metadata": {},
   "outputs": [
    {
     "data": {
      "text/plain": [
       "(49672, 6)"
      ]
     },
     "execution_count": 6,
     "metadata": {},
     "output_type": "execute_result"
    }
   ],
   "source": [
    "df_prods.shape"
   ]
  },
  {
   "cell_type": "code",
   "execution_count": 7,
   "id": "d34491cf",
   "metadata": {},
   "outputs": [
    {
     "data": {
      "text/html": [
       "<div>\n",
       "<style scoped>\n",
       "    .dataframe tbody tr th:only-of-type {\n",
       "        vertical-align: middle;\n",
       "    }\n",
       "\n",
       "    .dataframe tbody tr th {\n",
       "        vertical-align: top;\n",
       "    }\n",
       "\n",
       "    .dataframe thead th {\n",
       "        text-align: right;\n",
       "    }\n",
       "</style>\n",
       "<table border=\"1\" class=\"dataframe\">\n",
       "  <thead>\n",
       "    <tr style=\"text-align: right;\">\n",
       "      <th></th>\n",
       "      <th>order_id</th>\n",
       "      <th>user_id</th>\n",
       "      <th>order_number</th>\n",
       "      <th>order_day_of_week</th>\n",
       "      <th>order_hour_of_day</th>\n",
       "      <th>days_since_prior_order</th>\n",
       "      <th>product_id</th>\n",
       "      <th>add_to_cart_order</th>\n",
       "      <th>reordered</th>\n",
       "    </tr>\n",
       "  </thead>\n",
       "  <tbody>\n",
       "    <tr>\n",
       "      <th>0</th>\n",
       "      <td>40</td>\n",
       "      <td>382</td>\n",
       "      <td>29</td>\n",
       "      <td>1</td>\n",
       "      <td>15</td>\n",
       "      <td>23.0</td>\n",
       "      <td>10070</td>\n",
       "      <td>1</td>\n",
       "      <td>1</td>\n",
       "    </tr>\n",
       "    <tr>\n",
       "      <th>1</th>\n",
       "      <td>40</td>\n",
       "      <td>382</td>\n",
       "      <td>29</td>\n",
       "      <td>1</td>\n",
       "      <td>15</td>\n",
       "      <td>23.0</td>\n",
       "      <td>42450</td>\n",
       "      <td>2</td>\n",
       "      <td>1</td>\n",
       "    </tr>\n",
       "    <tr>\n",
       "      <th>2</th>\n",
       "      <td>40</td>\n",
       "      <td>382</td>\n",
       "      <td>29</td>\n",
       "      <td>1</td>\n",
       "      <td>15</td>\n",
       "      <td>23.0</td>\n",
       "      <td>33198</td>\n",
       "      <td>3</td>\n",
       "      <td>1</td>\n",
       "    </tr>\n",
       "    <tr>\n",
       "      <th>3</th>\n",
       "      <td>40</td>\n",
       "      <td>382</td>\n",
       "      <td>29</td>\n",
       "      <td>1</td>\n",
       "      <td>15</td>\n",
       "      <td>23.0</td>\n",
       "      <td>34866</td>\n",
       "      <td>4</td>\n",
       "      <td>1</td>\n",
       "    </tr>\n",
       "    <tr>\n",
       "      <th>4</th>\n",
       "      <td>214</td>\n",
       "      <td>503</td>\n",
       "      <td>5</td>\n",
       "      <td>0</td>\n",
       "      <td>16</td>\n",
       "      <td>9.0</td>\n",
       "      <td>5499</td>\n",
       "      <td>1</td>\n",
       "      <td>0</td>\n",
       "    </tr>\n",
       "  </tbody>\n",
       "</table>\n",
       "</div>"
      ],
      "text/plain": [
       "   order_id  user_id  order_number  order_day_of_week  order_hour_of_day  \\\n",
       "0        40      382            29                  1                 15   \n",
       "1        40      382            29                  1                 15   \n",
       "2        40      382            29                  1                 15   \n",
       "3        40      382            29                  1                 15   \n",
       "4       214      503             5                  0                 16   \n",
       "\n",
       "   days_since_prior_order  product_id  add_to_cart_order  reordered  \n",
       "0                    23.0       10070                  1          1  \n",
       "1                    23.0       42450                  2          1  \n",
       "2                    23.0       33198                  3          1  \n",
       "3                    23.0       34866                  4          1  \n",
       "4                     9.0        5499                  1          0  "
      ]
     },
     "execution_count": 7,
     "metadata": {},
     "output_type": "execute_result"
    }
   ],
   "source": [
    "ords_prods_comb.head()"
   ]
  },
  {
   "cell_type": "code",
   "execution_count": 8,
   "id": "27207ddc",
   "metadata": {},
   "outputs": [
    {
     "data": {
      "text/html": [
       "<div>\n",
       "<style scoped>\n",
       "    .dataframe tbody tr th:only-of-type {\n",
       "        vertical-align: middle;\n",
       "    }\n",
       "\n",
       "    .dataframe tbody tr th {\n",
       "        vertical-align: top;\n",
       "    }\n",
       "\n",
       "    .dataframe thead th {\n",
       "        text-align: right;\n",
       "    }\n",
       "</style>\n",
       "<table border=\"1\" class=\"dataframe\">\n",
       "  <thead>\n",
       "    <tr style=\"text-align: right;\">\n",
       "      <th></th>\n",
       "      <th>Unnamed: 0</th>\n",
       "      <th>product_id</th>\n",
       "      <th>product_name</th>\n",
       "      <th>aisle_id</th>\n",
       "      <th>department_id</th>\n",
       "      <th>prices</th>\n",
       "    </tr>\n",
       "  </thead>\n",
       "  <tbody>\n",
       "    <tr>\n",
       "      <th>0</th>\n",
       "      <td>0</td>\n",
       "      <td>1</td>\n",
       "      <td>Chocolate Sandwich Cookies</td>\n",
       "      <td>61</td>\n",
       "      <td>19</td>\n",
       "      <td>5.8</td>\n",
       "    </tr>\n",
       "    <tr>\n",
       "      <th>1</th>\n",
       "      <td>1</td>\n",
       "      <td>2</td>\n",
       "      <td>All-Seasons Salt</td>\n",
       "      <td>104</td>\n",
       "      <td>13</td>\n",
       "      <td>9.3</td>\n",
       "    </tr>\n",
       "    <tr>\n",
       "      <th>2</th>\n",
       "      <td>2</td>\n",
       "      <td>3</td>\n",
       "      <td>Robust Golden Unsweetened Oolong Tea</td>\n",
       "      <td>94</td>\n",
       "      <td>7</td>\n",
       "      <td>4.5</td>\n",
       "    </tr>\n",
       "    <tr>\n",
       "      <th>3</th>\n",
       "      <td>3</td>\n",
       "      <td>4</td>\n",
       "      <td>Smart Ones Classic Favorites Mini Rigatoni Wit...</td>\n",
       "      <td>38</td>\n",
       "      <td>1</td>\n",
       "      <td>10.5</td>\n",
       "    </tr>\n",
       "    <tr>\n",
       "      <th>4</th>\n",
       "      <td>4</td>\n",
       "      <td>5</td>\n",
       "      <td>Green Chile Anytime Sauce</td>\n",
       "      <td>5</td>\n",
       "      <td>13</td>\n",
       "      <td>4.3</td>\n",
       "    </tr>\n",
       "  </tbody>\n",
       "</table>\n",
       "</div>"
      ],
      "text/plain": [
       "   Unnamed: 0  product_id                                       product_name  \\\n",
       "0           0           1                         Chocolate Sandwich Cookies   \n",
       "1           1           2                                   All-Seasons Salt   \n",
       "2           2           3               Robust Golden Unsweetened Oolong Tea   \n",
       "3           3           4  Smart Ones Classic Favorites Mini Rigatoni Wit...   \n",
       "4           4           5                          Green Chile Anytime Sauce   \n",
       "\n",
       "   aisle_id  department_id  prices  \n",
       "0        61             19     5.8  \n",
       "1       104             13     9.3  \n",
       "2        94              7     4.5  \n",
       "3        38              1    10.5  \n",
       "4         5             13     4.3  "
      ]
     },
     "execution_count": 8,
     "metadata": {},
     "output_type": "execute_result"
    }
   ],
   "source": [
    "df_prods.head()"
   ]
  },
  {
   "cell_type": "code",
   "execution_count": 9,
   "id": "1410755d",
   "metadata": {},
   "outputs": [],
   "source": [
    "# Deleting 'Unnamed: 0' column because it is not needed\n",
    "del df_prods['Unnamed: 0']"
   ]
  },
  {
   "cell_type": "markdown",
   "id": "7216a477",
   "metadata": {},
   "source": [
    "## Merging"
   ]
  },
  {
   "cell_type": "code",
   "execution_count": 10,
   "id": "34d3f789",
   "metadata": {},
   "outputs": [],
   "source": [
    "df_ords_prods_merged = ords_prods_comb.merge(df_prods, on = 'product_id', how = 'outer', indicator = True)"
   ]
  },
  {
   "cell_type": "code",
   "execution_count": 13,
   "id": "b9d9b3c1",
   "metadata": {},
   "outputs": [
    {
     "data": {
      "text/html": [
       "<div>\n",
       "<style scoped>\n",
       "    .dataframe tbody tr th:only-of-type {\n",
       "        vertical-align: middle;\n",
       "    }\n",
       "\n",
       "    .dataframe tbody tr th {\n",
       "        vertical-align: top;\n",
       "    }\n",
       "\n",
       "    .dataframe thead th {\n",
       "        text-align: right;\n",
       "    }\n",
       "</style>\n",
       "<table border=\"1\" class=\"dataframe\">\n",
       "  <thead>\n",
       "    <tr style=\"text-align: right;\">\n",
       "      <th></th>\n",
       "      <th>order_id</th>\n",
       "      <th>user_id</th>\n",
       "      <th>order_number</th>\n",
       "      <th>order_day_of_week</th>\n",
       "      <th>order_hour_of_day</th>\n",
       "      <th>days_since_prior_order</th>\n",
       "      <th>product_id</th>\n",
       "      <th>add_to_cart_order</th>\n",
       "      <th>reordered</th>\n",
       "      <th>product_name</th>\n",
       "      <th>aisle_id</th>\n",
       "      <th>department_id</th>\n",
       "      <th>prices</th>\n",
       "      <th>_merge</th>\n",
       "    </tr>\n",
       "  </thead>\n",
       "  <tbody>\n",
       "    <tr>\n",
       "      <th>0</th>\n",
       "      <td>40.0</td>\n",
       "      <td>382.0</td>\n",
       "      <td>29.0</td>\n",
       "      <td>1.0</td>\n",
       "      <td>15.0</td>\n",
       "      <td>23.0</td>\n",
       "      <td>10070</td>\n",
       "      <td>1.0</td>\n",
       "      <td>1.0</td>\n",
       "      <td>Organic 1% Low Fat Milk</td>\n",
       "      <td>84.0</td>\n",
       "      <td>16.0</td>\n",
       "      <td>5.9</td>\n",
       "      <td>both</td>\n",
       "    </tr>\n",
       "    <tr>\n",
       "      <th>1</th>\n",
       "      <td>235.0</td>\n",
       "      <td>58701.0</td>\n",
       "      <td>20.0</td>\n",
       "      <td>5.0</td>\n",
       "      <td>9.0</td>\n",
       "      <td>9.0</td>\n",
       "      <td>10070</td>\n",
       "      <td>7.0</td>\n",
       "      <td>1.0</td>\n",
       "      <td>Organic 1% Low Fat Milk</td>\n",
       "      <td>84.0</td>\n",
       "      <td>16.0</td>\n",
       "      <td>5.9</td>\n",
       "      <td>both</td>\n",
       "    </tr>\n",
       "    <tr>\n",
       "      <th>2</th>\n",
       "      <td>581.0</td>\n",
       "      <td>76141.0</td>\n",
       "      <td>3.0</td>\n",
       "      <td>6.0</td>\n",
       "      <td>17.0</td>\n",
       "      <td>7.0</td>\n",
       "      <td>10070</td>\n",
       "      <td>3.0</td>\n",
       "      <td>0.0</td>\n",
       "      <td>Organic 1% Low Fat Milk</td>\n",
       "      <td>84.0</td>\n",
       "      <td>16.0</td>\n",
       "      <td>5.9</td>\n",
       "      <td>both</td>\n",
       "    </tr>\n",
       "    <tr>\n",
       "      <th>3</th>\n",
       "      <td>649.0</td>\n",
       "      <td>135836.0</td>\n",
       "      <td>1.0</td>\n",
       "      <td>4.0</td>\n",
       "      <td>7.0</td>\n",
       "      <td>NaN</td>\n",
       "      <td>10070</td>\n",
       "      <td>1.0</td>\n",
       "      <td>0.0</td>\n",
       "      <td>Organic 1% Low Fat Milk</td>\n",
       "      <td>84.0</td>\n",
       "      <td>16.0</td>\n",
       "      <td>5.9</td>\n",
       "      <td>both</td>\n",
       "    </tr>\n",
       "    <tr>\n",
       "      <th>4</th>\n",
       "      <td>1662.0</td>\n",
       "      <td>2565.0</td>\n",
       "      <td>7.0</td>\n",
       "      <td>5.0</td>\n",
       "      <td>14.0</td>\n",
       "      <td>13.0</td>\n",
       "      <td>10070</td>\n",
       "      <td>10.0</td>\n",
       "      <td>1.0</td>\n",
       "      <td>Organic 1% Low Fat Milk</td>\n",
       "      <td>84.0</td>\n",
       "      <td>16.0</td>\n",
       "      <td>5.9</td>\n",
       "      <td>both</td>\n",
       "    </tr>\n",
       "  </tbody>\n",
       "</table>\n",
       "</div>"
      ],
      "text/plain": [
       "   order_id   user_id  order_number  order_day_of_week  order_hour_of_day  \\\n",
       "0      40.0     382.0          29.0                1.0               15.0   \n",
       "1     235.0   58701.0          20.0                5.0                9.0   \n",
       "2     581.0   76141.0           3.0                6.0               17.0   \n",
       "3     649.0  135836.0           1.0                4.0                7.0   \n",
       "4    1662.0    2565.0           7.0                5.0               14.0   \n",
       "\n",
       "   days_since_prior_order  product_id  add_to_cart_order  reordered  \\\n",
       "0                    23.0       10070                1.0        1.0   \n",
       "1                     9.0       10070                7.0        1.0   \n",
       "2                     7.0       10070                3.0        0.0   \n",
       "3                     NaN       10070                1.0        0.0   \n",
       "4                    13.0       10070               10.0        1.0   \n",
       "\n",
       "              product_name  aisle_id  department_id  prices _merge  \n",
       "0  Organic 1% Low Fat Milk      84.0           16.0     5.9   both  \n",
       "1  Organic 1% Low Fat Milk      84.0           16.0     5.9   both  \n",
       "2  Organic 1% Low Fat Milk      84.0           16.0     5.9   both  \n",
       "3  Organic 1% Low Fat Milk      84.0           16.0     5.9   both  \n",
       "4  Organic 1% Low Fat Milk      84.0           16.0     5.9   both  "
      ]
     },
     "execution_count": 13,
     "metadata": {},
     "output_type": "execute_result"
    }
   ],
   "source": [
    "df_ords_prods_merged.head()"
   ]
  },
  {
   "cell_type": "code",
   "execution_count": 14,
   "id": "f0980dc4",
   "metadata": {},
   "outputs": [
    {
     "data": {
      "text/plain": [
       "both          32404859\n",
       "left_only        30200\n",
       "right_only          11\n",
       "Name: _merge, dtype: int64"
      ]
     },
     "execution_count": 14,
     "metadata": {},
     "output_type": "execute_result"
    }
   ],
   "source": [
    "df_ords_prods_merged['_merge'].value_counts()"
   ]
  },
  {
   "cell_type": "markdown",
   "id": "e97f5d65",
   "metadata": {},
   "source": [
    "## Saving the merged file in pickle"
   ]
  },
  {
   "cell_type": "code",
   "execution_count": 15,
   "id": "be9d1bb4",
   "metadata": {},
   "outputs": [],
   "source": [
    "# Export data to pkl\n",
    "df_ords_prods_merged.to_pickle(os.path.join(path, '02 Data','Prepared data', 'orders_products_merged.pkl'))"
   ]
  },
  {
   "cell_type": "code",
   "execution_count": null,
   "id": "8f3dec20",
   "metadata": {},
   "outputs": [],
   "source": []
  }
 ],
 "metadata": {
  "kernelspec": {
   "display_name": "Python 3 (ipykernel)",
   "language": "python",
   "name": "python3"
  },
  "language_info": {
   "codemirror_mode": {
    "name": "ipython",
    "version": 3
   },
   "file_extension": ".py",
   "mimetype": "text/x-python",
   "name": "python",
   "nbconvert_exporter": "python",
   "pygments_lexer": "ipython3",
   "version": "3.9.13"
  }
 },
 "nbformat": 4,
 "nbformat_minor": 5
}
