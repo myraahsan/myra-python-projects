{
 "cells": [
  {
   "cell_type": "markdown",
   "id": "a35c31b6",
   "metadata": {},
   "source": [
    "### Import libraries"
   ]
  },
  {
   "cell_type": "code",
   "execution_count": 1,
   "id": "48ff28ec",
   "metadata": {
    "ExecuteTime": {
     "end_time": "2023-03-29T13:08:17.169942Z",
     "start_time": "2023-03-29T13:08:15.586254Z"
    }
   },
   "outputs": [],
   "source": [
    "import pandas as pd\n",
    "import numpy as np\n",
    "import os\n",
    "import matplotlib.pyplot as plt\n",
    "import seaborn as sns\n",
    "import scipy"
   ]
  },
  {
   "cell_type": "markdown",
   "id": "a2ee3f42",
   "metadata": {},
   "source": [
    "### Import files"
   ]
  },
  {
   "cell_type": "code",
   "execution_count": 2,
   "id": "7df9b58c",
   "metadata": {
    "ExecuteTime": {
     "end_time": "2023-03-29T13:08:17.396715Z",
     "start_time": "2023-03-29T13:08:17.171493Z"
    }
   },
   "outputs": [],
   "source": [
    "customers = pd.read_pickle('customers2.pkl')"
   ]
  },
  {
   "cell_type": "code",
   "execution_count": 3,
   "id": "abd668b1",
   "metadata": {
    "ExecuteTime": {
     "end_time": "2023-03-29T13:09:24.668609Z",
     "start_time": "2023-03-29T13:08:17.398123Z"
    }
   },
   "outputs": [],
   "source": [
    "ords_prods = pd.read_pickle('orders_products_merged5.pkl')"
   ]
  },
  {
   "cell_type": "code",
   "execution_count": 4,
   "id": "46cb652d",
   "metadata": {
    "ExecuteTime": {
     "end_time": "2023-03-29T13:09:24.675925Z",
     "start_time": "2023-03-29T13:09:24.671491Z"
    }
   },
   "outputs": [
    {
     "data": {
      "text/plain": [
       "(32435059, 23)"
      ]
     },
     "execution_count": 4,
     "metadata": {},
     "output_type": "execute_result"
    }
   ],
   "source": [
    "ords_prods.shape"
   ]
  },
  {
   "cell_type": "code",
   "execution_count": 5,
   "id": "92068f30",
   "metadata": {
    "ExecuteTime": {
     "end_time": "2023-03-29T13:09:24.682788Z",
     "start_time": "2023-03-29T13:09:24.677143Z"
    }
   },
   "outputs": [
    {
     "data": {
      "text/plain": [
       "(206209, 8)"
      ]
     },
     "execution_count": 5,
     "metadata": {},
     "output_type": "execute_result"
    }
   ],
   "source": [
    "customers.shape"
   ]
  },
  {
   "cell_type": "markdown",
   "id": "5337cc1a",
   "metadata": {},
   "source": [
    "## Merging the customer data with the rest of the prepared Instacart data"
   ]
  },
  {
   "cell_type": "markdown",
   "id": "a9cab0aa",
   "metadata": {},
   "source": [
    "### Changing the data type of user_id"
   ]
  },
  {
   "cell_type": "code",
   "execution_count": 6,
   "id": "156044c8",
   "metadata": {
    "ExecuteTime": {
     "end_time": "2023-03-29T13:09:24.699165Z",
     "start_time": "2023-03-29T13:09:24.683963Z"
    }
   },
   "outputs": [
    {
     "data": {
      "text/html": [
       "<div>\n",
       "<style scoped>\n",
       "    .dataframe tbody tr th:only-of-type {\n",
       "        vertical-align: middle;\n",
       "    }\n",
       "\n",
       "    .dataframe tbody tr th {\n",
       "        vertical-align: top;\n",
       "    }\n",
       "\n",
       "    .dataframe thead th {\n",
       "        text-align: right;\n",
       "    }\n",
       "</style>\n",
       "<table border=\"1\" class=\"dataframe\">\n",
       "  <thead>\n",
       "    <tr style=\"text-align: right;\">\n",
       "      <th></th>\n",
       "      <th>user_id</th>\n",
       "      <th>gender</th>\n",
       "      <th>state</th>\n",
       "      <th>age</th>\n",
       "      <th>date_joined</th>\n",
       "      <th>number_of_dependants</th>\n",
       "      <th>marital_status</th>\n",
       "      <th>income</th>\n",
       "    </tr>\n",
       "  </thead>\n",
       "  <tbody>\n",
       "    <tr>\n",
       "      <th>0</th>\n",
       "      <td>26711</td>\n",
       "      <td>Female</td>\n",
       "      <td>Missouri</td>\n",
       "      <td>48</td>\n",
       "      <td>1/1/2017</td>\n",
       "      <td>3</td>\n",
       "      <td>married</td>\n",
       "      <td>165665</td>\n",
       "    </tr>\n",
       "    <tr>\n",
       "      <th>1</th>\n",
       "      <td>33890</td>\n",
       "      <td>Female</td>\n",
       "      <td>New Mexico</td>\n",
       "      <td>36</td>\n",
       "      <td>1/1/2017</td>\n",
       "      <td>0</td>\n",
       "      <td>single</td>\n",
       "      <td>59285</td>\n",
       "    </tr>\n",
       "    <tr>\n",
       "      <th>2</th>\n",
       "      <td>65803</td>\n",
       "      <td>Male</td>\n",
       "      <td>Idaho</td>\n",
       "      <td>35</td>\n",
       "      <td>1/1/2017</td>\n",
       "      <td>2</td>\n",
       "      <td>married</td>\n",
       "      <td>99568</td>\n",
       "    </tr>\n",
       "    <tr>\n",
       "      <th>3</th>\n",
       "      <td>125935</td>\n",
       "      <td>Female</td>\n",
       "      <td>Iowa</td>\n",
       "      <td>40</td>\n",
       "      <td>1/1/2017</td>\n",
       "      <td>0</td>\n",
       "      <td>single</td>\n",
       "      <td>42049</td>\n",
       "    </tr>\n",
       "    <tr>\n",
       "      <th>4</th>\n",
       "      <td>130797</td>\n",
       "      <td>Female</td>\n",
       "      <td>Maryland</td>\n",
       "      <td>26</td>\n",
       "      <td>1/1/2017</td>\n",
       "      <td>1</td>\n",
       "      <td>married</td>\n",
       "      <td>40374</td>\n",
       "    </tr>\n",
       "  </tbody>\n",
       "</table>\n",
       "</div>"
      ],
      "text/plain": [
       "  user_id  gender       state  age date_joined  number_of_dependants  \\\n",
       "0   26711  Female    Missouri   48    1/1/2017                     3   \n",
       "1   33890  Female  New Mexico   36    1/1/2017                     0   \n",
       "2   65803    Male       Idaho   35    1/1/2017                     2   \n",
       "3  125935  Female        Iowa   40    1/1/2017                     0   \n",
       "4  130797  Female    Maryland   26    1/1/2017                     1   \n",
       "\n",
       "  marital_status  income  \n",
       "0        married  165665  \n",
       "1         single   59285  \n",
       "2        married   99568  \n",
       "3         single   42049  \n",
       "4        married   40374  "
      ]
     },
     "execution_count": 6,
     "metadata": {},
     "output_type": "execute_result"
    }
   ],
   "source": [
    "customers.head()"
   ]
  },
  {
   "cell_type": "code",
   "execution_count": 7,
   "id": "7b018cf8",
   "metadata": {
    "ExecuteTime": {
     "end_time": "2023-03-29T13:09:24.714760Z",
     "start_time": "2023-03-29T13:09:24.700296Z"
    }
   },
   "outputs": [
    {
     "data": {
      "text/html": [
       "<div>\n",
       "<style scoped>\n",
       "    .dataframe tbody tr th:only-of-type {\n",
       "        vertical-align: middle;\n",
       "    }\n",
       "\n",
       "    .dataframe tbody tr th {\n",
       "        vertical-align: top;\n",
       "    }\n",
       "\n",
       "    .dataframe thead th {\n",
       "        text-align: right;\n",
       "    }\n",
       "</style>\n",
       "<table border=\"1\" class=\"dataframe\">\n",
       "  <thead>\n",
       "    <tr style=\"text-align: right;\">\n",
       "      <th></th>\n",
       "      <th>order_id</th>\n",
       "      <th>user_id</th>\n",
       "      <th>order_number</th>\n",
       "      <th>order_day_of_week</th>\n",
       "      <th>order_hour_of_day</th>\n",
       "      <th>days_since_prior_order</th>\n",
       "      <th>product_id</th>\n",
       "      <th>add_to_cart_order</th>\n",
       "      <th>reordered</th>\n",
       "      <th>product_name</th>\n",
       "      <th>...</th>\n",
       "      <th>_merge</th>\n",
       "      <th>busiest_day</th>\n",
       "      <th>busiest_days_of_week</th>\n",
       "      <th>busiest_period_of_day</th>\n",
       "      <th>max_order</th>\n",
       "      <th>loyalty_flag</th>\n",
       "      <th>avg_order</th>\n",
       "      <th>spending_flag</th>\n",
       "      <th>median_days_order</th>\n",
       "      <th>Order_freq_flag</th>\n",
       "    </tr>\n",
       "  </thead>\n",
       "  <tbody>\n",
       "    <tr>\n",
       "      <th>0</th>\n",
       "      <td>40.0</td>\n",
       "      <td>382.0</td>\n",
       "      <td>29.0</td>\n",
       "      <td>1.0</td>\n",
       "      <td>15.0</td>\n",
       "      <td>23.0</td>\n",
       "      <td>10070</td>\n",
       "      <td>1.0</td>\n",
       "      <td>1.0</td>\n",
       "      <td>Organic 1% Low Fat Milk</td>\n",
       "      <td>...</td>\n",
       "      <td>both</td>\n",
       "      <td>Regularly busy</td>\n",
       "      <td>Busiest days</td>\n",
       "      <td>Most orders</td>\n",
       "      <td>29.0</td>\n",
       "      <td>Regular customer</td>\n",
       "      <td>7.817925</td>\n",
       "      <td>Low spender</td>\n",
       "      <td>6.0</td>\n",
       "      <td>Frequent customer</td>\n",
       "    </tr>\n",
       "    <tr>\n",
       "      <th>1</th>\n",
       "      <td>235.0</td>\n",
       "      <td>58701.0</td>\n",
       "      <td>20.0</td>\n",
       "      <td>5.0</td>\n",
       "      <td>9.0</td>\n",
       "      <td>9.0</td>\n",
       "      <td>10070</td>\n",
       "      <td>7.0</td>\n",
       "      <td>1.0</td>\n",
       "      <td>Organic 1% Low Fat Milk</td>\n",
       "      <td>...</td>\n",
       "      <td>both</td>\n",
       "      <td>Regularly busy</td>\n",
       "      <td>Regularly busy days</td>\n",
       "      <td>Fewest orders</td>\n",
       "      <td>21.0</td>\n",
       "      <td>Regular customer</td>\n",
       "      <td>7.565289</td>\n",
       "      <td>Low spender</td>\n",
       "      <td>14.0</td>\n",
       "      <td>Regular customer</td>\n",
       "    </tr>\n",
       "    <tr>\n",
       "      <th>2</th>\n",
       "      <td>581.0</td>\n",
       "      <td>76141.0</td>\n",
       "      <td>3.0</td>\n",
       "      <td>6.0</td>\n",
       "      <td>17.0</td>\n",
       "      <td>7.0</td>\n",
       "      <td>10070</td>\n",
       "      <td>3.0</td>\n",
       "      <td>0.0</td>\n",
       "      <td>Organic 1% Low Fat Milk</td>\n",
       "      <td>...</td>\n",
       "      <td>both</td>\n",
       "      <td>Regularly busy</td>\n",
       "      <td>Regularly busy days</td>\n",
       "      <td>Average orders</td>\n",
       "      <td>27.0</td>\n",
       "      <td>Regular customer</td>\n",
       "      <td>8.006993</td>\n",
       "      <td>Low spender</td>\n",
       "      <td>12.0</td>\n",
       "      <td>Regular customer</td>\n",
       "    </tr>\n",
       "    <tr>\n",
       "      <th>3</th>\n",
       "      <td>649.0</td>\n",
       "      <td>135836.0</td>\n",
       "      <td>1.0</td>\n",
       "      <td>4.0</td>\n",
       "      <td>7.0</td>\n",
       "      <td>NaN</td>\n",
       "      <td>10070</td>\n",
       "      <td>1.0</td>\n",
       "      <td>0.0</td>\n",
       "      <td>Organic 1% Low Fat Milk</td>\n",
       "      <td>...</td>\n",
       "      <td>both</td>\n",
       "      <td>Least busy</td>\n",
       "      <td>Least busy days</td>\n",
       "      <td>Average orders</td>\n",
       "      <td>17.0</td>\n",
       "      <td>Regular customer</td>\n",
       "      <td>8.436000</td>\n",
       "      <td>Low spender</td>\n",
       "      <td>5.0</td>\n",
       "      <td>Frequent customer</td>\n",
       "    </tr>\n",
       "    <tr>\n",
       "      <th>4</th>\n",
       "      <td>1662.0</td>\n",
       "      <td>2565.0</td>\n",
       "      <td>7.0</td>\n",
       "      <td>5.0</td>\n",
       "      <td>14.0</td>\n",
       "      <td>13.0</td>\n",
       "      <td>10070</td>\n",
       "      <td>10.0</td>\n",
       "      <td>1.0</td>\n",
       "      <td>Organic 1% Low Fat Milk</td>\n",
       "      <td>...</td>\n",
       "      <td>both</td>\n",
       "      <td>Regularly busy</td>\n",
       "      <td>Regularly busy days</td>\n",
       "      <td>Most orders</td>\n",
       "      <td>11.0</td>\n",
       "      <td>Regular customer</td>\n",
       "      <td>8.279558</td>\n",
       "      <td>Low spender</td>\n",
       "      <td>15.0</td>\n",
       "      <td>Regular customer</td>\n",
       "    </tr>\n",
       "  </tbody>\n",
       "</table>\n",
       "<p>5 rows × 23 columns</p>\n",
       "</div>"
      ],
      "text/plain": [
       "   order_id   user_id  order_number  order_day_of_week  order_hour_of_day  \\\n",
       "0      40.0     382.0          29.0                1.0               15.0   \n",
       "1     235.0   58701.0          20.0                5.0                9.0   \n",
       "2     581.0   76141.0           3.0                6.0               17.0   \n",
       "3     649.0  135836.0           1.0                4.0                7.0   \n",
       "4    1662.0    2565.0           7.0                5.0               14.0   \n",
       "\n",
       "   days_since_prior_order  product_id  add_to_cart_order  reordered  \\\n",
       "0                    23.0       10070                1.0        1.0   \n",
       "1                     9.0       10070                7.0        1.0   \n",
       "2                     7.0       10070                3.0        0.0   \n",
       "3                     NaN       10070                1.0        0.0   \n",
       "4                    13.0       10070               10.0        1.0   \n",
       "\n",
       "              product_name  ...  _merge     busiest_day  busiest_days_of_week  \\\n",
       "0  Organic 1% Low Fat Milk  ...    both  Regularly busy          Busiest days   \n",
       "1  Organic 1% Low Fat Milk  ...    both  Regularly busy   Regularly busy days   \n",
       "2  Organic 1% Low Fat Milk  ...    both  Regularly busy   Regularly busy days   \n",
       "3  Organic 1% Low Fat Milk  ...    both      Least busy       Least busy days   \n",
       "4  Organic 1% Low Fat Milk  ...    both  Regularly busy   Regularly busy days   \n",
       "\n",
       "  busiest_period_of_day max_order      loyalty_flag avg_order  spending_flag  \\\n",
       "0           Most orders      29.0  Regular customer  7.817925    Low spender   \n",
       "1         Fewest orders      21.0  Regular customer  7.565289    Low spender   \n",
       "2        Average orders      27.0  Regular customer  8.006993    Low spender   \n",
       "3        Average orders      17.0  Regular customer  8.436000    Low spender   \n",
       "4           Most orders      11.0  Regular customer  8.279558    Low spender   \n",
       "\n",
       "  median_days_order    Order_freq_flag  \n",
       "0               6.0  Frequent customer  \n",
       "1              14.0   Regular customer  \n",
       "2              12.0   Regular customer  \n",
       "3               5.0  Frequent customer  \n",
       "4              15.0   Regular customer  \n",
       "\n",
       "[5 rows x 23 columns]"
      ]
     },
     "execution_count": 7,
     "metadata": {},
     "output_type": "execute_result"
    }
   ],
   "source": [
    "ords_prods.head()"
   ]
  },
  {
   "cell_type": "code",
   "execution_count": 8,
   "id": "323f5604",
   "metadata": {
    "ExecuteTime": {
     "end_time": "2023-03-29T13:09:24.720909Z",
     "start_time": "2023-03-29T13:09:24.715829Z"
    }
   },
   "outputs": [
    {
     "data": {
      "text/plain": [
       "dtype('float64')"
      ]
     },
     "execution_count": 8,
     "metadata": {},
     "output_type": "execute_result"
    }
   ],
   "source": [
    "ords_prods['user_id'].dtype"
   ]
  },
  {
   "cell_type": "code",
   "execution_count": 9,
   "id": "5ebdc3db",
   "metadata": {
    "ExecuteTime": {
     "end_time": "2023-03-29T13:09:24.726691Z",
     "start_time": "2023-03-29T13:09:24.721949Z"
    }
   },
   "outputs": [
    {
     "data": {
      "text/plain": [
       "dtype('O')"
      ]
     },
     "execution_count": 9,
     "metadata": {},
     "output_type": "execute_result"
    }
   ],
   "source": [
    "customers['user_id'].dtype"
   ]
  },
  {
   "cell_type": "code",
   "execution_count": 10,
   "id": "6825460e",
   "metadata": {
    "ExecuteTime": {
     "end_time": "2023-03-29T13:09:27.221324Z",
     "start_time": "2023-03-29T13:09:24.728843Z"
    }
   },
   "outputs": [],
   "source": [
    "# Changing 'user_id' data type from float64 to integer first, so that we could get rid of the decimal\n",
    "ords_prods['user_id'] = ords_prods['user_id'].astype('int')"
   ]
  },
  {
   "cell_type": "code",
   "execution_count": 11,
   "id": "fd082030",
   "metadata": {
    "ExecuteTime": {
     "end_time": "2023-03-29T13:09:27.225961Z",
     "start_time": "2023-03-29T13:09:27.222845Z"
    }
   },
   "outputs": [
    {
     "data": {
      "text/plain": [
       "dtype('int64')"
      ]
     },
     "execution_count": 11,
     "metadata": {},
     "output_type": "execute_result"
    }
   ],
   "source": [
    "ords_prods['user_id'].dtype"
   ]
  },
  {
   "cell_type": "code",
   "execution_count": 12,
   "id": "6c440d61",
   "metadata": {
    "ExecuteTime": {
     "end_time": "2023-03-29T13:09:27.244170Z",
     "start_time": "2023-03-29T13:09:27.227046Z"
    }
   },
   "outputs": [
    {
     "data": {
      "text/html": [
       "<div>\n",
       "<style scoped>\n",
       "    .dataframe tbody tr th:only-of-type {\n",
       "        vertical-align: middle;\n",
       "    }\n",
       "\n",
       "    .dataframe tbody tr th {\n",
       "        vertical-align: top;\n",
       "    }\n",
       "\n",
       "    .dataframe thead th {\n",
       "        text-align: right;\n",
       "    }\n",
       "</style>\n",
       "<table border=\"1\" class=\"dataframe\">\n",
       "  <thead>\n",
       "    <tr style=\"text-align: right;\">\n",
       "      <th></th>\n",
       "      <th>order_id</th>\n",
       "      <th>user_id</th>\n",
       "      <th>order_number</th>\n",
       "      <th>order_day_of_week</th>\n",
       "      <th>order_hour_of_day</th>\n",
       "      <th>days_since_prior_order</th>\n",
       "      <th>product_id</th>\n",
       "      <th>add_to_cart_order</th>\n",
       "      <th>reordered</th>\n",
       "      <th>product_name</th>\n",
       "      <th>...</th>\n",
       "      <th>_merge</th>\n",
       "      <th>busiest_day</th>\n",
       "      <th>busiest_days_of_week</th>\n",
       "      <th>busiest_period_of_day</th>\n",
       "      <th>max_order</th>\n",
       "      <th>loyalty_flag</th>\n",
       "      <th>avg_order</th>\n",
       "      <th>spending_flag</th>\n",
       "      <th>median_days_order</th>\n",
       "      <th>Order_freq_flag</th>\n",
       "    </tr>\n",
       "  </thead>\n",
       "  <tbody>\n",
       "    <tr>\n",
       "      <th>0</th>\n",
       "      <td>40.0</td>\n",
       "      <td>382</td>\n",
       "      <td>29.0</td>\n",
       "      <td>1.0</td>\n",
       "      <td>15.0</td>\n",
       "      <td>23.0</td>\n",
       "      <td>10070</td>\n",
       "      <td>1.0</td>\n",
       "      <td>1.0</td>\n",
       "      <td>Organic 1% Low Fat Milk</td>\n",
       "      <td>...</td>\n",
       "      <td>both</td>\n",
       "      <td>Regularly busy</td>\n",
       "      <td>Busiest days</td>\n",
       "      <td>Most orders</td>\n",
       "      <td>29.0</td>\n",
       "      <td>Regular customer</td>\n",
       "      <td>7.817925</td>\n",
       "      <td>Low spender</td>\n",
       "      <td>6.0</td>\n",
       "      <td>Frequent customer</td>\n",
       "    </tr>\n",
       "    <tr>\n",
       "      <th>1</th>\n",
       "      <td>235.0</td>\n",
       "      <td>58701</td>\n",
       "      <td>20.0</td>\n",
       "      <td>5.0</td>\n",
       "      <td>9.0</td>\n",
       "      <td>9.0</td>\n",
       "      <td>10070</td>\n",
       "      <td>7.0</td>\n",
       "      <td>1.0</td>\n",
       "      <td>Organic 1% Low Fat Milk</td>\n",
       "      <td>...</td>\n",
       "      <td>both</td>\n",
       "      <td>Regularly busy</td>\n",
       "      <td>Regularly busy days</td>\n",
       "      <td>Fewest orders</td>\n",
       "      <td>21.0</td>\n",
       "      <td>Regular customer</td>\n",
       "      <td>7.565289</td>\n",
       "      <td>Low spender</td>\n",
       "      <td>14.0</td>\n",
       "      <td>Regular customer</td>\n",
       "    </tr>\n",
       "    <tr>\n",
       "      <th>2</th>\n",
       "      <td>581.0</td>\n",
       "      <td>76141</td>\n",
       "      <td>3.0</td>\n",
       "      <td>6.0</td>\n",
       "      <td>17.0</td>\n",
       "      <td>7.0</td>\n",
       "      <td>10070</td>\n",
       "      <td>3.0</td>\n",
       "      <td>0.0</td>\n",
       "      <td>Organic 1% Low Fat Milk</td>\n",
       "      <td>...</td>\n",
       "      <td>both</td>\n",
       "      <td>Regularly busy</td>\n",
       "      <td>Regularly busy days</td>\n",
       "      <td>Average orders</td>\n",
       "      <td>27.0</td>\n",
       "      <td>Regular customer</td>\n",
       "      <td>8.006993</td>\n",
       "      <td>Low spender</td>\n",
       "      <td>12.0</td>\n",
       "      <td>Regular customer</td>\n",
       "    </tr>\n",
       "    <tr>\n",
       "      <th>3</th>\n",
       "      <td>649.0</td>\n",
       "      <td>135836</td>\n",
       "      <td>1.0</td>\n",
       "      <td>4.0</td>\n",
       "      <td>7.0</td>\n",
       "      <td>NaN</td>\n",
       "      <td>10070</td>\n",
       "      <td>1.0</td>\n",
       "      <td>0.0</td>\n",
       "      <td>Organic 1% Low Fat Milk</td>\n",
       "      <td>...</td>\n",
       "      <td>both</td>\n",
       "      <td>Least busy</td>\n",
       "      <td>Least busy days</td>\n",
       "      <td>Average orders</td>\n",
       "      <td>17.0</td>\n",
       "      <td>Regular customer</td>\n",
       "      <td>8.436000</td>\n",
       "      <td>Low spender</td>\n",
       "      <td>5.0</td>\n",
       "      <td>Frequent customer</td>\n",
       "    </tr>\n",
       "    <tr>\n",
       "      <th>4</th>\n",
       "      <td>1662.0</td>\n",
       "      <td>2565</td>\n",
       "      <td>7.0</td>\n",
       "      <td>5.0</td>\n",
       "      <td>14.0</td>\n",
       "      <td>13.0</td>\n",
       "      <td>10070</td>\n",
       "      <td>10.0</td>\n",
       "      <td>1.0</td>\n",
       "      <td>Organic 1% Low Fat Milk</td>\n",
       "      <td>...</td>\n",
       "      <td>both</td>\n",
       "      <td>Regularly busy</td>\n",
       "      <td>Regularly busy days</td>\n",
       "      <td>Most orders</td>\n",
       "      <td>11.0</td>\n",
       "      <td>Regular customer</td>\n",
       "      <td>8.279558</td>\n",
       "      <td>Low spender</td>\n",
       "      <td>15.0</td>\n",
       "      <td>Regular customer</td>\n",
       "    </tr>\n",
       "  </tbody>\n",
       "</table>\n",
       "<p>5 rows × 23 columns</p>\n",
       "</div>"
      ],
      "text/plain": [
       "   order_id  user_id  order_number  order_day_of_week  order_hour_of_day  \\\n",
       "0      40.0      382          29.0                1.0               15.0   \n",
       "1     235.0    58701          20.0                5.0                9.0   \n",
       "2     581.0    76141           3.0                6.0               17.0   \n",
       "3     649.0   135836           1.0                4.0                7.0   \n",
       "4    1662.0     2565           7.0                5.0               14.0   \n",
       "\n",
       "   days_since_prior_order  product_id  add_to_cart_order  reordered  \\\n",
       "0                    23.0       10070                1.0        1.0   \n",
       "1                     9.0       10070                7.0        1.0   \n",
       "2                     7.0       10070                3.0        0.0   \n",
       "3                     NaN       10070                1.0        0.0   \n",
       "4                    13.0       10070               10.0        1.0   \n",
       "\n",
       "              product_name  ...  _merge     busiest_day  busiest_days_of_week  \\\n",
       "0  Organic 1% Low Fat Milk  ...    both  Regularly busy          Busiest days   \n",
       "1  Organic 1% Low Fat Milk  ...    both  Regularly busy   Regularly busy days   \n",
       "2  Organic 1% Low Fat Milk  ...    both  Regularly busy   Regularly busy days   \n",
       "3  Organic 1% Low Fat Milk  ...    both      Least busy       Least busy days   \n",
       "4  Organic 1% Low Fat Milk  ...    both  Regularly busy   Regularly busy days   \n",
       "\n",
       "  busiest_period_of_day max_order      loyalty_flag avg_order  spending_flag  \\\n",
       "0           Most orders      29.0  Regular customer  7.817925    Low spender   \n",
       "1         Fewest orders      21.0  Regular customer  7.565289    Low spender   \n",
       "2        Average orders      27.0  Regular customer  8.006993    Low spender   \n",
       "3        Average orders      17.0  Regular customer  8.436000    Low spender   \n",
       "4           Most orders      11.0  Regular customer  8.279558    Low spender   \n",
       "\n",
       "  median_days_order    Order_freq_flag  \n",
       "0               6.0  Frequent customer  \n",
       "1              14.0   Regular customer  \n",
       "2              12.0   Regular customer  \n",
       "3               5.0  Frequent customer  \n",
       "4              15.0   Regular customer  \n",
       "\n",
       "[5 rows x 23 columns]"
      ]
     },
     "execution_count": 12,
     "metadata": {},
     "output_type": "execute_result"
    }
   ],
   "source": [
    "ords_prods.head() # We can see that in user_id the decimals are gone and float has become an integer now "
   ]
  },
  {
   "cell_type": "code",
   "execution_count": 13,
   "id": "c87e43d2",
   "metadata": {
    "ExecuteTime": {
     "end_time": "2023-03-29T13:09:28.308285Z",
     "start_time": "2023-03-29T13:09:27.245528Z"
    }
   },
   "outputs": [],
   "source": [
    "# Changing the the data type to strings now\n",
    "ords_prods['user_id'] = ords_prods['user_id'].astype('O')"
   ]
  },
  {
   "cell_type": "code",
   "execution_count": 14,
   "id": "5f7b960e",
   "metadata": {
    "ExecuteTime": {
     "end_time": "2023-03-29T13:09:28.317436Z",
     "start_time": "2023-03-29T13:09:28.309902Z"
    }
   },
   "outputs": [
    {
     "data": {
      "text/plain": [
       "dtype('O')"
      ]
     },
     "execution_count": 14,
     "metadata": {},
     "output_type": "execute_result"
    }
   ],
   "source": [
    "ords_prods['user_id'].dtype"
   ]
  },
  {
   "cell_type": "markdown",
   "id": "bb9545ec",
   "metadata": {},
   "source": [
    "Now that the data-type of user_id of both dataframes are the same, we can merge them"
   ]
  },
  {
   "cell_type": "markdown",
   "id": "9f40f6b5",
   "metadata": {},
   "source": [
    "### Deleting unnecessary columns"
   ]
  },
  {
   "cell_type": "code",
   "execution_count": 15,
   "id": "42be6c2f",
   "metadata": {
    "ExecuteTime": {
     "end_time": "2023-03-29T13:09:30.019988Z",
     "start_time": "2023-03-29T13:09:28.318610Z"
    }
   },
   "outputs": [],
   "source": [
    "# Deleting columns that are not needed\n",
    "ords_prods = ords_prods.drop(['_merge', 'max_order', 'median_days_order', 'reordered'], axis=1)"
   ]
  },
  {
   "cell_type": "code",
   "execution_count": 16,
   "id": "52c1104e",
   "metadata": {
    "ExecuteTime": {
     "end_time": "2023-03-29T13:09:30.035006Z",
     "start_time": "2023-03-29T13:09:30.021751Z"
    }
   },
   "outputs": [
    {
     "data": {
      "text/html": [
       "<div>\n",
       "<style scoped>\n",
       "    .dataframe tbody tr th:only-of-type {\n",
       "        vertical-align: middle;\n",
       "    }\n",
       "\n",
       "    .dataframe tbody tr th {\n",
       "        vertical-align: top;\n",
       "    }\n",
       "\n",
       "    .dataframe thead th {\n",
       "        text-align: right;\n",
       "    }\n",
       "</style>\n",
       "<table border=\"1\" class=\"dataframe\">\n",
       "  <thead>\n",
       "    <tr style=\"text-align: right;\">\n",
       "      <th></th>\n",
       "      <th>order_id</th>\n",
       "      <th>user_id</th>\n",
       "      <th>order_number</th>\n",
       "      <th>order_day_of_week</th>\n",
       "      <th>order_hour_of_day</th>\n",
       "      <th>days_since_prior_order</th>\n",
       "      <th>product_id</th>\n",
       "      <th>add_to_cart_order</th>\n",
       "      <th>product_name</th>\n",
       "      <th>aisle_id</th>\n",
       "      <th>department_id</th>\n",
       "      <th>prices</th>\n",
       "      <th>busiest_day</th>\n",
       "      <th>busiest_days_of_week</th>\n",
       "      <th>busiest_period_of_day</th>\n",
       "      <th>loyalty_flag</th>\n",
       "      <th>avg_order</th>\n",
       "      <th>spending_flag</th>\n",
       "      <th>Order_freq_flag</th>\n",
       "    </tr>\n",
       "  </thead>\n",
       "  <tbody>\n",
       "    <tr>\n",
       "      <th>0</th>\n",
       "      <td>40.0</td>\n",
       "      <td>382</td>\n",
       "      <td>29.0</td>\n",
       "      <td>1.0</td>\n",
       "      <td>15.0</td>\n",
       "      <td>23.0</td>\n",
       "      <td>10070</td>\n",
       "      <td>1.0</td>\n",
       "      <td>Organic 1% Low Fat Milk</td>\n",
       "      <td>84.0</td>\n",
       "      <td>16.0</td>\n",
       "      <td>5.9</td>\n",
       "      <td>Regularly busy</td>\n",
       "      <td>Busiest days</td>\n",
       "      <td>Most orders</td>\n",
       "      <td>Regular customer</td>\n",
       "      <td>7.817925</td>\n",
       "      <td>Low spender</td>\n",
       "      <td>Frequent customer</td>\n",
       "    </tr>\n",
       "    <tr>\n",
       "      <th>1</th>\n",
       "      <td>235.0</td>\n",
       "      <td>58701</td>\n",
       "      <td>20.0</td>\n",
       "      <td>5.0</td>\n",
       "      <td>9.0</td>\n",
       "      <td>9.0</td>\n",
       "      <td>10070</td>\n",
       "      <td>7.0</td>\n",
       "      <td>Organic 1% Low Fat Milk</td>\n",
       "      <td>84.0</td>\n",
       "      <td>16.0</td>\n",
       "      <td>5.9</td>\n",
       "      <td>Regularly busy</td>\n",
       "      <td>Regularly busy days</td>\n",
       "      <td>Fewest orders</td>\n",
       "      <td>Regular customer</td>\n",
       "      <td>7.565289</td>\n",
       "      <td>Low spender</td>\n",
       "      <td>Regular customer</td>\n",
       "    </tr>\n",
       "    <tr>\n",
       "      <th>2</th>\n",
       "      <td>581.0</td>\n",
       "      <td>76141</td>\n",
       "      <td>3.0</td>\n",
       "      <td>6.0</td>\n",
       "      <td>17.0</td>\n",
       "      <td>7.0</td>\n",
       "      <td>10070</td>\n",
       "      <td>3.0</td>\n",
       "      <td>Organic 1% Low Fat Milk</td>\n",
       "      <td>84.0</td>\n",
       "      <td>16.0</td>\n",
       "      <td>5.9</td>\n",
       "      <td>Regularly busy</td>\n",
       "      <td>Regularly busy days</td>\n",
       "      <td>Average orders</td>\n",
       "      <td>Regular customer</td>\n",
       "      <td>8.006993</td>\n",
       "      <td>Low spender</td>\n",
       "      <td>Regular customer</td>\n",
       "    </tr>\n",
       "    <tr>\n",
       "      <th>3</th>\n",
       "      <td>649.0</td>\n",
       "      <td>135836</td>\n",
       "      <td>1.0</td>\n",
       "      <td>4.0</td>\n",
       "      <td>7.0</td>\n",
       "      <td>NaN</td>\n",
       "      <td>10070</td>\n",
       "      <td>1.0</td>\n",
       "      <td>Organic 1% Low Fat Milk</td>\n",
       "      <td>84.0</td>\n",
       "      <td>16.0</td>\n",
       "      <td>5.9</td>\n",
       "      <td>Least busy</td>\n",
       "      <td>Least busy days</td>\n",
       "      <td>Average orders</td>\n",
       "      <td>Regular customer</td>\n",
       "      <td>8.436000</td>\n",
       "      <td>Low spender</td>\n",
       "      <td>Frequent customer</td>\n",
       "    </tr>\n",
       "    <tr>\n",
       "      <th>4</th>\n",
       "      <td>1662.0</td>\n",
       "      <td>2565</td>\n",
       "      <td>7.0</td>\n",
       "      <td>5.0</td>\n",
       "      <td>14.0</td>\n",
       "      <td>13.0</td>\n",
       "      <td>10070</td>\n",
       "      <td>10.0</td>\n",
       "      <td>Organic 1% Low Fat Milk</td>\n",
       "      <td>84.0</td>\n",
       "      <td>16.0</td>\n",
       "      <td>5.9</td>\n",
       "      <td>Regularly busy</td>\n",
       "      <td>Regularly busy days</td>\n",
       "      <td>Most orders</td>\n",
       "      <td>Regular customer</td>\n",
       "      <td>8.279558</td>\n",
       "      <td>Low spender</td>\n",
       "      <td>Regular customer</td>\n",
       "    </tr>\n",
       "  </tbody>\n",
       "</table>\n",
       "</div>"
      ],
      "text/plain": [
       "   order_id user_id  order_number  order_day_of_week  order_hour_of_day  \\\n",
       "0      40.0     382          29.0                1.0               15.0   \n",
       "1     235.0   58701          20.0                5.0                9.0   \n",
       "2     581.0   76141           3.0                6.0               17.0   \n",
       "3     649.0  135836           1.0                4.0                7.0   \n",
       "4    1662.0    2565           7.0                5.0               14.0   \n",
       "\n",
       "   days_since_prior_order  product_id  add_to_cart_order  \\\n",
       "0                    23.0       10070                1.0   \n",
       "1                     9.0       10070                7.0   \n",
       "2                     7.0       10070                3.0   \n",
       "3                     NaN       10070                1.0   \n",
       "4                    13.0       10070               10.0   \n",
       "\n",
       "              product_name  aisle_id  department_id  prices     busiest_day  \\\n",
       "0  Organic 1% Low Fat Milk      84.0           16.0     5.9  Regularly busy   \n",
       "1  Organic 1% Low Fat Milk      84.0           16.0     5.9  Regularly busy   \n",
       "2  Organic 1% Low Fat Milk      84.0           16.0     5.9  Regularly busy   \n",
       "3  Organic 1% Low Fat Milk      84.0           16.0     5.9      Least busy   \n",
       "4  Organic 1% Low Fat Milk      84.0           16.0     5.9  Regularly busy   \n",
       "\n",
       "  busiest_days_of_week busiest_period_of_day      loyalty_flag  avg_order  \\\n",
       "0         Busiest days           Most orders  Regular customer   7.817925   \n",
       "1  Regularly busy days         Fewest orders  Regular customer   7.565289   \n",
       "2  Regularly busy days        Average orders  Regular customer   8.006993   \n",
       "3      Least busy days        Average orders  Regular customer   8.436000   \n",
       "4  Regularly busy days           Most orders  Regular customer   8.279558   \n",
       "\n",
       "  spending_flag    Order_freq_flag  \n",
       "0   Low spender  Frequent customer  \n",
       "1   Low spender   Regular customer  \n",
       "2   Low spender   Regular customer  \n",
       "3   Low spender  Frequent customer  \n",
       "4   Low spender   Regular customer  "
      ]
     },
     "execution_count": 16,
     "metadata": {},
     "output_type": "execute_result"
    }
   ],
   "source": [
    "ords_prods.head()"
   ]
  },
  {
   "cell_type": "markdown",
   "id": "65230ad6",
   "metadata": {},
   "source": [
    "### Merging the two dataframes"
   ]
  },
  {
   "cell_type": "code",
   "execution_count": 17,
   "id": "7cfe72e8",
   "metadata": {
    "ExecuteTime": {
     "end_time": "2023-03-29T13:09:33.640429Z",
     "start_time": "2023-03-29T13:09:30.036583Z"
    }
   },
   "outputs": [],
   "source": [
    "ords_prods.user_id = ords_prods.user_id.astype(str)\n",
    "customers.user_id = customers.user_id.astype(str)"
   ]
  },
  {
   "cell_type": "code",
   "execution_count": 18,
   "id": "5d928911",
   "metadata": {
    "ExecuteTime": {
     "end_time": "2023-03-29T13:10:13.987910Z",
     "start_time": "2023-03-29T13:09:33.641922Z"
    }
   },
   "outputs": [],
   "source": [
    "df_merged = ords_prods.merge(customers, left_on = 'user_id', right_on='user_id', how = 'outer', indicator=True)"
   ]
  },
  {
   "cell_type": "code",
   "execution_count": 19,
   "id": "f723271c",
   "metadata": {
    "ExecuteTime": {
     "end_time": "2023-03-29T13:10:13.993272Z",
     "start_time": "2023-03-29T13:10:13.989752Z"
    }
   },
   "outputs": [
    {
     "data": {
      "text/plain": [
       "(32435059, 19)"
      ]
     },
     "execution_count": 19,
     "metadata": {},
     "output_type": "execute_result"
    }
   ],
   "source": [
    "ords_prods.shape"
   ]
  },
  {
   "cell_type": "code",
   "execution_count": 20,
   "id": "29aef3cf",
   "metadata": {
    "ExecuteTime": {
     "end_time": "2023-03-29T13:10:14.028202Z",
     "start_time": "2023-03-29T13:10:13.994259Z"
    }
   },
   "outputs": [
    {
     "data": {
      "text/html": [
       "<div>\n",
       "<style scoped>\n",
       "    .dataframe tbody tr th:only-of-type {\n",
       "        vertical-align: middle;\n",
       "    }\n",
       "\n",
       "    .dataframe tbody tr th {\n",
       "        vertical-align: top;\n",
       "    }\n",
       "\n",
       "    .dataframe thead th {\n",
       "        text-align: right;\n",
       "    }\n",
       "</style>\n",
       "<table border=\"1\" class=\"dataframe\">\n",
       "  <thead>\n",
       "    <tr style=\"text-align: right;\">\n",
       "      <th></th>\n",
       "      <th>user_id</th>\n",
       "      <th>gender</th>\n",
       "      <th>state</th>\n",
       "      <th>age</th>\n",
       "      <th>date_joined</th>\n",
       "      <th>number_of_dependants</th>\n",
       "      <th>marital_status</th>\n",
       "      <th>income</th>\n",
       "    </tr>\n",
       "  </thead>\n",
       "  <tbody>\n",
       "    <tr>\n",
       "      <th>195988</th>\n",
       "      <td>135836</td>\n",
       "      <td>Female</td>\n",
       "      <td>Nevada</td>\n",
       "      <td>45</td>\n",
       "      <td>2/4/2020</td>\n",
       "      <td>2</td>\n",
       "      <td>married</td>\n",
       "      <td>106089</td>\n",
       "    </tr>\n",
       "  </tbody>\n",
       "</table>\n",
       "</div>"
      ],
      "text/plain": [
       "       user_id  gender   state  age date_joined  number_of_dependants  \\\n",
       "195988  135836  Female  Nevada   45    2/4/2020                     2   \n",
       "\n",
       "       marital_status  income  \n",
       "195988        married  106089  "
      ]
     },
     "execution_count": 20,
     "metadata": {},
     "output_type": "execute_result"
    }
   ],
   "source": [
    "customers[customers.user_id == '135836']"
   ]
  },
  {
   "cell_type": "code",
   "execution_count": 21,
   "id": "8306e059",
   "metadata": {
    "ExecuteTime": {
     "end_time": "2023-03-29T13:10:14.097744Z",
     "start_time": "2023-03-29T13:10:14.029491Z"
    }
   },
   "outputs": [
    {
     "data": {
      "text/plain": [
       "both          32435059\n",
       "left_only            0\n",
       "right_only           0\n",
       "Name: _merge, dtype: int64"
      ]
     },
     "execution_count": 21,
     "metadata": {},
     "output_type": "execute_result"
    }
   ],
   "source": [
    "df_merged['_merge'].value_counts()"
   ]
  },
  {
   "cell_type": "code",
   "execution_count": 22,
   "id": "b5566bad",
   "metadata": {
    "ExecuteTime": {
     "end_time": "2023-03-29T13:10:14.111999Z",
     "start_time": "2023-03-29T13:10:14.098958Z"
    }
   },
   "outputs": [
    {
     "data": {
      "text/html": [
       "<div>\n",
       "<style scoped>\n",
       "    .dataframe tbody tr th:only-of-type {\n",
       "        vertical-align: middle;\n",
       "    }\n",
       "\n",
       "    .dataframe tbody tr th {\n",
       "        vertical-align: top;\n",
       "    }\n",
       "\n",
       "    .dataframe thead th {\n",
       "        text-align: right;\n",
       "    }\n",
       "</style>\n",
       "<table border=\"1\" class=\"dataframe\">\n",
       "  <thead>\n",
       "    <tr style=\"text-align: right;\">\n",
       "      <th></th>\n",
       "      <th>order_id</th>\n",
       "      <th>user_id</th>\n",
       "      <th>order_number</th>\n",
       "      <th>order_day_of_week</th>\n",
       "      <th>order_hour_of_day</th>\n",
       "      <th>days_since_prior_order</th>\n",
       "      <th>product_id</th>\n",
       "      <th>add_to_cart_order</th>\n",
       "      <th>product_name</th>\n",
       "      <th>aisle_id</th>\n",
       "      <th>...</th>\n",
       "      <th>spending_flag</th>\n",
       "      <th>Order_freq_flag</th>\n",
       "      <th>gender</th>\n",
       "      <th>state</th>\n",
       "      <th>age</th>\n",
       "      <th>date_joined</th>\n",
       "      <th>number_of_dependants</th>\n",
       "      <th>marital_status</th>\n",
       "      <th>income</th>\n",
       "      <th>_merge</th>\n",
       "    </tr>\n",
       "  </thead>\n",
       "  <tbody>\n",
       "    <tr>\n",
       "      <th>0</th>\n",
       "      <td>40.0</td>\n",
       "      <td>382</td>\n",
       "      <td>29.0</td>\n",
       "      <td>1.0</td>\n",
       "      <td>15.0</td>\n",
       "      <td>23.0</td>\n",
       "      <td>10070</td>\n",
       "      <td>1.0</td>\n",
       "      <td>Organic 1% Low Fat Milk</td>\n",
       "      <td>84.0</td>\n",
       "      <td>...</td>\n",
       "      <td>Low spender</td>\n",
       "      <td>Frequent customer</td>\n",
       "      <td>Male</td>\n",
       "      <td>New Jersey</td>\n",
       "      <td>21</td>\n",
       "      <td>7/28/2019</td>\n",
       "      <td>2</td>\n",
       "      <td>living with parents and siblings</td>\n",
       "      <td>87994</td>\n",
       "      <td>both</td>\n",
       "    </tr>\n",
       "    <tr>\n",
       "      <th>1</th>\n",
       "      <td>116744.0</td>\n",
       "      <td>382</td>\n",
       "      <td>23.0</td>\n",
       "      <td>4.0</td>\n",
       "      <td>17.0</td>\n",
       "      <td>8.0</td>\n",
       "      <td>10070</td>\n",
       "      <td>3.0</td>\n",
       "      <td>Organic 1% Low Fat Milk</td>\n",
       "      <td>84.0</td>\n",
       "      <td>...</td>\n",
       "      <td>Low spender</td>\n",
       "      <td>Frequent customer</td>\n",
       "      <td>Male</td>\n",
       "      <td>New Jersey</td>\n",
       "      <td>21</td>\n",
       "      <td>7/28/2019</td>\n",
       "      <td>2</td>\n",
       "      <td>living with parents and siblings</td>\n",
       "      <td>87994</td>\n",
       "      <td>both</td>\n",
       "    </tr>\n",
       "    <tr>\n",
       "      <th>2</th>\n",
       "      <td>120295.0</td>\n",
       "      <td>382</td>\n",
       "      <td>27.0</td>\n",
       "      <td>0.0</td>\n",
       "      <td>8.0</td>\n",
       "      <td>13.0</td>\n",
       "      <td>10070</td>\n",
       "      <td>2.0</td>\n",
       "      <td>Organic 1% Low Fat Milk</td>\n",
       "      <td>84.0</td>\n",
       "      <td>...</td>\n",
       "      <td>Low spender</td>\n",
       "      <td>Frequent customer</td>\n",
       "      <td>Male</td>\n",
       "      <td>New Jersey</td>\n",
       "      <td>21</td>\n",
       "      <td>7/28/2019</td>\n",
       "      <td>2</td>\n",
       "      <td>living with parents and siblings</td>\n",
       "      <td>87994</td>\n",
       "      <td>both</td>\n",
       "    </tr>\n",
       "    <tr>\n",
       "      <th>3</th>\n",
       "      <td>247775.0</td>\n",
       "      <td>382</td>\n",
       "      <td>14.0</td>\n",
       "      <td>2.0</td>\n",
       "      <td>15.0</td>\n",
       "      <td>8.0</td>\n",
       "      <td>10070</td>\n",
       "      <td>2.0</td>\n",
       "      <td>Organic 1% Low Fat Milk</td>\n",
       "      <td>84.0</td>\n",
       "      <td>...</td>\n",
       "      <td>Low spender</td>\n",
       "      <td>Frequent customer</td>\n",
       "      <td>Male</td>\n",
       "      <td>New Jersey</td>\n",
       "      <td>21</td>\n",
       "      <td>7/28/2019</td>\n",
       "      <td>2</td>\n",
       "      <td>living with parents and siblings</td>\n",
       "      <td>87994</td>\n",
       "      <td>both</td>\n",
       "    </tr>\n",
       "    <tr>\n",
       "      <th>4</th>\n",
       "      <td>405284.0</td>\n",
       "      <td>382</td>\n",
       "      <td>15.0</td>\n",
       "      <td>1.0</td>\n",
       "      <td>11.0</td>\n",
       "      <td>6.0</td>\n",
       "      <td>10070</td>\n",
       "      <td>1.0</td>\n",
       "      <td>Organic 1% Low Fat Milk</td>\n",
       "      <td>84.0</td>\n",
       "      <td>...</td>\n",
       "      <td>Low spender</td>\n",
       "      <td>Frequent customer</td>\n",
       "      <td>Male</td>\n",
       "      <td>New Jersey</td>\n",
       "      <td>21</td>\n",
       "      <td>7/28/2019</td>\n",
       "      <td>2</td>\n",
       "      <td>living with parents and siblings</td>\n",
       "      <td>87994</td>\n",
       "      <td>both</td>\n",
       "    </tr>\n",
       "  </tbody>\n",
       "</table>\n",
       "<p>5 rows × 27 columns</p>\n",
       "</div>"
      ],
      "text/plain": [
       "   order_id user_id  order_number  order_day_of_week  order_hour_of_day  \\\n",
       "0      40.0     382          29.0                1.0               15.0   \n",
       "1  116744.0     382          23.0                4.0               17.0   \n",
       "2  120295.0     382          27.0                0.0                8.0   \n",
       "3  247775.0     382          14.0                2.0               15.0   \n",
       "4  405284.0     382          15.0                1.0               11.0   \n",
       "\n",
       "   days_since_prior_order  product_id  add_to_cart_order  \\\n",
       "0                    23.0       10070                1.0   \n",
       "1                     8.0       10070                3.0   \n",
       "2                    13.0       10070                2.0   \n",
       "3                     8.0       10070                2.0   \n",
       "4                     6.0       10070                1.0   \n",
       "\n",
       "              product_name  aisle_id  ...  spending_flag    Order_freq_flag  \\\n",
       "0  Organic 1% Low Fat Milk      84.0  ...    Low spender  Frequent customer   \n",
       "1  Organic 1% Low Fat Milk      84.0  ...    Low spender  Frequent customer   \n",
       "2  Organic 1% Low Fat Milk      84.0  ...    Low spender  Frequent customer   \n",
       "3  Organic 1% Low Fat Milk      84.0  ...    Low spender  Frequent customer   \n",
       "4  Organic 1% Low Fat Milk      84.0  ...    Low spender  Frequent customer   \n",
       "\n",
       "  gender       state age date_joined  number_of_dependants  \\\n",
       "0   Male  New Jersey  21   7/28/2019                     2   \n",
       "1   Male  New Jersey  21   7/28/2019                     2   \n",
       "2   Male  New Jersey  21   7/28/2019                     2   \n",
       "3   Male  New Jersey  21   7/28/2019                     2   \n",
       "4   Male  New Jersey  21   7/28/2019                     2   \n",
       "\n",
       "                     marital_status income _merge  \n",
       "0  living with parents and siblings  87994   both  \n",
       "1  living with parents and siblings  87994   both  \n",
       "2  living with parents and siblings  87994   both  \n",
       "3  living with parents and siblings  87994   both  \n",
       "4  living with parents and siblings  87994   both  \n",
       "\n",
       "[5 rows x 27 columns]"
      ]
     },
     "execution_count": 22,
     "metadata": {},
     "output_type": "execute_result"
    }
   ],
   "source": [
    "df_merged.head()"
   ]
  },
  {
   "cell_type": "markdown",
   "id": "5cfbb8c9",
   "metadata": {},
   "source": [
    "### Export files"
   ]
  },
  {
   "cell_type": "code",
   "execution_count": 23,
   "id": "a2bfbba0",
   "metadata": {
    "ExecuteTime": {
     "end_time": "2023-03-29T13:10:52.783501Z",
     "start_time": "2023-03-29T13:10:14.113050Z"
    }
   },
   "outputs": [],
   "source": [
    "df_merged.to_pickle('customers_ords_prods.pkl')"
   ]
  },
  {
   "cell_type": "code",
   "execution_count": null,
   "id": "8bde53a7",
   "metadata": {},
   "outputs": [],
   "source": []
  }
 ],
 "metadata": {
  "hide_input": false,
  "kernelspec": {
   "display_name": "Python 3 (ipykernel)",
   "language": "python",
   "name": "python3"
  },
  "language_info": {
   "codemirror_mode": {
    "name": "ipython",
    "version": 3
   },
   "file_extension": ".py",
   "mimetype": "text/x-python",
   "name": "python",
   "nbconvert_exporter": "python",
   "pygments_lexer": "ipython3",
   "version": "3.8.15"
  }
 },
 "nbformat": 4,
 "nbformat_minor": 5
}
