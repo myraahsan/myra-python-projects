{
 "cells": [
  {
   "cell_type": "markdown",
   "id": "7d810de6",
   "metadata": {},
   "source": [
    "# 01. Importing libraries"
   ]
  },
  {
   "cell_type": "code",
   "execution_count": 1,
   "id": "2e98165c",
   "metadata": {},
   "outputs": [],
   "source": [
    "# Import libraries\n",
    "import pandas as pd\n",
    "import numpy as np\n",
    "import os"
   ]
  },
  {
   "cell_type": "markdown",
   "id": "e06487b3",
   "metadata": {},
   "source": [
    "# 02. Data types"
   ]
  },
  {
   "cell_type": "markdown",
   "id": "5e7f1fe4",
   "metadata": {},
   "source": [
    "## a) Three different ways of reaching a result of 100"
   ]
  },
  {
   "cell_type": "code",
   "execution_count": 5,
   "id": "dc38a5df",
   "metadata": {},
   "outputs": [],
   "source": [
    "x = 50"
   ]
  },
  {
   "cell_type": "code",
   "execution_count": 6,
   "id": "1f33d63d",
   "metadata": {},
   "outputs": [
    {
     "data": {
      "text/plain": [
       "100"
      ]
     },
     "execution_count": 6,
     "metadata": {},
     "output_type": "execute_result"
    }
   ],
   "source": [
    "x + x"
   ]
  },
  {
   "cell_type": "code",
   "execution_count": 10,
   "id": "9d4b1fbb",
   "metadata": {},
   "outputs": [],
   "source": [
    "y = 25"
   ]
  },
  {
   "cell_type": "code",
   "execution_count": 11,
   "id": "35a28195",
   "metadata": {},
   "outputs": [
    {
     "name": "stdout",
     "output_type": "stream",
     "text": [
      "100\n"
     ]
    }
   ],
   "source": [
    "print (x + y + y)"
   ]
  },
  {
   "cell_type": "code",
   "execution_count": 12,
   "id": "bccefb49",
   "metadata": {},
   "outputs": [],
   "source": [
    "z = 150"
   ]
  },
  {
   "cell_type": "code",
   "execution_count": 13,
   "id": "55aa4bc1",
   "metadata": {},
   "outputs": [
    {
     "data": {
      "text/plain": [
       "100"
      ]
     },
     "execution_count": 13,
     "metadata": {},
     "output_type": "execute_result"
    }
   ],
   "source": [
    "z - y - y"
   ]
  },
  {
   "cell_type": "markdown",
   "id": "7472b189",
   "metadata": {},
   "source": [
    "## b) Floating point variables"
   ]
  },
  {
   "cell_type": "code",
   "execution_count": 14,
   "id": "c975b96e",
   "metadata": {},
   "outputs": [],
   "source": [
    "a = 5.657"
   ]
  },
  {
   "cell_type": "code",
   "execution_count": 15,
   "id": "fc7614e3",
   "metadata": {},
   "outputs": [],
   "source": [
    "b = 100.5"
   ]
  },
  {
   "cell_type": "code",
   "execution_count": 16,
   "id": "66bb5ad8",
   "metadata": {},
   "outputs": [
    {
     "name": "stdout",
     "output_type": "stream",
     "text": [
      "17.765600141417714\n"
     ]
    }
   ],
   "source": [
    "print (b/a)"
   ]
  },
  {
   "cell_type": "markdown",
   "id": "c89db13a",
   "metadata": {},
   "source": [
    "## c) Short word made of separate strings"
   ]
  },
  {
   "cell_type": "code",
   "execution_count": 20,
   "id": "1ee3c714",
   "metadata": {},
   "outputs": [],
   "source": [
    "c = 'Manage'"
   ]
  },
  {
   "cell_type": "code",
   "execution_count": 18,
   "id": "90984ac5",
   "metadata": {},
   "outputs": [],
   "source": [
    "d = 'ment'"
   ]
  },
  {
   "cell_type": "code",
   "execution_count": 21,
   "id": "30620885",
   "metadata": {},
   "outputs": [
    {
     "data": {
      "text/plain": [
       "'Management'"
      ]
     },
     "execution_count": 21,
     "metadata": {},
     "output_type": "execute_result"
    }
   ],
   "source": [
    "c + d"
   ]
  },
  {
   "cell_type": "markdown",
   "id": "688599f5",
   "metadata": {},
   "source": [
    "## d) Two short sentences made of separate strings"
   ]
  },
  {
   "cell_type": "code",
   "execution_count": 22,
   "id": "642f76e5",
   "metadata": {},
   "outputs": [],
   "source": [
    "e = 'Where are '"
   ]
  },
  {
   "cell_type": "code",
   "execution_count": 23,
   "id": "643e4868",
   "metadata": {},
   "outputs": [],
   "source": [
    "f = 'you?'"
   ]
  },
  {
   "cell_type": "code",
   "execution_count": 25,
   "id": "4ee69cd6",
   "metadata": {},
   "outputs": [],
   "source": [
    "g = 'I am in'"
   ]
  },
  {
   "cell_type": "code",
   "execution_count": 26,
   "id": "a5974b78",
   "metadata": {},
   "outputs": [],
   "source": [
    "h = ' the '"
   ]
  },
  {
   "cell_type": "code",
   "execution_count": 27,
   "id": "826b1973",
   "metadata": {},
   "outputs": [],
   "source": [
    "i = 'office.'"
   ]
  },
  {
   "cell_type": "code",
   "execution_count": 29,
   "id": "db5c4dfc",
   "metadata": {},
   "outputs": [
    {
     "name": "stdout",
     "output_type": "stream",
     "text": [
      "Where are you?\n"
     ]
    }
   ],
   "source": [
    "print(e + f)"
   ]
  },
  {
   "cell_type": "code",
   "execution_count": 30,
   "id": "5e6e643e",
   "metadata": {},
   "outputs": [
    {
     "data": {
      "text/plain": [
       "'I am in the office.'"
      ]
     },
     "execution_count": 30,
     "metadata": {},
     "output_type": "execute_result"
    }
   ],
   "source": [
    "g + h + i"
   ]
  }
 ],
 "metadata": {
  "kernelspec": {
   "display_name": "Python 3 (ipykernel)",
   "language": "python",
   "name": "python3"
  },
  "language_info": {
   "codemirror_mode": {
    "name": "ipython",
    "version": 3
   },
   "file_extension": ".py",
   "mimetype": "text/x-python",
   "name": "python",
   "nbconvert_exporter": "python",
   "pygments_lexer": "ipython3",
   "version": "3.9.13"
  }
 },
 "nbformat": 4,
 "nbformat_minor": 5
}
